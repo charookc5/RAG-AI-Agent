{
  "nbformat": 4,
  "nbformat_minor": 0,
  "metadata": {
    "colab": {
      "provenance": [],
      "authorship_tag": "ABX9TyPg5+DAr48gcmZxuqI+K+u7",
      "include_colab_link": true
    },
    "kernelspec": {
      "name": "python3",
      "display_name": "Python 3"
    },
    "language_info": {
      "name": "python"
    }
  },
  "cells": [
    {
      "cell_type": "markdown",
      "metadata": {
        "id": "view-in-github",
        "colab_type": "text"
      },
      "source": [
        "<a href=\"https://colab.research.google.com/github/charookc5/RAG-AI-Agent/blob/main/RAG_AI_Agent.ipynb\" target=\"_parent\"><img src=\"https://colab.research.google.com/assets/colab-badge.svg\" alt=\"Open In Colab\"/></a>"
      ]
    },
    {
      "cell_type": "markdown",
      "source": [
        "INSTALLATION"
      ],
      "metadata": {
        "id": "0DIDydljn_QX"
      }
    },
    {
      "cell_type": "code",
      "execution_count": 72,
      "metadata": {
        "id": "D6cyB_6qwPvX"
      },
      "outputs": [],
      "source": [
        "!pip install -qU langchain langchain-openai langchain-community langchain-core"
      ]
    },
    {
      "cell_type": "code",
      "source": [
        "import os\n",
        "\n",
        "#OpenRouter key\n",
        "os.environ['OPENAI_API_KEY']= \"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\"\n",
        "\n",
        "## Redirect the OpenAI client to OpenRouter\n",
        "os.environ[\"OPENAI_API_BASE\"] = \"https://openrouter.ai/api/v1\""
      ],
      "metadata": {
        "id": "pPrkPltcoObk"
      },
      "execution_count": 73,
      "outputs": []
    },
    {
      "cell_type": "markdown",
      "source": [
        "Enable LANGSMITH tracing (for debugging, monitoring, and evaluating LLM workflows)"
      ],
      "metadata": {
        "id": "ENVTmcYsoBtp"
      }
    },
    {
      "cell_type": "code",
      "source": [
        "os.environ[\"LANGCHAIN_TRACING_V2\"]=\"true\"\n",
        "os.environ[\"LANGCHAIN_API_KEY\"]=\"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\"\n",
        "os.environ[\"LANGCHAIN_PROJECT\"]=\"langgraph-yt\"\n"
      ],
      "metadata": {
        "id": "tWuZ3vrRp18M"
      },
      "execution_count": 74,
      "outputs": []
    },
    {
      "cell_type": "code",
      "source": [
        "from langchain_openai import ChatOpenAI"
      ],
      "metadata": {
        "id": "zBx_jwgDrxOM"
      },
      "execution_count": 75,
      "outputs": []
    },
    {
      "cell_type": "markdown",
      "source": [
        "🔥 Temperature\n",
        "Controls randomness in output generation:\n",
        "\n",
        "Low temperature (e.g., 0.2) → more focused, predictable, and deterministic responses.\n",
        "\n",
        "High temperature (e.g., 0.8–1.5) → more creative, diverse, and exploratory outputs. It works by scaling the logits before applying softmax, influencing token selection probabilities2.\n",
        "\n",
        "🧮 Max Completion Tokens\n",
        "Sets the maximum number of tokens the model can generate in its response:\n",
        "\n",
        "Prevents runaway outputs or excessive verbosity.\n",
        "\n",
        "Useful for controlling cost, latency, and output length. For example, setting max_tokens=100 ensures the model stops after generating 100 tokens—even if the task isn’t fully complete"
      ],
      "metadata": {
        "id": "f-uXE9KlvKmJ"
      }
    },
    {
      "cell_type": "code",
      "source": [
        "#token shortage\n",
        "llm= ChatOpenAI(model=\"openai/gpt-4o\",temperature= 0.7, max_completion_tokens=100)\n"
      ],
      "metadata": {
        "id": "Yoj3TPaXr55H"
      },
      "execution_count": 76,
      "outputs": []
    },
    {
      "cell_type": "code",
      "source": [
        "llm= ChatOpenAI(model=\"meta-llama/llama-3.3-8b-instruct:free\",temperature= 0.7, max_completion_tokens=100)\n"
      ],
      "metadata": {
        "id": "_jJi4NTtAmEg"
      },
      "execution_count": 77,
      "outputs": []
    },
    {
      "cell_type": "code",
      "source": [
        "response= llm.invoke(\"what is AI?\")\n",
        "print(response.content)"
      ],
      "metadata": {
        "colab": {
          "base_uri": "https://localhost:8080/",
          "height": 339
        },
        "id": "6RYboJRBtc-9",
        "outputId": "5a4eb51d-7e3d-48bc-9963-904bf893e85d"
      },
      "execution_count": 103,
      "outputs": [
        {
          "output_type": "error",
          "ename": "RateLimitError",
          "evalue": "Error code: 429 - {'error': {'message': 'Rate limit exceeded: free-models-per-day. Add 10 credits to unlock 1000 free model requests per day', 'code': 429, 'metadata': {'headers': {'X-RateLimit-Limit': '50', 'X-RateLimit-Remaining': '0', 'X-RateLimit-Reset': '1757548800000'}, 'provider_name': None}}, 'user_id': 'user_32SObrnNoOgzc0TK8GDm92Gb1Mc'}",
          "traceback": [
            "\u001b[0;31m---------------------------------------------------------------------------\u001b[0m",
            "\u001b[0;31mRateLimitError\u001b[0m                            Traceback (most recent call last)",
            "\u001b[0;32m/tmp/ipython-input-390488852.py\u001b[0m in \u001b[0;36m<cell line: 0>\u001b[0;34m()\u001b[0m\n\u001b[0;32m----> 1\u001b[0;31m \u001b[0mresponse\u001b[0m\u001b[0;34m=\u001b[0m \u001b[0mllm\u001b[0m\u001b[0;34m.\u001b[0m\u001b[0minvoke\u001b[0m\u001b[0;34m(\u001b[0m\u001b[0;34m\"what is AI?\"\u001b[0m\u001b[0;34m)\u001b[0m\u001b[0;34m\u001b[0m\u001b[0;34m\u001b[0m\u001b[0m\n\u001b[0m\u001b[1;32m      2\u001b[0m \u001b[0mprint\u001b[0m\u001b[0;34m(\u001b[0m\u001b[0mresponse\u001b[0m\u001b[0;34m.\u001b[0m\u001b[0mcontent\u001b[0m\u001b[0;34m)\u001b[0m\u001b[0;34m\u001b[0m\u001b[0;34m\u001b[0m\u001b[0m\n",
            "\u001b[0;32m/usr/local/lib/python3.12/dist-packages/langchain_core/language_models/chat_models.py\u001b[0m in \u001b[0;36minvoke\u001b[0;34m(self, input, config, stop, **kwargs)\u001b[0m\n\u001b[1;32m    391\u001b[0m         return cast(\n\u001b[1;32m    392\u001b[0m             \u001b[0;34m\"ChatGeneration\"\u001b[0m\u001b[0;34m,\u001b[0m\u001b[0;34m\u001b[0m\u001b[0;34m\u001b[0m\u001b[0m\n\u001b[0;32m--> 393\u001b[0;31m             self.generate_prompt(\n\u001b[0m\u001b[1;32m    394\u001b[0m                 \u001b[0;34m[\u001b[0m\u001b[0mself\u001b[0m\u001b[0;34m.\u001b[0m\u001b[0m_convert_input\u001b[0m\u001b[0;34m(\u001b[0m\u001b[0minput\u001b[0m\u001b[0;34m)\u001b[0m\u001b[0;34m]\u001b[0m\u001b[0;34m,\u001b[0m\u001b[0;34m\u001b[0m\u001b[0;34m\u001b[0m\u001b[0m\n\u001b[1;32m    395\u001b[0m                 \u001b[0mstop\u001b[0m\u001b[0;34m=\u001b[0m\u001b[0mstop\u001b[0m\u001b[0;34m,\u001b[0m\u001b[0;34m\u001b[0m\u001b[0;34m\u001b[0m\u001b[0m\n",
            "\u001b[0;32m/usr/local/lib/python3.12/dist-packages/langchain_core/language_models/chat_models.py\u001b[0m in \u001b[0;36mgenerate_prompt\u001b[0;34m(self, prompts, stop, callbacks, **kwargs)\u001b[0m\n\u001b[1;32m   1017\u001b[0m     ) -> LLMResult:\n\u001b[1;32m   1018\u001b[0m         \u001b[0mprompt_messages\u001b[0m \u001b[0;34m=\u001b[0m \u001b[0;34m[\u001b[0m\u001b[0mp\u001b[0m\u001b[0;34m.\u001b[0m\u001b[0mto_messages\u001b[0m\u001b[0;34m(\u001b[0m\u001b[0;34m)\u001b[0m \u001b[0;32mfor\u001b[0m \u001b[0mp\u001b[0m \u001b[0;32min\u001b[0m \u001b[0mprompts\u001b[0m\u001b[0;34m]\u001b[0m\u001b[0;34m\u001b[0m\u001b[0;34m\u001b[0m\u001b[0m\n\u001b[0;32m-> 1019\u001b[0;31m         \u001b[0;32mreturn\u001b[0m \u001b[0mself\u001b[0m\u001b[0;34m.\u001b[0m\u001b[0mgenerate\u001b[0m\u001b[0;34m(\u001b[0m\u001b[0mprompt_messages\u001b[0m\u001b[0;34m,\u001b[0m \u001b[0mstop\u001b[0m\u001b[0;34m=\u001b[0m\u001b[0mstop\u001b[0m\u001b[0;34m,\u001b[0m \u001b[0mcallbacks\u001b[0m\u001b[0;34m=\u001b[0m\u001b[0mcallbacks\u001b[0m\u001b[0;34m,\u001b[0m \u001b[0;34m**\u001b[0m\u001b[0mkwargs\u001b[0m\u001b[0;34m)\u001b[0m\u001b[0;34m\u001b[0m\u001b[0;34m\u001b[0m\u001b[0m\n\u001b[0m\u001b[1;32m   1020\u001b[0m \u001b[0;34m\u001b[0m\u001b[0m\n\u001b[1;32m   1021\u001b[0m     \u001b[0;34m@\u001b[0m\u001b[0moverride\u001b[0m\u001b[0;34m\u001b[0m\u001b[0;34m\u001b[0m\u001b[0m\n",
            "\u001b[0;32m/usr/local/lib/python3.12/dist-packages/langchain_core/language_models/chat_models.py\u001b[0m in \u001b[0;36mgenerate\u001b[0;34m(self, messages, stop, callbacks, tags, metadata, run_name, run_id, **kwargs)\u001b[0m\n\u001b[1;32m    835\u001b[0m             \u001b[0;32mtry\u001b[0m\u001b[0;34m:\u001b[0m\u001b[0;34m\u001b[0m\u001b[0;34m\u001b[0m\u001b[0m\n\u001b[1;32m    836\u001b[0m                 results.append(\n\u001b[0;32m--> 837\u001b[0;31m                     self._generate_with_cache(\n\u001b[0m\u001b[1;32m    838\u001b[0m                         \u001b[0mm\u001b[0m\u001b[0;34m,\u001b[0m\u001b[0;34m\u001b[0m\u001b[0;34m\u001b[0m\u001b[0m\n\u001b[1;32m    839\u001b[0m                         \u001b[0mstop\u001b[0m\u001b[0;34m=\u001b[0m\u001b[0mstop\u001b[0m\u001b[0;34m,\u001b[0m\u001b[0;34m\u001b[0m\u001b[0;34m\u001b[0m\u001b[0m\n",
            "\u001b[0;32m/usr/local/lib/python3.12/dist-packages/langchain_core/language_models/chat_models.py\u001b[0m in \u001b[0;36m_generate_with_cache\u001b[0;34m(self, messages, stop, run_manager, **kwargs)\u001b[0m\n\u001b[1;32m   1083\u001b[0m             \u001b[0mresult\u001b[0m \u001b[0;34m=\u001b[0m \u001b[0mgenerate_from_stream\u001b[0m\u001b[0;34m(\u001b[0m\u001b[0miter\u001b[0m\u001b[0;34m(\u001b[0m\u001b[0mchunks\u001b[0m\u001b[0;34m)\u001b[0m\u001b[0;34m)\u001b[0m\u001b[0;34m\u001b[0m\u001b[0;34m\u001b[0m\u001b[0m\n\u001b[1;32m   1084\u001b[0m         \u001b[0;32melif\u001b[0m \u001b[0minspect\u001b[0m\u001b[0;34m.\u001b[0m\u001b[0msignature\u001b[0m\u001b[0;34m(\u001b[0m\u001b[0mself\u001b[0m\u001b[0;34m.\u001b[0m\u001b[0m_generate\u001b[0m\u001b[0;34m)\u001b[0m\u001b[0;34m.\u001b[0m\u001b[0mparameters\u001b[0m\u001b[0;34m.\u001b[0m\u001b[0mget\u001b[0m\u001b[0;34m(\u001b[0m\u001b[0;34m\"run_manager\"\u001b[0m\u001b[0;34m)\u001b[0m\u001b[0;34m:\u001b[0m\u001b[0;34m\u001b[0m\u001b[0;34m\u001b[0m\u001b[0m\n\u001b[0;32m-> 1085\u001b[0;31m             result = self._generate(\n\u001b[0m\u001b[1;32m   1086\u001b[0m                 \u001b[0mmessages\u001b[0m\u001b[0;34m,\u001b[0m \u001b[0mstop\u001b[0m\u001b[0;34m=\u001b[0m\u001b[0mstop\u001b[0m\u001b[0;34m,\u001b[0m \u001b[0mrun_manager\u001b[0m\u001b[0;34m=\u001b[0m\u001b[0mrun_manager\u001b[0m\u001b[0;34m,\u001b[0m \u001b[0;34m**\u001b[0m\u001b[0mkwargs\u001b[0m\u001b[0;34m\u001b[0m\u001b[0;34m\u001b[0m\u001b[0m\n\u001b[1;32m   1087\u001b[0m             )\n",
            "\u001b[0;32m/usr/local/lib/python3.12/dist-packages/langchain_openai/chat_models/base.py\u001b[0m in \u001b[0;36m_generate\u001b[0;34m(self, messages, stop, run_manager, **kwargs)\u001b[0m\n\u001b[1;32m   1181\u001b[0m             \u001b[0;32mif\u001b[0m \u001b[0mraw_response\u001b[0m \u001b[0;32mis\u001b[0m \u001b[0;32mnot\u001b[0m \u001b[0;32mNone\u001b[0m \u001b[0;32mand\u001b[0m \u001b[0mhasattr\u001b[0m\u001b[0;34m(\u001b[0m\u001b[0mraw_response\u001b[0m\u001b[0;34m,\u001b[0m \u001b[0;34m\"http_response\"\u001b[0m\u001b[0;34m)\u001b[0m\u001b[0;34m:\u001b[0m\u001b[0;34m\u001b[0m\u001b[0;34m\u001b[0m\u001b[0m\n\u001b[1;32m   1182\u001b[0m                 \u001b[0me\u001b[0m\u001b[0;34m.\u001b[0m\u001b[0mresponse\u001b[0m \u001b[0;34m=\u001b[0m \u001b[0mraw_response\u001b[0m\u001b[0;34m.\u001b[0m\u001b[0mhttp_response\u001b[0m  \u001b[0;31m# type: ignore[attr-defined]\u001b[0m\u001b[0;34m\u001b[0m\u001b[0;34m\u001b[0m\u001b[0m\n\u001b[0;32m-> 1183\u001b[0;31m             \u001b[0;32mraise\u001b[0m \u001b[0me\u001b[0m\u001b[0;34m\u001b[0m\u001b[0;34m\u001b[0m\u001b[0m\n\u001b[0m\u001b[1;32m   1184\u001b[0m         if (\n\u001b[1;32m   1185\u001b[0m             \u001b[0mself\u001b[0m\u001b[0;34m.\u001b[0m\u001b[0minclude_response_headers\u001b[0m\u001b[0;34m\u001b[0m\u001b[0;34m\u001b[0m\u001b[0m\n",
            "\u001b[0;32m/usr/local/lib/python3.12/dist-packages/langchain_openai/chat_models/base.py\u001b[0m in \u001b[0;36m_generate\u001b[0;34m(self, messages, stop, run_manager, **kwargs)\u001b[0m\n\u001b[1;32m   1176\u001b[0m                 )\n\u001b[1;32m   1177\u001b[0m             \u001b[0;32melse\u001b[0m\u001b[0;34m:\u001b[0m\u001b[0;34m\u001b[0m\u001b[0;34m\u001b[0m\u001b[0m\n\u001b[0;32m-> 1178\u001b[0;31m                 \u001b[0mraw_response\u001b[0m \u001b[0;34m=\u001b[0m \u001b[0mself\u001b[0m\u001b[0;34m.\u001b[0m\u001b[0mclient\u001b[0m\u001b[0;34m.\u001b[0m\u001b[0mwith_raw_response\u001b[0m\u001b[0;34m.\u001b[0m\u001b[0mcreate\u001b[0m\u001b[0;34m(\u001b[0m\u001b[0;34m**\u001b[0m\u001b[0mpayload\u001b[0m\u001b[0;34m)\u001b[0m\u001b[0;34m\u001b[0m\u001b[0;34m\u001b[0m\u001b[0m\n\u001b[0m\u001b[1;32m   1179\u001b[0m                 \u001b[0mresponse\u001b[0m \u001b[0;34m=\u001b[0m \u001b[0mraw_response\u001b[0m\u001b[0;34m.\u001b[0m\u001b[0mparse\u001b[0m\u001b[0;34m(\u001b[0m\u001b[0;34m)\u001b[0m\u001b[0;34m\u001b[0m\u001b[0;34m\u001b[0m\u001b[0m\n\u001b[1;32m   1180\u001b[0m         \u001b[0;32mexcept\u001b[0m \u001b[0mException\u001b[0m \u001b[0;32mas\u001b[0m \u001b[0me\u001b[0m\u001b[0;34m:\u001b[0m\u001b[0;34m\u001b[0m\u001b[0;34m\u001b[0m\u001b[0m\n",
            "\u001b[0;32m/usr/local/lib/python3.12/dist-packages/openai/_legacy_response.py\u001b[0m in \u001b[0;36mwrapped\u001b[0;34m(*args, **kwargs)\u001b[0m\n\u001b[1;32m    362\u001b[0m         \u001b[0mkwargs\u001b[0m\u001b[0;34m[\u001b[0m\u001b[0;34m\"extra_headers\"\u001b[0m\u001b[0;34m]\u001b[0m \u001b[0;34m=\u001b[0m \u001b[0mextra_headers\u001b[0m\u001b[0;34m\u001b[0m\u001b[0;34m\u001b[0m\u001b[0m\n\u001b[1;32m    363\u001b[0m \u001b[0;34m\u001b[0m\u001b[0m\n\u001b[0;32m--> 364\u001b[0;31m         \u001b[0;32mreturn\u001b[0m \u001b[0mcast\u001b[0m\u001b[0;34m(\u001b[0m\u001b[0mLegacyAPIResponse\u001b[0m\u001b[0;34m[\u001b[0m\u001b[0mR\u001b[0m\u001b[0;34m]\u001b[0m\u001b[0;34m,\u001b[0m \u001b[0mfunc\u001b[0m\u001b[0;34m(\u001b[0m\u001b[0;34m*\u001b[0m\u001b[0margs\u001b[0m\u001b[0;34m,\u001b[0m \u001b[0;34m**\u001b[0m\u001b[0mkwargs\u001b[0m\u001b[0;34m)\u001b[0m\u001b[0;34m)\u001b[0m\u001b[0;34m\u001b[0m\u001b[0;34m\u001b[0m\u001b[0m\n\u001b[0m\u001b[1;32m    365\u001b[0m \u001b[0;34m\u001b[0m\u001b[0m\n\u001b[1;32m    366\u001b[0m     \u001b[0;32mreturn\u001b[0m \u001b[0mwrapped\u001b[0m\u001b[0;34m\u001b[0m\u001b[0;34m\u001b[0m\u001b[0m\n",
            "\u001b[0;32m/usr/local/lib/python3.12/dist-packages/openai/_utils/_utils.py\u001b[0m in \u001b[0;36mwrapper\u001b[0;34m(*args, **kwargs)\u001b[0m\n\u001b[1;32m    284\u001b[0m                         \u001b[0mmsg\u001b[0m \u001b[0;34m=\u001b[0m \u001b[0;34mf\"Missing required argument: {quote(missing[0])}\"\u001b[0m\u001b[0;34m\u001b[0m\u001b[0;34m\u001b[0m\u001b[0m\n\u001b[1;32m    285\u001b[0m                 \u001b[0;32mraise\u001b[0m \u001b[0mTypeError\u001b[0m\u001b[0;34m(\u001b[0m\u001b[0mmsg\u001b[0m\u001b[0;34m)\u001b[0m\u001b[0;34m\u001b[0m\u001b[0;34m\u001b[0m\u001b[0m\n\u001b[0;32m--> 286\u001b[0;31m             \u001b[0;32mreturn\u001b[0m \u001b[0mfunc\u001b[0m\u001b[0;34m(\u001b[0m\u001b[0;34m*\u001b[0m\u001b[0margs\u001b[0m\u001b[0;34m,\u001b[0m \u001b[0;34m**\u001b[0m\u001b[0mkwargs\u001b[0m\u001b[0;34m)\u001b[0m\u001b[0;34m\u001b[0m\u001b[0;34m\u001b[0m\u001b[0m\n\u001b[0m\u001b[1;32m    287\u001b[0m \u001b[0;34m\u001b[0m\u001b[0m\n\u001b[1;32m    288\u001b[0m         \u001b[0;32mreturn\u001b[0m \u001b[0mwrapper\u001b[0m  \u001b[0;31m# type: ignore\u001b[0m\u001b[0;34m\u001b[0m\u001b[0;34m\u001b[0m\u001b[0m\n",
            "\u001b[0;32m/usr/local/lib/python3.12/dist-packages/openai/resources/chat/completions/completions.py\u001b[0m in \u001b[0;36mcreate\u001b[0;34m(self, messages, model, audio, frequency_penalty, function_call, functions, logit_bias, logprobs, max_completion_tokens, max_tokens, metadata, modalities, n, parallel_tool_calls, prediction, presence_penalty, prompt_cache_key, reasoning_effort, response_format, safety_identifier, seed, service_tier, stop, store, stream, stream_options, temperature, tool_choice, tools, top_logprobs, top_p, user, verbosity, web_search_options, extra_headers, extra_query, extra_body, timeout)\u001b[0m\n\u001b[1;32m   1145\u001b[0m     ) -> ChatCompletion | Stream[ChatCompletionChunk]:\n\u001b[1;32m   1146\u001b[0m         \u001b[0mvalidate_response_format\u001b[0m\u001b[0;34m(\u001b[0m\u001b[0mresponse_format\u001b[0m\u001b[0;34m)\u001b[0m\u001b[0;34m\u001b[0m\u001b[0;34m\u001b[0m\u001b[0m\n\u001b[0;32m-> 1147\u001b[0;31m         return self._post(\n\u001b[0m\u001b[1;32m   1148\u001b[0m             \u001b[0;34m\"/chat/completions\"\u001b[0m\u001b[0;34m,\u001b[0m\u001b[0;34m\u001b[0m\u001b[0;34m\u001b[0m\u001b[0m\n\u001b[1;32m   1149\u001b[0m             body=maybe_transform(\n",
            "\u001b[0;32m/usr/local/lib/python3.12/dist-packages/openai/_base_client.py\u001b[0m in \u001b[0;36mpost\u001b[0;34m(self, path, cast_to, body, options, files, stream, stream_cls)\u001b[0m\n\u001b[1;32m   1257\u001b[0m             \u001b[0mmethod\u001b[0m\u001b[0;34m=\u001b[0m\u001b[0;34m\"post\"\u001b[0m\u001b[0;34m,\u001b[0m \u001b[0murl\u001b[0m\u001b[0;34m=\u001b[0m\u001b[0mpath\u001b[0m\u001b[0;34m,\u001b[0m \u001b[0mjson_data\u001b[0m\u001b[0;34m=\u001b[0m\u001b[0mbody\u001b[0m\u001b[0;34m,\u001b[0m \u001b[0mfiles\u001b[0m\u001b[0;34m=\u001b[0m\u001b[0mto_httpx_files\u001b[0m\u001b[0;34m(\u001b[0m\u001b[0mfiles\u001b[0m\u001b[0;34m)\u001b[0m\u001b[0;34m,\u001b[0m \u001b[0;34m**\u001b[0m\u001b[0moptions\u001b[0m\u001b[0;34m\u001b[0m\u001b[0;34m\u001b[0m\u001b[0m\n\u001b[1;32m   1258\u001b[0m         )\n\u001b[0;32m-> 1259\u001b[0;31m         \u001b[0;32mreturn\u001b[0m \u001b[0mcast\u001b[0m\u001b[0;34m(\u001b[0m\u001b[0mResponseT\u001b[0m\u001b[0;34m,\u001b[0m \u001b[0mself\u001b[0m\u001b[0;34m.\u001b[0m\u001b[0mrequest\u001b[0m\u001b[0;34m(\u001b[0m\u001b[0mcast_to\u001b[0m\u001b[0;34m,\u001b[0m \u001b[0mopts\u001b[0m\u001b[0;34m,\u001b[0m \u001b[0mstream\u001b[0m\u001b[0;34m=\u001b[0m\u001b[0mstream\u001b[0m\u001b[0;34m,\u001b[0m \u001b[0mstream_cls\u001b[0m\u001b[0;34m=\u001b[0m\u001b[0mstream_cls\u001b[0m\u001b[0;34m)\u001b[0m\u001b[0;34m)\u001b[0m\u001b[0;34m\u001b[0m\u001b[0;34m\u001b[0m\u001b[0m\n\u001b[0m\u001b[1;32m   1260\u001b[0m \u001b[0;34m\u001b[0m\u001b[0m\n\u001b[1;32m   1261\u001b[0m     def patch(\n",
            "\u001b[0;32m/usr/local/lib/python3.12/dist-packages/openai/_base_client.py\u001b[0m in \u001b[0;36mrequest\u001b[0;34m(self, cast_to, options, stream, stream_cls)\u001b[0m\n\u001b[1;32m   1045\u001b[0m \u001b[0;34m\u001b[0m\u001b[0m\n\u001b[1;32m   1046\u001b[0m                 \u001b[0mlog\u001b[0m\u001b[0;34m.\u001b[0m\u001b[0mdebug\u001b[0m\u001b[0;34m(\u001b[0m\u001b[0;34m\"Re-raising status error\"\u001b[0m\u001b[0;34m)\u001b[0m\u001b[0;34m\u001b[0m\u001b[0;34m\u001b[0m\u001b[0m\n\u001b[0;32m-> 1047\u001b[0;31m                 \u001b[0;32mraise\u001b[0m \u001b[0mself\u001b[0m\u001b[0;34m.\u001b[0m\u001b[0m_make_status_error_from_response\u001b[0m\u001b[0;34m(\u001b[0m\u001b[0merr\u001b[0m\u001b[0;34m.\u001b[0m\u001b[0mresponse\u001b[0m\u001b[0;34m)\u001b[0m \u001b[0;32mfrom\u001b[0m \u001b[0;32mNone\u001b[0m\u001b[0;34m\u001b[0m\u001b[0;34m\u001b[0m\u001b[0m\n\u001b[0m\u001b[1;32m   1048\u001b[0m \u001b[0;34m\u001b[0m\u001b[0m\n\u001b[1;32m   1049\u001b[0m             \u001b[0;32mbreak\u001b[0m\u001b[0;34m\u001b[0m\u001b[0;34m\u001b[0m\u001b[0m\n",
            "\u001b[0;31mRateLimitError\u001b[0m: Error code: 429 - {'error': {'message': 'Rate limit exceeded: free-models-per-day. Add 10 credits to unlock 1000 free model requests per day', 'code': 429, 'metadata': {'headers': {'X-RateLimit-Limit': '50', 'X-RateLimit-Remaining': '0', 'X-RateLimit-Reset': '1757548800000'}, 'provider_name': None}}, 'user_id': 'user_32SObrnNoOgzc0TK8GDm92Gb1Mc'}"
          ]
        }
      ]
    },
    {
      "cell_type": "code",
      "source": [
        "from langchain_core.messages import HumanMessage, SystemMessage\n",
        "\n",
        "messages=[\n",
        "    SystemMessage(content=\"You are a helpful AI assistant that explains comples topics simply with easy example.\"),\n",
        "    HumanMessage(content=\"Explain RAG in 3 lines \")\n",
        "]\n",
        "\n",
        "response=llm.invoke(messages)\n",
        "print(response.content)\n"
      ],
      "metadata": {
        "colab": {
          "base_uri": "https://localhost:8080/"
        },
        "id": "zSbNPeOMtqu5",
        "outputId": "1933c9ed-2285-41a8-e74e-397c5e5e2ee3"
      },
      "execution_count": 24,
      "outputs": [
        {
          "output_type": "stream",
          "name": "stdout",
          "text": [
            "RAG stands for Retrieval-Augmented Generation, a technique that uses a database or knowledge base to help generate text or answers. It works by retrieving relevant information from the database and then using that information to generate a response. For example, if you ask a RAG model to describe a city, it would retrieve information about the city from its database and then use that information to write a detailed description.\n"
          ]
        }
      ]
    },
    {
      "cell_type": "markdown",
      "source": [
        "LLM WITH TOOLS"
      ],
      "metadata": {
        "id": "kdpXIbykvf_9"
      }
    },
    {
      "cell_type": "code",
      "source": [
        "#duckduckgo-search lets you search the web from Python code—like asking DuckDuckGo for links, images, or news and getting results back as data\n",
        "!pip install -qU duckduckgo-search"
      ],
      "metadata": {
        "id": "5mEhtsMduzSD"
      },
      "execution_count": 31,
      "outputs": []
    },
    {
      "cell_type": "code",
      "source": [
        "!pip install -U ddgs"
      ],
      "metadata": {
        "colab": {
          "base_uri": "https://localhost:8080/"
        },
        "id": "xcS6SCfAW8B-",
        "outputId": "cfda0c56-86a7-4f6f-b246-243727e741e3"
      },
      "execution_count": 34,
      "outputs": [
        {
          "output_type": "stream",
          "name": "stdout",
          "text": [
            "Collecting ddgs\n",
            "  Downloading ddgs-9.5.5-py3-none-any.whl.metadata (18 kB)\n",
            "Requirement already satisfied: click>=8.1.8 in /usr/local/lib/python3.12/dist-packages (from ddgs) (8.2.1)\n",
            "Requirement already satisfied: primp>=0.15.0 in /usr/local/lib/python3.12/dist-packages (from ddgs) (0.15.0)\n",
            "Collecting lxml>=6.0.0 (from ddgs)\n",
            "  Downloading lxml-6.0.1-cp312-cp312-manylinux_2_26_x86_64.manylinux_2_28_x86_64.whl.metadata (3.8 kB)\n",
            "Downloading ddgs-9.5.5-py3-none-any.whl (37 kB)\n",
            "Downloading lxml-6.0.1-cp312-cp312-manylinux_2_26_x86_64.manylinux_2_28_x86_64.whl (5.3 MB)\n",
            "\u001b[2K   \u001b[90m━━━━━━━━━━━━━━━━━━━━━━━━━━━━━━━━━━━━━━━━\u001b[0m \u001b[32m5.3/5.3 MB\u001b[0m \u001b[31m50.6 MB/s\u001b[0m eta \u001b[36m0:00:00\u001b[0m\n",
            "\u001b[?25hInstalling collected packages: lxml, ddgs\n",
            "  Attempting uninstall: lxml\n",
            "    Found existing installation: lxml 5.4.0\n",
            "    Uninstalling lxml-5.4.0:\n",
            "      Successfully uninstalled lxml-5.4.0\n",
            "Successfully installed ddgs-9.5.5 lxml-6.0.1\n"
          ]
        }
      ]
    },
    {
      "cell_type": "code",
      "source": [
        "# https://python.langchain.com/docs/integrations/tools/ddg/\n",
        "from langchain_core.tools import tool\n",
        "from langchain_community.tools import DuckDuckGoSearchRun"
      ],
      "metadata": {
        "id": "L4Y1m7DTwE8R"
      },
      "execution_count": 35,
      "outputs": []
    },
    {
      "cell_type": "code",
      "source": [
        "#this code sets up a calculator and a search tool, binds them to the language model, and then demonstrates how the model can use the calculator tool to answer a mathematical question.\n",
        "\n",
        "@tool\n",
        "def calculator(expression: str) -> str:\n",
        "  \"\"\"Evaluates a mathematical expression and returns the result.\"\"\"\n",
        "  try:\n",
        "        result = eval(expression)\n",
        "        return f\"The result of {expression} is {result}\"\n",
        "  except Exception as e:\n",
        "        return f\"Error calculating {expression}: {str(e)}\"\n",
        "\n",
        "search_tool= DuckDuckGoSearchRun()\n",
        "\n",
        "#binding tool to LLM\n",
        "\n",
        "tools=[calculator, search_tool]\n",
        "llm_with_tools= llm.bind_tools(tools)\n",
        "\n",
        "#testing calci\n",
        "\n",
        "print(\"testing calculator tool..\")\n",
        "response= llm_with_tools.invoke(\"whats 5 + 78 - 54\")\n",
        "print(f\"Response={response.content}\")\n",
        "response"
      ],
      "metadata": {
        "colab": {
          "base_uri": "https://localhost:8080/"
        },
        "id": "jnc3Nf_UwhtT",
        "outputId": "724791c9-5356-4055-f712-d1ac128dea84"
      },
      "execution_count": 36,
      "outputs": [
        {
          "output_type": "stream",
          "name": "stdout",
          "text": [
            "testing calculator tool..\n",
            "Response=\n"
          ]
        },
        {
          "output_type": "execute_result",
          "data": {
            "text/plain": [
              "AIMessage(content='', additional_kwargs={'tool_calls': [{'id': 'ea678725-daa1-41c9-b6cd-32b33cd96da7', 'function': {'arguments': '{\"expression\":\"5 + 78 - 54\"}', 'name': 'calculator'}, 'type': 'function', 'index': 0}], 'refusal': None}, response_metadata={'token_usage': {'completion_tokens': 13, 'prompt_tokens': 284, 'total_tokens': 297, 'completion_tokens_details': None, 'prompt_tokens_details': None}, 'model_name': 'meta-llama/llama-3.3-8b-instruct:free', 'system_fingerprint': None, 'id': 'gen-1757486512-eXZVCkLHg0fKrKXMuTWO', 'service_tier': None, 'finish_reason': 'tool_calls', 'logprobs': None}, id='run--69e134ab-c510-4fb8-961c-c63b8e05b8dc-0', tool_calls=[{'name': 'calculator', 'args': {'expression': '5 + 78 - 54'}, 'id': 'ea678725-daa1-41c9-b6cd-32b33cd96da7', 'type': 'tool_call'}], usage_metadata={'input_tokens': 284, 'output_tokens': 13, 'total_tokens': 297, 'input_token_details': {}, 'output_token_details': {}})"
            ]
          },
          "metadata": {},
          "execution_count": 36
        }
      ]
    },
    {
      "cell_type": "code",
      "source": [
        "#mapping tool names to tool objects for dynamic execution\n",
        "\n",
        "tool_map={\n",
        "    'calculator': calculator,\n",
        "    'duckduckgo_search': search_tool,\n",
        "}\n",
        "\n",
        "def handle_tool_calls(response, tool_map):\n",
        "  if not getattr(response, 'tool_calls', None):\n",
        "    return\n",
        "\n",
        "print(f\"Tool calls requested: {len(response.tool_calls)}\")\n",
        "for tool_call in response.tool_calls:\n",
        "  tool_name= tool_call['name']\n",
        "  args= tool_call['args']\n",
        "  print(f\"Tool: {tool_name}\")\n",
        "  print(f\"Args: {args}\")\n",
        "\n",
        "  tool= tool_map.get(tool_name)\n",
        "  if tool:\n",
        "     result= tool.invoke(args)\n",
        "     preview= result[:200] + \"...\" if isinstance(result, str) and len(result) > 200 else result\n",
        "     print(f\"tool result: {preview}\")\n",
        "\n"
      ],
      "metadata": {
        "id": "60O799m035Ih",
        "colab": {
          "base_uri": "https://localhost:8080/"
        },
        "outputId": "8ba5672a-f13f-43a5-dccb-c29bcbe4930d"
      },
      "execution_count": 37,
      "outputs": [
        {
          "output_type": "stream",
          "name": "stdout",
          "text": [
            "Tool calls requested: 1\n",
            "Tool: calculator\n",
            "Args: {'expression': '5 + 78 - 54'}\n",
            "tool result: The result of 5 + 78 - 54 is 29\n"
          ]
        }
      ]
    },
    {
      "cell_type": "code",
      "source": [
        "#REDO ASK SHAKSHI\n",
        "\n",
        "def test_llm_tool(query):\n",
        "    print(f\"Query: {query}\")\n",
        "    response = llm_with_tools.invoke(query)\n",
        "    print(f\"Response: {getattr(response, 'content', response)}\")\n",
        "    handle_tool_calls(response, tool_map)\n",
        "    print(\"\\n\")\n",
        "\n",
        "test_llm_tool(\"What's 25 * 4 + 17?\")\n",
        "test_llm_tool(\"Search for recent news about artificial intelligence\")"
      ],
      "metadata": {
        "colab": {
          "base_uri": "https://localhost:8080/"
        },
        "id": "BfmiPTTC-9ns",
        "outputId": "765a383d-d780-4829-9f84-9defec0e6d93"
      },
      "execution_count": 38,
      "outputs": [
        {
          "output_type": "stream",
          "name": "stdout",
          "text": [
            "Query: What's 25 * 4 + 17?\n",
            "Response: \n",
            "\n",
            "\n",
            "Query: Search for recent news about artificial intelligence\n",
            "Response: \n",
            "\n",
            "\n"
          ]
        }
      ]
    },
    {
      "cell_type": "code",
      "source": [
        "#REDO ASK SHAKSHI\n",
        "\n",
        "def test_llm_tool(query):\n",
        "    print(f\"\\n🔍 Query: {query}\")\n",
        "\n",
        "    # Invoke the LLM with tools\n",
        "    response = llm_with_tools.invoke(query)\n",
        "\n",
        "    # Inspect raw response structure\n",
        "    print(f\"📦 Raw response: {response}\")\n",
        "\n",
        "    # Try to extract content if available\n",
        "    content = getattr(response, 'content', None)\n",
        "    if content:\n",
        "        print(f\"💬 Response content: {content}\")\n",
        "    else:\n",
        "        print(\"⚠️ No content found in response.\")\n",
        "\n",
        "    # Handle tool calls and print result\n",
        "    result = handle_tool_calls(response, tool_map)\n",
        "    if result:\n",
        "        print(f\"🛠️ Tool result: {result}\")\n",
        "    else:\n",
        "        print(\"⚠️ No tool result returned.\")\n",
        "    print(\"\\n\" + \"-\"*50 + \"\\n\")\n",
        "\n",
        "# Example queries\n",
        "test_llm_tool(\"What's 25 * 4 + 17?\")\n",
        "test_llm_tool(\"Search for recent news about artificial intelligence\")\n"
      ],
      "metadata": {
        "colab": {
          "base_uri": "https://localhost:8080/"
        },
        "id": "4pK3B_tWDgbD",
        "outputId": "6b3e2655-db25-4a9b-cee8-ab41eb13fe04"
      },
      "execution_count": 39,
      "outputs": [
        {
          "output_type": "stream",
          "name": "stdout",
          "text": [
            "\n",
            "🔍 Query: What's 25 * 4 + 17?\n",
            "📦 Raw response: content='' additional_kwargs={'tool_calls': [{'id': '7a885bcd-5cf7-4b4f-9d34-5e6e7b11b592', 'function': {'arguments': '{\"expression\":\"25 * 4 + 17\"}', 'name': 'calculator'}, 'type': 'function', 'index': 0}], 'refusal': None} response_metadata={'token_usage': {'completion_tokens': 13, 'prompt_tokens': 285, 'total_tokens': 298, 'completion_tokens_details': None, 'prompt_tokens_details': None}, 'model_name': 'meta-llama/llama-3.3-8b-instruct:free', 'system_fingerprint': None, 'id': 'gen-1757486522-Awkch7UhFxxkADbZAxvs', 'service_tier': None, 'finish_reason': 'tool_calls', 'logprobs': None} id='run--428aa762-72b6-4962-bb17-9f3c589c0759-0' tool_calls=[{'name': 'calculator', 'args': {'expression': '25 * 4 + 17'}, 'id': '7a885bcd-5cf7-4b4f-9d34-5e6e7b11b592', 'type': 'tool_call'}] usage_metadata={'input_tokens': 285, 'output_tokens': 13, 'total_tokens': 298, 'input_token_details': {}, 'output_token_details': {}}\n",
            "⚠️ No content found in response.\n",
            "⚠️ No tool result returned.\n",
            "\n",
            "--------------------------------------------------\n",
            "\n",
            "\n",
            "🔍 Query: Search for recent news about artificial intelligence\n",
            "📦 Raw response: content='' additional_kwargs={'tool_calls': [{'id': '55d9d1be-8458-4b6b-ba39-399601c1dba0', 'function': {'arguments': '{\"query\":\"artificial intelligence recent news\"}', 'name': 'duckduckgo_search'}, 'type': 'function', 'index': 0}], 'refusal': None} response_metadata={'token_usage': {'completion_tokens': 14, 'prompt_tokens': 281, 'total_tokens': 295, 'completion_tokens_details': None, 'prompt_tokens_details': None}, 'model_name': 'meta-llama/llama-3.3-8b-instruct:free', 'system_fingerprint': None, 'id': 'gen-1757486523-3iVyXEqrdoqrYXg1meaS', 'service_tier': None, 'finish_reason': 'tool_calls', 'logprobs': None} id='run--4a4c5907-6901-489d-92a4-cf80e726df48-0' tool_calls=[{'name': 'duckduckgo_search', 'args': {'query': 'artificial intelligence recent news'}, 'id': '55d9d1be-8458-4b6b-ba39-399601c1dba0', 'type': 'tool_call'}] usage_metadata={'input_tokens': 281, 'output_tokens': 14, 'total_tokens': 295, 'input_token_details': {}, 'output_token_details': {}}\n",
            "⚠️ No content found in response.\n",
            "⚠️ No tool result returned.\n",
            "\n",
            "--------------------------------------------------\n",
            "\n"
          ]
        }
      ]
    },
    {
      "cell_type": "code",
      "metadata": {
        "colab": {
          "base_uri": "https://localhost:8080/"
        },
        "id": "d7975723",
        "outputId": "c1a972cd-a4ce-4355-da1c-981bd5289942"
      },
      "source": [
        "from langchain_core.messages import HumanMessage, AIMessage, ToolMessage\n",
        "\n",
        "def get_final_answer(query, llm_with_tools, tool_map):\n",
        "  print(f\"Initial Query: {query}\")\n",
        "  # Step 1: Invoke the model with the initial query\n",
        "  response = llm_with_tools.invoke(query)\n",
        "  print(f\"Model's initial response (may contain tool calls): {response}\")\n",
        "\n",
        "  # Check if the model requested tool calls\n",
        "  if not getattr(response, 'tool_calls', None):\n",
        "      # If no tool calls, the response content might be the answer or an intermediate thought\n",
        "      print(f\"No tool calls requested. Response content: {response.content}\")\n",
        "      return response.content # Return the content if no tools are called\n",
        "\n",
        "  # Step 2: Handle tool calls and get tool results\n",
        "  tool_messages = []\n",
        "  print(f\"\\nTool calls requested: {len(response.tool_calls)}\")\n",
        "  for tool_call in response.tool_calls:\n",
        "    tool_name = tool_call['name']\n",
        "    args = tool_call['args']\n",
        "    tool_call_id = tool_call['id'] # Get the tool call id\n",
        "\n",
        "    print(f\"  Tool: {tool_name}\")\n",
        "    print(f\"  Args: {args}\")\n",
        "\n",
        "    tool = tool_map.get(tool_name)\n",
        "    if tool:\n",
        "      try:\n",
        "        result = tool.invoke(args)\n",
        "        print(f\"  Tool result: {result}\")\n",
        "        # Step 3: Create a ToolMessage with the tool's output\n",
        "        tool_messages.append(ToolMessage(content=str(result), tool_call_id=tool_call_id))\n",
        "      except Exception as e:\n",
        "         error_message = f\"Error executing tool {tool_name}: {str(e)}\"\n",
        "         print(f\"  {error_message}\")\n",
        "         tool_messages.append(ToolMessage(content=error_message, tool_call_id=tool_call_id))\n",
        "    else:\n",
        "      error_message = f\"Tool {tool_name} not found in tool_map.\"\n",
        "      print(f\"  {error_message}\")\n",
        "      tool_messages.append(ToolMessage(content=error_message, tool_call_id=tool_call_id))\n",
        "\n",
        "\n",
        "  if tool_messages:\n",
        "      # Step 4: Send the original AI response and tool results back to the model\n",
        "      print(\"\\nSending tool results back to the model...\")\n",
        "      # Include the original AI response that requested the tool call and the ToolMessages\n",
        "      follow_up_messages = [response] + tool_messages\n",
        "      final_response = llm_with_tools.invoke(follow_up_messages)\n",
        "      print(f\"Model's final response: {final_response.content}\")\n",
        "      return final_response.content # Return the final answer\n",
        "  else:\n",
        "      return \"Could not get a result from tool execution.\"\n",
        "\n",
        "\n",
        "# Example Usage:\n",
        "tool_map = {\n",
        "    'calculator': calculator,\n",
        "    'duckduckgo_search': search_tool,\n",
        "}\n",
        "\n",
        "print(\"\\n--- Testing with Calculator Query ---\")\n",
        "final_answer_calc = get_final_answer(\"whats 25 * 4 + 17\", llm_with_tools, tool_map)\n",
        "print(f\"\\nFinal Answer (Calculator): {final_answer_calc}\")\n",
        "\n",
        "print(\"\\n--- Testing with Search Query ---\")\n",
        "final_answer_search = get_final_answer(\"Search for recent news about artificial intelligence\", llm_with_tools, tool_map)\n",
        "print(f\"\\nFinal Answer (Search): {final_answer_search}\")"
      ],
      "execution_count": 40,
      "outputs": [
        {
          "output_type": "stream",
          "name": "stdout",
          "text": [
            "\n",
            "--- Testing with Calculator Query ---\n",
            "Initial Query: whats 25 * 4 + 17\n",
            "Model's initial response (may contain tool calls): content='' additional_kwargs={'tool_calls': [{'id': '1e05e21b-e505-4e42-9dc0-8887b32836b2', 'function': {'arguments': '{\"expression\":\"25 * 4 + 17\"}', 'name': 'calculator'}, 'type': 'function', 'index': 0}], 'refusal': None} response_metadata={'token_usage': {'completion_tokens': 13, 'prompt_tokens': 284, 'total_tokens': 297, 'completion_tokens_details': None, 'prompt_tokens_details': None}, 'model_name': 'meta-llama/llama-3.3-8b-instruct:free', 'system_fingerprint': None, 'id': 'gen-1757486527-tqqTHHRhMewPcJ38LdX9', 'service_tier': None, 'finish_reason': 'tool_calls', 'logprobs': None} id='run--a735be90-bbe6-4fec-b91f-44f9f2535fa3-0' tool_calls=[{'name': 'calculator', 'args': {'expression': '25 * 4 + 17'}, 'id': '1e05e21b-e505-4e42-9dc0-8887b32836b2', 'type': 'tool_call'}] usage_metadata={'input_tokens': 284, 'output_tokens': 13, 'total_tokens': 297, 'input_token_details': {}, 'output_token_details': {}}\n",
            "\n",
            "Tool calls requested: 1\n",
            "  Tool: calculator\n",
            "  Args: {'expression': '25 * 4 + 17'}\n",
            "  Tool result: The result of 25 * 4 + 17 is 117\n",
            "\n",
            "Sending tool results back to the model...\n",
            "Model's final response: \n",
            "\n",
            "Final Answer (Calculator): \n",
            "\n",
            "--- Testing with Search Query ---\n",
            "Initial Query: Search for recent news about artificial intelligence\n",
            "Model's initial response (may contain tool calls): content='' additional_kwargs={'tool_calls': [{'id': '2e48d2f9-bd3c-49fd-9ac4-9f13173e0392', 'function': {'arguments': '{\"query\":\"artificial intelligence recent news\"}', 'name': 'duckduckgo_search'}, 'type': 'function', 'index': 0}], 'refusal': None} response_metadata={'token_usage': {'completion_tokens': 14, 'prompt_tokens': 281, 'total_tokens': 295, 'completion_tokens_details': None, 'prompt_tokens_details': None}, 'model_name': 'meta-llama/llama-3.3-8b-instruct:free', 'system_fingerprint': None, 'id': 'gen-1757486528-p9txxJm8BQUh69Gl9Enw', 'service_tier': None, 'finish_reason': 'tool_calls', 'logprobs': None} id='run--353fb451-072b-4ac7-8949-b4f634df4436-0' tool_calls=[{'name': 'duckduckgo_search', 'args': {'query': 'artificial intelligence recent news'}, 'id': '2e48d2f9-bd3c-49fd-9ac4-9f13173e0392', 'type': 'tool_call'}] usage_metadata={'input_tokens': 281, 'output_tokens': 14, 'total_tokens': 295, 'input_token_details': {}, 'output_token_details': {}}\n",
            "\n",
            "Tool calls requested: 1\n",
            "  Tool: duckduckgo_search\n",
            "  Args: {'query': 'artificial intelligence recent news'}\n",
            "  Tool result: 2 days ago - June 3, 2025 The effects of artificial intelligence on adolescents are nuanced and complex, according to a new report that calls on developers to prioritize features that protect young people from exploitation, ... ... June 2, 2025 Despite advances in machine vision, processing visual data requires substantial computing resources and energy, limiting deployment in edge devices. Now, researchers from Japan have developed a ... ... May 30, 2025 Students recently ... 1 hour ago - Browse Artificial intelligence (AI) news , research and analysis from The Conversation 4 days ago - When the chief executive of the Financial Times suggested at a media conference this summer that rival publishers might consider a “Nato for news ” alliance to strengthen negotiations with artificial intelligence companies there was a ripple of chuckles from attendees. 2 weeks ago - Explore AI news , insights and analysis from industry experts. Learn about evolving artificial intelligence advertising strategies and opportunities. 3 days ago - This episode explores why AI democratization, not just better benchmarks, is 2025's defining story . From 300x cost improvements to new use cases unlocked by accessible tools, we're witnessing a fundamental shift from scarce to abundant intelligence that every institution must navigate.\n",
            "\n",
            "Sending tool results back to the model...\n",
            "Model's final response: \n",
            "\n",
            "Final Answer (Search): \n"
          ]
        }
      ]
    },
    {
      "cell_type": "markdown",
      "source": [
        "STRUCTURED OUTPUT FROM LLM"
      ],
      "metadata": {
        "id": "oHzZZbu3Er7y"
      }
    },
    {
      "cell_type": "code",
      "source": [
        "#BaseModel creates validated data models\n",
        "#Field adds metadata\n",
        "#List/Optional define flexible type hints for lists and nullable fields\n",
        "\n",
        "from pydantic import BaseModel,Field\n",
        "from typing import List,Optional"
      ],
      "metadata": {
        "id": "n7G3L9E9EuyS"
      },
      "execution_count": 41,
      "outputs": []
    },
    {
      "cell_type": "code",
      "source": [
        "#Information about a person\n",
        "\n",
        "class PersonInfo(BaseModel):\n",
        "    name: str = Field(description=\"Full name of the person\")\n",
        "    age: Optional[int] = Field(description=\"Age of the person\")\n",
        "    occupation: str = Field(description=\"Person's job or profession\")\n",
        "    skills: List[str] = Field(description=\"List of skills or expertise\")\n",
        "\n",
        "\n",
        "structured_llm = llm.with_structured_output(PersonInfo)"
      ],
      "metadata": {
        "id": "eHFU92GlE5-O"
      },
      "execution_count": 42,
      "outputs": []
    },
    {
      "cell_type": "code",
      "source": [
        "# Test with person information\n",
        "print(\"Testing Structured Output - Person Info:\")\n",
        "person_prompt = \"\"\"\n",
        "Extract information about this person:\n",
        "\"Charoo is a 22-year-old AI intern who works at Rumsan.\n",
        "She enjoys machine learning and Python programming.\n",
        "Charoo is passionate about AI research.\"\n",
        "\"\"\"\n",
        "\n",
        "person_result = structured_llm.invoke(person_prompt)\n",
        "print(f\"Name: {person_result.name}\")\n",
        "print(f\"Age: {person_result.age}\")\n",
        "print(f\"Occupation: {person_result.occupation}\")\n",
        "print(f\"Skills: {', '.join(person_result.skills)}\")"
      ],
      "metadata": {
        "colab": {
          "base_uri": "https://localhost:8080/"
        },
        "id": "gpmzVI4SFD8x",
        "outputId": "5d5009ee-39e7-4d0a-ad9f-05e154e31e57"
      },
      "execution_count": 43,
      "outputs": [
        {
          "output_type": "stream",
          "name": "stdout",
          "text": [
            "Testing Structured Output - Person Info:\n",
            "Name: Charoo\n",
            "Age: 22\n",
            "Occupation: AI intern at Rumsan\n",
            "Skills: machine learning, Python programming, AI research\n"
          ]
        }
      ]
    },
    {
      "cell_type": "markdown",
      "source": [
        "Basic LangGraph Chatbot (INITIAL STAGE)"
      ],
      "metadata": {
        "id": "yBGyu8Y8Fz6q"
      }
    },
    {
      "cell_type": "code",
      "source": [
        "!pip install -qU langgraph"
      ],
      "metadata": {
        "colab": {
          "base_uri": "https://localhost:8080/"
        },
        "id": "YSKsQWjNF0oO",
        "outputId": "b64bdd3e-7f3e-4a2c-a417-12e46b484070"
      },
      "execution_count": 44,
      "outputs": [
        {
          "output_type": "stream",
          "name": "stdout",
          "text": [
            "\u001b[2K     \u001b[90m━━━━━━━━━━━━━━━━━━━━━━━━━━━━━━━━━━━━━━━━\u001b[0m \u001b[32m43.7/43.7 kB\u001b[0m \u001b[31m2.1 MB/s\u001b[0m eta \u001b[36m0:00:00\u001b[0m\n",
            "\u001b[2K   \u001b[90m━━━━━━━━━━━━━━━━━━━━━━━━━━━━━━━━━━━━━━━━\u001b[0m \u001b[32m153.3/153.3 kB\u001b[0m \u001b[31m4.6 MB/s\u001b[0m eta \u001b[36m0:00:00\u001b[0m\n",
            "\u001b[2K   \u001b[90m━━━━━━━━━━━━━━━━━━━━━━━━━━━━━━━━━━━━━━━━\u001b[0m \u001b[32m43.9/43.9 kB\u001b[0m \u001b[31m3.0 MB/s\u001b[0m eta \u001b[36m0:00:00\u001b[0m\n",
            "\u001b[2K   \u001b[90m━━━━━━━━━━━━━━━━━━━━━━━━━━━━━━━━━━━━━━━━\u001b[0m \u001b[32m54.6/54.6 kB\u001b[0m \u001b[31m4.0 MB/s\u001b[0m eta \u001b[36m0:00:00\u001b[0m\n",
            "\u001b[2K   \u001b[90m━━━━━━━━━━━━━━━━━━━━━━━━━━━━━━━━━━━━━━━━\u001b[0m \u001b[32m216.7/216.7 kB\u001b[0m \u001b[31m10.9 MB/s\u001b[0m eta \u001b[36m0:00:00\u001b[0m\n",
            "\u001b[?25h"
          ]
        }
      ]
    },
    {
      "cell_type": "markdown",
      "source": [
        "LangGraph STATE"
      ],
      "metadata": {
        "id": "-atXz0pRGJ1y"
      }
    },
    {
      "cell_type": "code",
      "source": [
        "from typing import Annotated, TypedDict\n",
        "from langchain_core.messages import BaseMessage, HumanMessage, AIMessage\n",
        "from langgraph.graph.message import add_messages"
      ],
      "metadata": {
        "id": "Y3awti5YGKXo"
      },
      "execution_count": 45,
      "outputs": []
    },
    {
      "cell_type": "code",
      "source": [
        "#State for our chatbot - this holds the conversation history\n",
        "\n",
        "class State(TypedDict):\n",
        "    # The add_messages function handles appending new messages to the conversation\n",
        "    messages: Annotated[list[BaseMessage], add_messages]\n",
        "\n",
        "# Initialize the LLM\n",
        "llm = ChatOpenAI(model=\"meta-llama/llama-3.3-8b-instruct:free\", temperature=0.7, max_completion_tokens=100)"
      ],
      "metadata": {
        "id": "ngufg1qPGTk8"
      },
      "execution_count": 46,
      "outputs": []
    },
    {
      "cell_type": "markdown",
      "source": [
        "CREATING THE CHATBOT NODE"
      ],
      "metadata": {
        "id": "tS-ORJepbBgR"
      }
    },
    {
      "cell_type": "code",
      "source": [
        "#The main chatbot node that processes messages and generates responses\n",
        "\n",
        "def chatbot_node(state: State) -> State:\n",
        "  print(f\"Processing {len(state['messages'])}messages\")\n",
        "\n",
        "  #get response from LLM\n",
        "  response= llm.invoke(state[\"messages\"])\n",
        "\n",
        "  #return the updated state with new response\n",
        "  return {\"messages\":[response]}\n",
        "\n",
        "print(\"chatbot node function created!\")\n"
      ],
      "metadata": {
        "colab": {
          "base_uri": "https://localhost:8080/"
        },
        "id": "H1Xvxeb8bAT-",
        "outputId": "45201c03-7f29-435c-bcee-11e027b6e613"
      },
      "execution_count": 47,
      "outputs": [
        {
          "output_type": "stream",
          "name": "stdout",
          "text": [
            "chatbot node function created!\n"
          ]
        }
      ]
    },
    {
      "cell_type": "markdown",
      "source": [
        "\n",
        "BUILDING THE GRAPH"
      ],
      "metadata": {
        "id": "cLqkjU5scp0N"
      }
    },
    {
      "cell_type": "code",
      "source": [
        "from langgraph.graph import StateGraph, START, END"
      ],
      "metadata": {
        "id": "Co4YuwlDcnyE"
      },
      "execution_count": 48,
      "outputs": []
    },
    {
      "cell_type": "code",
      "source": [
        "graph_builder= StateGraph(State)\n",
        "\n",
        "#add chatbot node to the graph\n",
        "graph_builder.add_node(\"chatbot\", chatbot_node)\n",
        "\n",
        "#define the flow\n",
        "graph_builder.add_edge(START, \"chatbot\")\n",
        "graph_builder.add_edge(\"chatbot\", END)\n",
        "\n",
        "#compile\n",
        "graph= graph_builder.compile()\n"
      ],
      "metadata": {
        "id": "ZP8oJ31tdLR6"
      },
      "execution_count": 49,
      "outputs": []
    },
    {
      "cell_type": "code",
      "source": [
        "#visualize\n",
        "\n",
        "img= graph.get_graph(xray=True).draw_mermaid_png()\n",
        "with open(\"graph.png\", \"wb\") as f:\n",
        "  f.write(img)\n",
        "\n",
        "from IPython.display import Image, display\n",
        "display(Image(\"graph.png\"))"
      ],
      "metadata": {
        "colab": {
          "base_uri": "https://localhost:8080/",
          "height": 251
        },
        "id": "QuPyq-RyeL0N",
        "outputId": "c38a8a55-2dee-4a1c-a0ed-76f81b038184"
      },
      "execution_count": 50,
      "outputs": [
        {
          "output_type": "display_data",
          "data": {
            "image/png": "[encoded data removed]",
            "text/plain": [
              "<IPython.core.display.Image object>"
            ]
          },
          "metadata": {}
        }
      ]
    },
    {
      "cell_type": "markdown",
      "source": [
        "\n",
        "TESTING THE CHATBOT"
      ],
      "metadata": {
        "id": "5WsR39yjh7p0"
      }
    },
    {
      "cell_type": "code",
      "source": [
        "def test_chatbot(message: str):\n",
        "  print(f\"\\nuser: {message}\")\n",
        "\n",
        "  initial_state= {\"messages\": [HumanMessage(content=message)]}\n",
        "\n",
        "  result= graph.invoke(initial_state)\n",
        "\n",
        "  ai_response= result[\"messages\"][-1].content\n",
        "  print(f\"Assistant: {ai_response}\")\n",
        "\n",
        "  return result\n",
        "\n",
        "#TESTING\n",
        "\n",
        "test_cases=[\n",
        "    \"Hi!I'm charoo\",\n",
        "    \"Do you remember my name?\"\n",
        "]\n",
        "\n",
        "for test_message in test_cases:\n",
        "  test_chatbot(test_message)\n"
      ],
      "metadata": {
        "colab": {
          "base_uri": "https://localhost:8080/"
        },
        "id": "Vo4-xnKRh8jR",
        "outputId": "2290cb1f-cb61-482a-8341-12cd55a0ea05"
      },
      "execution_count": 51,
      "outputs": [
        {
          "output_type": "stream",
          "name": "stdout",
          "text": [
            "\n",
            "user: Hi!I'm charoo\n",
            "Processing 1messages\n",
            "Assistant: Nice to meet you, Charoo! How's your day going so far?\n",
            "\n",
            "user: Do you remember my name?\n",
            "Processing 1messages\n",
            "Assistant: This is the beginning of our conversation, so I don't have any information about your name. Would you like to tell me your name?\n"
          ]
        }
      ]
    },
    {
      "cell_type": "markdown",
      "source": [
        "ADDING MEMORY TO THE CHATBOT"
      ],
      "metadata": {
        "id": "xmG43wbfj_Z3"
      }
    },
    {
      "cell_type": "code",
      "source": [
        "from langgraph.checkpoint.memory import MemorySaver"
      ],
      "metadata": {
        "id": "62lMhhOPkAfw"
      },
      "execution_count": 52,
      "outputs": []
    },
    {
      "cell_type": "code",
      "source": [
        "memory= MemorySaver()\n",
        "\n",
        "# Compile the graph with memory\n",
        "graph_with_memory = graph_builder.compile(checkpointer=memory)\n",
        "\n",
        "print(\"Memory added to chatbot\")\n",
        "\n",
        "def chat_with_memory(message: str, thread_id: str):\n",
        "    #Chat function with memory\n",
        "    print(f\"\\nUser: {message}\")\n",
        "\n",
        "    # Configuration for the thread\n",
        "    config = {\"configurable\": {\"thread_id\": thread_id}}\n",
        "\n",
        "    # Add the user message to the conversation\n",
        "    initial_state = {\"messages\": [HumanMessage(content=message)]}\n",
        "\n",
        "    # Run the graph with memory\n",
        "    result = graph_with_memory.invoke(initial_state, config)\n",
        "\n",
        "    # Get the AI response\n",
        "    ai_response = result[\"messages\"][-1].content\n",
        "    print(f\"Assistant: {ai_response}\")\n",
        "\n",
        "\n",
        "# Test conversation with memory\n",
        "print(\"\\nTesting Conversation with Memory:\")\n",
        "\n",
        "# Start a conversation\n",
        "chat_with_memory(\"Hi, my name is Charoo\", thread_id=\"thread-1\")\n",
        "chat_with_memory(\"What's my name?\", thread_id=\"thread-1\")\n"
      ],
      "metadata": {
        "colab": {
          "base_uri": "https://localhost:8080/"
        },
        "id": "sGtKw_JQmIki",
        "outputId": "08e4f538-4e06-40b9-cee4-2720d04873f5"
      },
      "execution_count": 53,
      "outputs": [
        {
          "output_type": "stream",
          "name": "stdout",
          "text": [
            "Memory added to chatbot\n",
            "\n",
            "Testing Conversation with Memory:\n",
            "\n",
            "User: Hi, my name is Charoo\n",
            "Processing 1messages\n",
            "Assistant: Nice to meet you, Charoo! Is there something I can help you with or would you like to chat?\n",
            "\n",
            "User: What's my name?\n",
            "Processing 3messages\n",
            "Assistant: Your name is Charoo!\n"
          ]
        }
      ]
    },
    {
      "cell_type": "markdown",
      "source": [
        "Langgraph Agent with Tools (INTERMEDIATE STAGE)"
      ],
      "metadata": {
        "id": "-krG7HTupXhy"
      }
    },
    {
      "cell_type": "code",
      "source": [
        "#State for our two-node agent\n",
        "\n",
        "from typing import Annotated, TypedDict\n",
        "from langchain_core.messages import BaseMessage\n",
        "from langgraph.graph.message import add_messages\n",
        "\n",
        "\n",
        "class AgentState(TypedDict):\n",
        "  messages: Annotated[list[BaseMessage], add_messages]\n",
        "\n",
        "#Initialize LLM with tools\n",
        "\n",
        "llm=ChatOpenAI(model=\"meta-llama/llama-3.3-8b-instruct:free\",temperature= 0.7, max_completion_tokens=100)\n",
        "llm_with_tools= llm.bind_tools(tools)"
      ],
      "metadata": {
        "id": "LugjEGIfpZjx"
      },
      "execution_count": 54,
      "outputs": []
    },
    {
      "cell_type": "code",
      "source": [
        "#creating chatbot node\n",
        "#The chatbot node that decides whether to use tools or provide direct responses\n",
        "\n",
        "def chatbot_node(state: AgentState) -> AgentState:\n",
        "  messages= state[\"messages\"]\n",
        "\n",
        "  # Add system prompt\n",
        "  system_message = \"\"\"You are a helpful AI assistant. You have access to web search and calculator tools.\n",
        "\n",
        "  Use the web_search tool when:\n",
        "  - Asked about current events, news, or recent information\n",
        "  - Need to find specific facts or data\n",
        "  - Asked about real-time information (weather, stock prices, etc.)\n",
        "\n",
        "  Use the calculator tool when:\n",
        "  - Asked to perform mathematical calculations\n",
        "  - Need to solve math problems\n",
        "\n",
        "  For general knowledge questions that don't require real-time data, answer directly.\n",
        "  Be helpful and conversational in your responses.\"\"\"\n",
        "\n",
        "  #prepare messages with system prompt\n",
        "  all_messages=[{\"role\": \"system\", \"content\": system_message}] + messages\n",
        "\n",
        "  #get response from llm\n",
        "  response = llm_with_tools.invoke(all_messages)\n",
        "\n",
        "  return{\"messages\":[response]}\n",
        "\n",
        "print(\"chatbot node created!!\")"
      ],
      "metadata": {
        "colab": {
          "base_uri": "https://localhost:8080/"
        },
        "id": "aLaEeHQ6VFUv",
        "outputId": "f33aa4a5-1c85-4593-f714-a769f33df0b5"
      },
      "execution_count": 56,
      "outputs": [
        {
          "output_type": "stream",
          "name": "stdout",
          "text": [
            "chatbot node created!!\n"
          ]
        }
      ]
    },
    {
      "cell_type": "markdown",
      "source": [
        "CREATING TOOL NODE AND ROUTING LOGIC"
      ],
      "metadata": {
        "id": "nTkmBTjYXcE2"
      }
    },
    {
      "cell_type": "code",
      "source": [
        "#ToolNode: Think of it like a smart plug in a workflow. You connect a tool (like a calculator or search engine) to it, and when the workflow reaches that point, it runs the tool automatically.\n",
        "#Literal: It’s like saying: “This value must be exactly one of these options.” For example, if you’re building a switch that only accepts \"on\" or \"off\":\n",
        "\n",
        "from langgraph.prebuilt import ToolNode\n",
        "from typing import Literal"
      ],
      "metadata": {
        "id": "T2_C9Cj_XiCG"
      },
      "execution_count": 58,
      "outputs": []
    },
    {
      "cell_type": "code",
      "source": [
        "tools"
      ],
      "metadata": {
        "colab": {
          "base_uri": "https://localhost:8080/"
        },
        "id": "etrXt9nwa3U3",
        "outputId": "a36b8973-43b3-483b-c79d-44a3b963cecb"
      },
      "execution_count": 59,
      "outputs": [
        {
          "output_type": "execute_result",
          "data": {
            "text/plain": [
              "[StructuredTool(name='calculator', description='Evaluates a mathematical expression and returns the result.', args_schema=<class 'langchain_core.utils.pydantic.calculator'>, func=<function calculator at 0x7d98efa51120>),\n",
              " DuckDuckGoSearchRun(api_wrapper=DuckDuckGoSearchAPIWrapper(region='wt-wt', safesearch='moderate', time='y', max_results=5, backend='auto', source='text'))]"
            ]
          },
          "metadata": {},
          "execution_count": 59
        }
      ]
    },
    {
      "cell_type": "code",
      "source": [
        "tool_node= ToolNode(tools)\n",
        "print(\"Tool node created!!\")\n",
        "\n",
        "#Determine whether to continue to tools or end the conversation\n",
        "\n",
        "def should_continue(state: AgentState) -> Literal[\"tools\",\"end\"]:\n",
        "  messages= state[\"messages\"]\n",
        "  last_message= messages[-1]\n",
        "\n",
        "  # If the last message has tool calls, go to tools\n",
        "  if hasattr(last_message, 'tool_calls') and last_message.tool_calls:\n",
        "    return \"tools\"\n",
        "\n",
        "  # Otherwise, end the conversation\n",
        "  else:\n",
        "    return \"end\"\n",
        "\n",
        "print(\"Routing logic created\")"
      ],
      "metadata": {
        "colab": {
          "base_uri": "https://localhost:8080/"
        },
        "id": "FKWrOg3za7DX",
        "outputId": "8532a189-6ff7-4178-9463-5c7876101619"
      },
      "execution_count": 61,
      "outputs": [
        {
          "output_type": "stream",
          "name": "stdout",
          "text": [
            "Tool node created!!\n",
            "Routing logic created\n"
          ]
        }
      ]
    },
    {
      "cell_type": "markdown",
      "source": [
        "\n",
        "BUILDING GRAPH"
      ],
      "metadata": {
        "id": "8HzNDi2Fb3AF"
      }
    },
    {
      "cell_type": "code",
      "source": [
        "from langgraph.graph import StateGraph, START, END\n",
        "from langgraph.checkpoint.memory import MemorySaver"
      ],
      "metadata": {
        "id": "HdZRhIiwb5dE"
      },
      "execution_count": 62,
      "outputs": []
    },
    {
      "cell_type": "code",
      "source": [
        "workflow = StateGraph(AgentState)\n",
        "\n",
        "# Add nodes\n",
        "workflow.add_node(\"chatbot\", chatbot_node)\n",
        "workflow.add_node(\"tools\", tool_node)\n",
        "\n",
        "# Set entry point\n",
        "workflow.add_edge(START, \"chatbot\")\n",
        "\n",
        "# Add conditional edges\n",
        "workflow.add_conditional_edges(\n",
        "    \"chatbot\",\n",
        "    should_continue,\n",
        "    {\n",
        "        \"tools\": \"tools\",\n",
        "        \"end\": END,\n",
        "    },\n",
        ")\n",
        "\n",
        "# After using tools, go back to chatbot\n",
        "workflow.add_edge(\"tools\", \"chatbot\")\n",
        "\n",
        "# Compile the graph\n",
        "memory = MemorySaver()\n",
        "app = workflow.compile(checkpointer=memory)\n",
        "\n",
        "print(\"Graph compiled with memory\\n\")\n",
        "\n",
        "# VISUALIZE THE GRAPH\n",
        "img = app.get_graph(xray=True).draw_mermaid_png()\n",
        "with open(\"graph.png\", \"wb\") as f:\n",
        "    f.write(img)\n",
        "\n",
        "from IPython.display import Image, display\n",
        "display(Image(\"graph.png\"))"
      ],
      "metadata": {
        "colab": {
          "base_uri": "https://localhost:8080/",
          "height": 325
        },
        "id": "tMnWqfxLb9Q_",
        "outputId": "782f6429-9a61-4e11-cb0a-8c11c0ef069b"
      },
      "execution_count": 63,
      "outputs": [
        {
          "output_type": "stream",
          "name": "stdout",
          "text": [
            "Graph compiled with memory\n",
            "\n"
          ]
        },
        {
          "output_type": "display_data",
          "data": {
            "image/png": "[encoded data removed]",
            "text/plain": [
              "<IPython.core.display.Image object>"
            ]
          },
          "metadata": {}
        }
      ]
    },
    {
      "cell_type": "markdown",
      "source": [
        "TESTING AGENT"
      ],
      "metadata": {
        "id": "KnnyeK5ecOOo"
      }
    },
    {
      "cell_type": "code",
      "source": [
        "from langchain_core.messages import HumanMessage, AIMessage, ToolMessage\n",
        "\n",
        "#Chat with the two-node agent\n",
        "\n",
        "def chat_with_agent(message: str, thread_id: str):\n",
        "  print(f\"User:{message}\")\n",
        "\n",
        "  config= {\"configurable\": {\"thread_id\": thread_id}}\n",
        "\n",
        "  # Stream the response to see the process\n",
        "  messages_to_process= {\"messages\": [ HumanMessage(content=message)]}\n",
        "\n",
        "  for event in app.stream(messages_to_process, config):\n",
        "    for value in event.value():\n",
        "      if \"messages\" in value:\n",
        "        last_message= value[\"messages\"][-1]\n",
        "        if hasattr(last_message, 'content') and last_message.content:\n",
        "          if isinstance(last_message, AIMessage):\n",
        "            print(f\"Assistant: {last_message.content}\")\n",
        "          elif isinstance(last_message, ToolMessage):\n",
        "            print(f\"Tool Result: {last_message.comtent[:100]}\")\n",
        "\n",
        "  while True:\n",
        "    user_input = input(\"User: \")\n",
        "    if user_input.lower() == \"exit\":\n",
        "        break\n",
        "    chat_with_agent(user_input, thread_id=\"thread-2\")\n",
        "\n",
        "# Questions\n",
        "# I am Charoo\n",
        "# Do you remember my name\n",
        "# What's 15% of 240?\n",
        "# What's the latest news about artificial intelligence?\n",
        "# Follow-up: Can you tell me more about that?\n",
        ""
      ],
      "metadata": {
        "id": "QF4ZCNZ7cP8_"
      },
      "execution_count": 66,
      "outputs": []
    },
    {
      "cell_type": "markdown",
      "source": [
        "LANGGRAPH AGENT [ADVANCED STAGE]\n",
        "\n",
        "---\n",
        "\n",
        "STILL WORKING ON IT (INCOMPLETE)![Screenshot 2025-09-10 152724.png](data:image/png;base64,iVBORw0KGgoAAAANSUhEUgAAAcMAAALSCAYAAACh5Lp9AAAAAXNSR0IArs4c6QAAAARnQU1BAACxjwv8YQUAAAAJcEhZcwAADsMAAA7DAcdvqGQAAKs4SURBVHhe7P13nCTnfd/7fqqrc/dMT447eXZ2NmdgF5sQCTCL1KEkkhAVjkzasuTra59jW37p+MBXDrJk+56rSJm2RFGUCJAASCRiF3GxEZtzmriT8/R093Tuqrp/TMBOIW2Y2enwe+vVL0n9PL3TmOmubz1P/ep5FMMwDNJMJBIxP7WAy+UyPyWEEELcNSUdw1AIIYS4nyzmJ4QQQohcI2EohBAi50kYCiGEyHkShkIIIXKehKEQQoicJ2EohBAi50kYCiGEyHkShkIIIXKehKEQQoicJ2EohBAi50kYCiGEyHkShkIIIXKehKEQQoicJ7tWpBlNM0jFdTQNtJSBYRgYOhi6uWduUyygKKBYFFRVwWJVsNkVVKti7iqEEJ9KwnCZGcZM6OmagZYyiIU1Qv4UsYhOPKrNPJ80SCbkz3Qr62zwqaqC3WXB4baSX2TF6bbMPD/7UCQbhRC3QcJwmSViOv0dUYZvxhi+GUNLGRSU2jB0A7tLxZNvxWpTSCVlaHgrq91CKqETCWnEYzpawmBqPIHNYaG81kllvZPaVW7sTgtIIAohPoWE4TLxjyTob48y3BPD6VHx5Ku486y481UcrplLuaqqYLVZUCwzI0jxAUWZmTpOpXR0DXTNIBHXiU1rhEMakWCKREynuMpBdZOL4kq7+Z8QQoh5Eob3ka5DLKIx0B4l6E+SShioVoWCUhv5RTbyCq04PapM7d2DeEQn5E8SnEwRDqSIx3QMA7w+leomF94CKxZVfsFCiIUkDO+TVMJgOpBipDfGSG8Mu9NCZYOL6iYXVpscnJfKQGeUvrYIkZBGZb2LshoH+UVWbA4ppBZCfEDC8D7QdYPAeJKeaxF6r4fZ8lgR5TUOOSDfJ5pmMDGY4OqJIJ48lYb1HorK7TJCFELMkzC8DwLjSQY6owTGk2zY7cPpUbGoUul4P2maQWxa48aZEKqqUNngoqzWYe4mhMhREoZLbLAzymhfHNWqUL3SRWGZXUJwmRg6BCeT9LdHiUc0CivsNKz1mLsJIXKQzNMtEV0zCEwkGeyOgQJltU6KyiUIl5NiAV+JjfI6J1aHhfHBOGMDcbSUnA8KkeskDJeAoUMsojPQEQWgos5JuUzJpY2SKjuV9U7sTpWBjiiR0MziBkKI3CVhuAQScR3/aILBrihNGzxU1DvNXcQyK13hoLbFRTiQYrQvTiwiixoIkcskDJeAfzRB54VpVjS7cLpVc7NIE+58KzUtbm6cDjI1ljA3CyFyiIThIouFNQLjSaLTGlVNLuyzq8mI9GNzKBRV2LE7LUyNJQn5U+YuQogcIUfqRTY1niQa0iivdeL1WVHlXra0ZbEouLwqta0eotMzJzFCiNwkYbiIDAMmBhPEIhr1az0olswKwmQyydDQEJ2dnQQCAXPzPfP7/XR0dDA6OkoqlR6jMIuqULvKTTKuExhPkkpKIY0QuUjCcBGl4jpTYwmi0xoFpbaMu40iGAzy7rvv8txzz9HZ2WluvmeXL1/mRz/6ESdPniQanam0XW6KAk6PBV2bWS5veio9QloIcX9JGC6iscE4FqtCYXlm7pAQj8fp6uoikViaYpJAIMDg4KD56bRQVGFHASaGlua/XQiR3mQFmkV09USQWESjtNpBTYvb3LxsUqkUk5OTHDt2bH4K1G63U1VVxbZt22hoaKC3t5eXXnqJo0ePAlBZWcnevXt56qmnKC0t5fz587S3t9PX14ff78dms7FixQq2bdtGc3MzHo8HTdN49dVXCQQCOJ1OkskkFy5c4Itf/CKXLl3i6NGjDA8PU1lZSVVVFd/4xjfYtGmT+e0ui9G+OAOdURQFNu0rMDcLIbKcjAwXUWAiiaIoeHxWc9OyMQyD8fFxfvzjH3Pu3DlisRgFBQXYbDauXr3KK6+8QkdHBy6Xi7KyMgzDwOPxsGLFCiorK1EUhaGhIV5//XUuXrxINBrF5XJhs9m4du0a7777LlevXp3/Wd3d3Zw+fZr333+ftrY2HA4HVquV8vJyCgpmQqa8vJyGhgby8vJM73b5eAusYEBwQopohMhFEoaLaHoqhaEbOJzp82tNJpMMDg7ywgsvYLPZ2LdvH7/8y7/Ml770JdasWYPf72dqaoqamhoee+wxysrKaGpq4ktf+hJPPPEE+fn5hMNhIpEIK1as4NFHH+WXfumX+IVf+AVqamq4cuUK58+fR9M0ACwWC1NTUySTSVpaWviVX/kVWltb+dznPseOHTvw+Xw88sgjPP300zQ1NZnf7rJxOC1oKYNwICUbKQuRg9LnqJ0FElEdFCWttmaKxWJMTk4SDodZtWoVDQ0NlJSUsHLlSn7913+db3/727S2tvJxs+V2u53Gxka+/e1v8wu/8AusXr2a4uJiysrK2LhxIwAjIyNEIhEAFEUhGo3S0NDA1772NdauXUthYSE2m830L6cX1aZgUUHXQEsa8NG/DiFElkqfo3amM2aWYbNYSKswdLvdlJWVkZeXx0svvcSzzz7LoUOH6Ovrw2Kx0NDQQFlZ2ceGlaIoWCwWJicn+elPf8rv//7v81u/9Vt861vf4j/+x//IlStXSCQShMPh+dcUFhZSVFT0sf9murLaFFS7Qiyqy+hQiByTPkftDKcbswfTNNunUFVVVqxYwe/+7u+ybt06uru7+dGPfsR//a//lf/8n/8zR44cwe/3o3zMm45Go1y+fJm///u/p7e3l7Vr1/Krv/qr/J//5//J008/TX19PYZhoOsfrO1ps9mw2Wwf+2+mK9VqwWpT0DUDQ4aGQuQUCcNFoigzK5oYxsxGsulCURR8Ph8PP/wwTz75JI8++ijr16/H7XbT3t7OK6+8wsWLF5menja/FIBQKMTRo0cZGBigvr6eRx99lEcffZR9+/axdu1afD6f+SUoipJxQcjsBsB6ysBqU1DIvPcvhLh7EoaLRFHAooKWMkjF0ycMU6kU0WiUeDzO+vXr+fKXv8zTTz/NL/7iL7Jz506uXbvGpUuXmJiYML8UgEgkwuXLlyksLGTDhg20trbOB+DY2Nj8tcJMZxiQjOskEzMFUBmY5UKIeyBhuIgcLhVj9tphuohGo3R3d/POO+8wOjqKpmkUFRWxdetWvv71r1NcXEwgEJhffk1VVTRNI5VKoWkamqYRj8dxOBwoioKmaei6TjQa5fr16/j9fgzD+NgCnFvNjRaTySSpVGrB1Opy05IGhgGqVUG1KcjAUIjcImG4iApKbdgcCqk0CsNkMklfXx/f+973+OEPf8i5c+cYHh6ms7OTl19+Gb/fT1lZGeXl5dhsNsrKyhgeHub69ev09PSQSqWoqamhp6eHK1euMDQ0xMTEBAcOHCAUCsFs4E5NTZl/9AJWqxWPx4Oqqly6dIkrV67g9/vTJhATcR2H20JhRWauHiSEuDfqM88884z5SXF3Qv4UkaAGFihKkyXZVFXFZrMRj8fp7Ozk7NmzHD16lNOnTxMIBNi2bRu7d+9mxYoVWCwz50adnZ20tbURDoepra2lubmZ8fFxOjs7OXbsGGfPnsVisbBr1y6i0ShdXV309/dTWFhIe3s7gUCAmpoa1q9fv+C9RKNR/H4/ly9fpr29naqqKiorK1HV5d/zcbQvTmA8idOtUl4rmzELkWskDBeRrsP4QJxEVKeqyWVuXhaqqs7fXpGfnz9/j2B1dTWrV6/mwQcfpLa2FpfLhaqq5Ofnk5+fT1lZGXV1dTQ2NrJixQry8vIoLCykoKCAiooK1qxZw/r16yksLKS4uJiKigoaGhooKCigpqaGlStXUl5evuC92O12ioqKKCoqorq6mlWrVlFcXDwfwsup52qEeEynpNqBrySzbgkRQtw7WZt0ESXjOuffmyIe1XnwqWJsDrnwlAl0HU7un8DmsNCyJY+8wvRZTk8IcX9IGC6y9vPTBMaT1LW6Kal23HZVYiQSIZFI3FYhimEYt33rgt1ux+1233b/+2WuynUp9jW0Wq23ve6pYUB0WufSkSkKSm2s2nZ7rxNCZBcJw0U2Ppigvz3C9FSKnZ8vRrXeXgj91V/9FadPn/7UQhRd1+fD8HamF/fu3ctv/uZv4vF4zE3LRtd1urq6+NGPfsTFixfNzR8yV2Rzu/cvrlu3jt///d+/rWuRqYTBxaNT6BpUNbmoapDrhULkIgnDRZaM6/TeiNBxYZotjxZRWGrDav/0A/iFCxcYGRkhFouZmxYwDGN+UWyr9dOn8+YKWW6n7/1iGAbT09NcvXqVkZERc/NHupPRcElJCTt37vzU/rpmMD2V4r0Xx2ndlkftKjcO96efYAghso+E4RKYGErQdXkah1OlaYPntrZ0isVipFKp25omnRsd3s7Ix2az4XSm52hnqaZJ54qGPk0kpDHQEWWwK8bqB/MoW+EwdxFC5AgJwyWQiOlMDifovBimbrWbkmo7TvenB5e4f+JRnYnBOL03olQ1uShbYcfpkb+RELlK5oSWgN1pobDcTnGlnb4bEUZ742gpOedIF7pmMDEUZ7A7hs2hUF7rkCAUIsdJGC4Ru9NC0wYPDpeFoZsxBjqi5i5imcwUOUVJxnXW7/JhT6PNmIUQy0OmSZdYYDzJSG+MWFinoNRGTYsbRY69y0LXDMb6Z0aEdqeFynonRbL8mhBCwvD+CEwk55f7KiyzU93klGm5+ywe0RntjzPaF8PtVSmvkyAUQnxAwvA+CYwn6b0RITCepKLOSUGZDa/PKqG4xOIRnelAisB4konhBKoKjeu9FJTKkmtCiA9IGN5HiZhOf3uUS0en8BbYaFzvobLBObNtkKqgWJTbXrFGfDTDAEM30DXQdYPhnhhdl8OE/EmaN3pp3uDF5pB5aiHEQhKG95FhzOybF5vW6OuI0NcWITqt0bDGQ3m9k4JSOw6XHKjvRSKuE5xIMdwTZbQ3hq5DWY2TmpUuvAVWrHbZuFcI8WEShsvA0CEcShEcTxKYSBKcTBEJpTB0cOep+EpsWCwKNocFp9uCarOg6/JnupXFMnNiEY/pJGI6qYRBaCpJJKSBAe58FV+xnbwiK74iK+58620vjSeEyD0ShstI1wxiEZ2JoTihyRTRaQ1dN7BYLWjJmfU4bXYLKDPLvC23QCAAQH5+/qcudbbUbHYFw4BUcubjq1gUdM3AooLLo5JXZKOo3I47T5UQFEJ8KgnDNJKI64QDGtNTKeIRjXhsZtk1PTnTttyOv38cRVHYunUrNuvyFqDYHAoWVcFiUbA7FRxuFU++Fa/PKuuLCiHumIShuG1/9Ed/hKIo/NN/+k9va+1PIYTIFHIKLYQQIudJGAohhMh5EoZCCCFynoShEEKInCdhKIQQIudJGAohhMh5EoZCCCFynoShEEKInCdhKIQQIudJGAohhMh5EoZCCCFynoShEEKInCdhKIQQIudJGAohhMh5EoZCCCFynoShEEKInCdhKIQQIudJGAohhMh5EoZCCCFynoShEEKInCdhKIQQIudJGAohhMh5EoZCCCFynoShEEKInCdhKIQQIudJGAohhMh5EoZCCCFynoShEEKInCdhKG6bzWbDZrOZnxZCiIwnYShum9vtxu12m58WQoiMJ2EoblsoFCIUCpmfFkKIjCdhKG6bruvoum5+WgghMp6EoRBCiJwnYSiEECLnSRgKIYTIeRKGQgghcp6EoRBCiJwnYSiEECLnSRgKIYTIeRKGQgghcp6EoRBCiJwnYSiEECLnSRgKIYTIeRKGQgghcp6EoRBCiJwnYSiEECLnSRgKIYTIeRKGQgghcp6EoRBCiJwnYSg+VjKZJBQKEQqFmJ6eJplMkkwmmZ6eXvB8IpEwv1QIITKKYhiGYX5SCIB33nmHv/u7v8NqtaIoCr29vQBUVVWhqiq6ruP1enn00Uf58pe/bH65EEJkDBkZio8VjUYZHBzk+vXrXLt2Db/fj9/vp62tjevXr9PV1YXP56OystL8UiGEyCgShuJjud1uCgsLiUQiRKNRNE1D0zRisRixWAyXy8WaNWtobGw0v1QIITKKhKH4WCUlJaxevRq73Y6iKPPPK4qCqqo0NzfT0tJCSUnJgtcJIUSmkTAUH6umpoaHHnqI0tJSrFbr/PMWiwWv18uePXuorq5e8BohhMhEEobiY+Xn59PU1ERLSwsOh2P+ebvdTm1tLZs3b5ZRoRAiK0gYio9lsVgoLi7mscceo6qqCrvdjqqqlJSU8Mgjj1BcXIyqquaXCSFExpEwFJ/I7XazZcsWGhsb8Xq9uFwuamtr2bVrFx6Px9xdCCEyktxnmEZ03UBLGqSSBjN/lfT40+i6wQsvvMDbb79NIpFgz549/MZv/Lq52zJSUBRQrQpWm4JF/aDYRwghboeEYRowDNBSBrGwxvRUinBQI5XQzN2WjWHA2NgYx44dQ9d1tm3fRm1NjbnbslJtKp48FW+BFZdXRbUqKDLvIYS4TRKGy0zXIR7RuHwsyHBPDIC8QhvJuJ42I0MM5u8vNACnw4HV9kF16fJTcHhUguMJDKCs2kHzZi8FpTZUGSUKIW6DhOEy0lIGwckUl44EyCu243Cp2BwW7A4Lum6kTRamPQUsqkIipqMlDWIRDf9IjA27ffhKbFhtEohCiE8mYbiMxgfidF4KYxgWqpvdeAvlwH2vdA1C/iQDHWHQdRrXeyiutMt1RCHEJ5KrKsskFtEY7Y8z0hunZUs+vlK7BOEisKjgK7Gxcks+E8MJRnrjhIPpc/1VCJGeJAyXyWhvnHBAo36NF6vdwi2rnYlFoKoKKzf5CE2mGOuLm5uFEGIBCcNlMh1IEQ1rOL0qSBAuOkVRcOWpTAdTTAdT5mYhhFhAwnCZaCkDDAWXJ52qMrOIAk7vzD6MuiaXxYUQn0zCcJloSQNdM1CtMixcCnM34WuaMXPiIYQQn0DCcJlomkEqNbfSjFgqyYROKim/ZCHEJ5MwFEIIkfMkDIUQQuQ8CUMhhBA5T8JQCCFEzpMwFEIIkfMkDIUQQuQ8CUMhhBA5T8JQCCFEzpMwFEIIkfMkDIUQQuQ8CUMhhBA5T8JQCCFEzpMwFEIIkfMkDIUQQuQ8CUNxT8bGRhkY6CMQmDI3CSFExpAwFPfkyNF3eenl57l67ZK5SQghMoaEobgnE+NjTE5OmJ8WQoiMohiG7LW+HM687cc/mmL1gwXkFdlQFHOPOxMKBTl77hQXL57jyc98gSNH3yUajbB+3Sb27n0MgLPnTnH9+hWGhwdJJpN4vV4qK6vZuvVBamvqURQFw9D5m+//FQUFhWzauI3Gxub5n3H+/Bmu37iCy+XiC5//Kt/7n3/G8eOHicWiVFZVU7Oijl/71j+ipKSM8fFRbty4xrUbV/BPTuB2e6iurqFlZSurV69Dmf0Pbmu/zoULZ7BYVPK8eXR0tlFRUcXePY9QUlI2/7PvRippcPTlEUqr7Dz4VJG5WQgh5snIMEskEgl6ero5ePBNDh1+m4GBPmLxGCgQjUa4dPk8B997i5s3u7BYLHg8XiKRCMePH+bMmROMjAwBYBhw5uxJrly9xKR/4YhvaHiAS5fOc+3aFRQFCgqKsFgsKBYLBQWFlJaWoVqtjE+McfrMCd586+fcvNmJ3e7Aolq4ebOTg4fe4vyFM8RiUQAmJ8e5dOkcx46/x+kzJxgfH0PXdeQUTQhxP0kYZgmLxYLFYiEej9HecYONG7fy1Ge+yJo1G5j0T/Laaz+lt7eb5qYWvvqVX+Gb3/gNnnjic6iqyvkLZ7h69RJ3Mklgsah89Su/zMqVrVRXreDJz3yBb/3qP6KwoIjOznZOnDxGX38PW7c8yC//0tN88fNfpaamjq6uDl597af4p/zouo6iKKRSKUZGhnG53ezd8yg7HtxNfr7P/COFEGLJSBhmGYfTxerWdTz00F7Wrt1Afr6P0dFh3nn3Ddat3ciDD+6itraewsIiNm3cyq5d+/D7J7ly9SKpVMr8z92Vjo4bTPkn2bRxK1/5hV+ioqKKFStq2b5tJ2vXrOfYsUOMjg6TTCZQUNA0jXB4mi9/8X9jz55HWLGiBofDYf5nhRBiyUgYZhm73U5dbT0O+0yYRCMRJibGSaVSVFatIC8vf0H/iopqHHYHgUAAv2la9G4YhsHIyBC6rlNf37SgrbCwmNqaenRNo6enm1AoCLPvuaK8CpfLhaqqC14jhBD3g4RhlrFYLLjcbiyWmT9tIhEnFApiGAYupwur1bqgv8vlRrVaSSYTxGKxBW13I5VKEY/H6ent5vXXX+b/8we/N//4r//tD/jZSz/BwCAQmCKeSMDse3a6nFgkCIUQy0TCMAtZLB+EijE7WuOW/30rw9AxDAOLRf1QUJrNvP7D/8atFEXBYrGgqioW1QKKMv9QrVZKy8rZt+9xVlTX4nQ4516FxaJyjwW1Qghx1yQMs5zdbsfrzUNRFELTQeKJ+IL2UChEKpXE6XTi9eYBYFEUDMPAMPQFfZPJBIlkcsFzZlarFY/HQ1VlNdu2Psg3fuXX5h9f/5Vf45d/6Wl+4ctfY+26DR+ashVCiOUiYZjlPG4v5eUV2O12+vt68Psn0XUNw9BJJpP09d0kmUji8xXMh5PN7kBLpUjE4/OjyVQqydSUf/46H7OjQEVRMABN09A0DcMwKCkpw5uXj6Zp1Nc30dTUQmPjSmpr6ikpKcNuc+DL92G32+f/LSGEWE4ShlnOarVSUlzKgw/s5vz5Mxw/fpjum12MjY/x/vtHeO/Q2/gKChbcCL+iuoZJ/wRd3Z3EZwPx8OGD3Gi7RjQSXvBv5+XlEYtFuXbtMm3t14hGI2zevJ2qyhWcPXeSY8cPEQ5PMzIyxMGDb/Ldv/r/8ad/9keMjI6g6wtHnkIIsVzUZ5555hnzk2LpDXXHiIV1Slc4cbjUe16BJhaL0t5+nY6OG+x4cDdlpeXY7XYURcFqtVFaWobfP0lPTxfnz5/h3PlTdHa14csvYNdD+9iwfjMejwcAu93B1JSfzo4bnDx1jOPHDxGLRVFVFUVRcLnc7N79MIqiEAhOMTY2Qnv7dTq72mldtZaysnIKC4twuz309t7k/fePcuTYQTo6bmC12njggV20tq7B6XQxONhPe/t1EskEu3ftw+Pxmv/T7pquQ9+NMJ48lRXNLnOzEELMkzBcJosdhmCgKArFRSWsXbOe/PyC+dsUrFYrRUUleD1ePB4vbrcHn6+AFdW1bNq0jbVrNlBSUjY/7ZnvK8Dj8eJyubDZZq45rlq1hsaGZmpq6qipqaVh9rYJp9NJfp6PvPx8iotLaF29Dl9BAYUFRZSUlM6/O6/Hy4oVtaxbt4lt23ZQ4CvAYlHRdQ2X201tTR0rV7Zin70lZDFIGAohbpesTbpMFnttUvFhsjapEOJ2yTVDIYQQOU/CUAghRM6TMBRCCJHzJAyFEELkPAlDIYQQOU/CUAghRM6TMBRCCJHzJAyFEELkPAlDIYQQOU/CUAghRM6TMBRCCJHzJAyFEELkPAlDIYQQOU/CUAghRM6TMBRCCJHzJAyXiTL7EEtLUWYeQgjxSSQMl4nDreL0qCBbKy8NA9DB67Ph8qrmViGEWEDCcJnY7DPDlelAytwkFoFhzPxudc3AosrQUAjxySQMl4k734rdqRDyJ2eO3GJRGYZBcCKB3anIyFAI8akkDJeJr8RGfpGN2HSK4GQSLSWBuFi0lEE4kCIwnsBboJBXJB9zIcQnk6PEMskrtFJUacOiQvvZIOHZKT1DNzCMmcGiPO7woRvomkEkmKLn6jSRUBKbN4rqjJJKyXS0EOLjKYZhyJBkmWgpg+BEkmunQmiagjvPSl6RDa/PJqWmd0gBwoEk04EU01NJwoEk2x4vpKPnIt03O/D5fHz2s581v0wIIUDCcPlpKQP/aJLxwQTBiSSJuA4oREOpTyw01TSNVCqFzWrFYrHc0/0DWiqFbhhYFAXVajU3pz1FAXeeFV03sDss5BVaKSizUbbCwVRggmvXrhEMBtmzZw92ux273T7zOxNCiFkShmkiOJEiMJEkOp0imTSIhzU+7i/T19dHKBSksLCI8vKy2QP73YfhmTOnSSaTrFu3Hq/Xa25Oe4oCTo+KalVwelR8xTYKSm3z7aOjo0xNTVFRUUEymWRwcBCfz0dtbe2Cf0cIkbskDDPQuXPnmJycpKmpifr6enPzHdF1neeee45kMsmXv/xlfD6fuUvW0DQNv9/PwYMHycvL44EHHqCwsNDcTQiRgyQMM4RhGGiaBoDFYlm0ab54PM7Y2BhWq5WKigpzc1Y6e/Ysvb29FBYWsm/fPpLJJKqqLtrvVAiReSQMM0Q4HOb06dNYLBaam5uprKw0d7krt4asNQOvF96NWCxGIpHAYrFgtVp55ZVX2L59+z2PsoUQmUtOhTPA1NQUN27cYHJykoqKikWdyjxw4ACXL18mGo2am7KW0+kkLy8Pj8eDxWKhsLCQt99+m/fff9/cVQiRIyQMM4DFYsHj8dDY2Eh1dTVut9vc5Y7puk44HOb48eMMDQ3l3BShoigoioLVaqW1tZWqqipcLhfRaJTe3l5isRgyaSJE7pBp0jQWjUaZnp5GVVWKiorMzfcklUoRCAT427/9W3bv3s0DDzxg7pKT/H4/ly9fxmq1snLlSoqKinLuREGIXCTf8jRlGAa9vb0cOnSIc+fOmZvvmaqq5Ofn8zu/8zts3brV3JyzXC4XRUVF/Mmf/AkXLlwgkUhgGIaMEoXIcjIyTEOpVIqxsTGOHTtGXV0dq1evxuPxmLvdk1sP8HNThmLm95JIJBgfH8dqtc5XmVqtVrxer4wShchS8s1OQxaLBZ/Px9atW2lubl70INR1nb6+Pv7gD/6AkZERCcJbKIqCw+GgurqaoqIi3G43/f39fPe736WtrS2nCo2EyCUShmlE13V6e3s5duwYTqeT+vp6CgoKzN3uWTgcpr+/n+7ubhKJhLlZzLLZbPOVpyUlJfj9fuLxOKlUSn5vQmQZCcM0MjExwY0bN7h69eqSXqNKJBKoqsqTTz5Jfn6+uVncwmKx0NDQwLe+9S0KCwuxWCyMjY3R0dHB5OQkuq6bXyKEyEByzTCNvPXWW8RiMT73uc8t6bWpW68Vijv35ptvcurUKTZt2sSjjz6K0+k0dxFCZBgJwzQSDocxDGPJF8sOhUIEg0EqKyuXNHSzVTgc5ubNm9y4cWN+WyhVVbHb7eauQogMIUfCZeb3+/n+979PW1sbFotlyYNwbGyMU6dOcejQIRkZ3iWPx0NDQwPbtm3DbrfT09PD+++/z8WLF81dhRAZQsJwGQWDQXp6elAUBcsiLr79SSYmJpiYmJDbKe6R2+2mtrYWVVVxuVyEw2F6e3sJBoNomrak13yFEItv6Y++4mNFIhGi0Sif/exnqaurw+FwmLssOovFQk1Njdxov4jq6upoamoiPz+f6elp4vE44+PjhEIhc1chRJqSa4bLIJVKYRjGfd826NYb7e/nz80Vuq6TSCQIh8O89957VFVVsX37dlRVNXcVQqQZOSIug/379/Pqq69y7do1c9OSikajdHV10dfXZ24Si8BiseBwOCgoKCAvL4+Ojg6OHz9u7iaESEMShvdRIpHg5s2beL1eGhoaFm1Pwtt14cIFLl26xNjYmLlJLBJFUVBVlfXr17N9+3ZqampIJBKcOnUKv99v7i6ESBMShvfR3IGyubmZ5ubmRd+J4tPMrbeZl5dnbhKLrKKigqamJqqqqtA0jYmJCY4cOUJ7e7u5qxAiDUgY3geRSISRkRFGRkaoqqpixYoVS34LxUcpLy9nzZo11NbWmpvEErBardhsNqxWK9XV1fT09DAwMEAqlWJ6eloqToVII1JAs8QMw+D69eucOXOGYDDIt7/9baxWq7nbktN1HcMwsFgsckvFMolEIqiqSjQapaenh6amJlwulxTYCJEGZGS4xKampkgkEqxZs4avf/3ry3Lgi8Vi3Lhxg7Nnz8r1wmXkdDqx2+3YbDZSqRT/4l/8C06dOiWLfguRBiQMl5Cu66iqSlVVFU1NTRQWFi7LqCwQCPD6668zNTUlU3PLaG5U7nA4qK+v52tf+xo+n49wOEwqlTJ3F0LcRxKGSyCVSjE6Osorr7xCOBymqKgIn89n7nZf3HpvYVlZ2aLvjSjunNVqpaioiEceeYSqqiqsViu9vb28+OKLDA8Pk0wmzS8RQiwxCcMlEI1G6e3t5eTJk8RisWWZGr2V1+tlz549NDc3L0vhjvgwRVGwWq34fD48Hg+Tk5McPXqUrq4uotHogpMYIcTSkwKaRabrOgMDA3R3d7Nr165lD0Jd19F1/b6tfSruXjQa5fDhw2zevJmCggI0TcNmsy37Z0iIXCBhuMhCoRDxeByXy4Xb7V6Wa4S36u7u5urVqzQ0NNDY2Ch776UxXdeJRqM4nU4OHz7MjRs32LJlC5s2bcJms5m7CyEWkQwVFtGzzz7LqVOnsFqteDyeZQ9CgJ6eHo4ePUpJScmy3NIhbp/FYsHj8aCqKitXrqSpqYmOjg40TUPTNHRdN79ECLFIJAwXQSqVYmRkZP5gli6jL13Xyc/Pn1/tRqbbMkd1dTUbN26krq4OVVUZGRmhs7OTwcFBdF0nmUySSCTS7pFMJtE0zfyfI0Tak2nSe6RpGpFIhL6+PioqKsjPz0+bEVgqlSIWi6Fp2rJVs4rFce3aNTo7O3G73TzwwAPziyikG1VVsdls92U7MiEWk4ThPdA0jenpaYLBIIWFhWm3msjcVlFWqzUtpmzFvTly5Ah9fX1s374dn8+Xln9TVVWx2+1yC4/IOBKG9+DQoUN0d3fT2trKli1b0q7I4cUXXyQWi/HFL35RFufOAnObQTM7BZ5MJrFYLGkzE4GEochgcs3wLgUCAYqLi1m/fj0NDQ1pdUACGBsbY3BwkHA4nDbXMMW9cbvdFBYW4vF4sFgs84EoN+kLce8kDO+QruuEw2Eikcj8LhBlZWVpN2VlsVhYv349GzZsSLsRq7h7czfrMzsKu/XeUU3T0vI6ohCZQKZJ70A8HmdycpLR0VGKi4spLi7G5XKZu6UFTdNQFEVutM8yhmGgaRqBQGB+lRrDMFAUhUQigcVi+VBI3k8yTSoy1fJ8YzLU6OgoBw8e5ODBgxiGkbZBaBgGwWCQWCwm96ZluVtPeBRFIRqNkpBdMIS4YzIyvE3xeJxgMEgoFCI/Px+fz5eW04+pVIqJiQm+973vsW/fPvbs2WPuIjKYeWT4UW1zu2PM7ZpyP8nIUGQqGRnehlgsxuTkJIlEgqqqKoqLi9MyCJkN7Zs3b84vAC1yh6IoC6ZI565vz91iI4T4eDIy/AS6rhMMBjl79iz5+fk0NjZSVFRk7pZWYrEYN2/eJBKJUFNTQ2lpqbmLyGCfNDIEuH79OsFgEFVVMQyD9vZ21q1bR319PYqiMDg4yPj4OMFgEE3TcDqdlJSU0NjYiNvtnh9JxmIx2traGB0dJZVK4fF4KC0tpaCggMuXL1NTU0NjY+OHTgplZCgylYThJ0gkEvT39/PWW2+xfv16du7cae6SdjRNIxqNpt0CAGJxfFoY/v3f/z0dHR3YbDacTift7e189rOfZfPmzQSDQQ4ePEggEGBqagpN07Db7ZSUlPDQQw+xbt068vLyiMVi9Pb28pOf/IRAIIDNZqOoqIjy8nJ8Ph8vvvgin/nMZ/jSl770odCTMBSZSqZJP8bc1kcej4df//Vfz4gg1HWd6elprl69SiwWMzeLHGCxWJienmZkZARN0/jVX/1Vtm/fjmEYXLhwgWPHjrFixQq++tWv8q1vfYsdO3YwNjbGs88+y8jICAAjIyMcPHiQkydPsmXLFv73//1/5wtf+AKapnHgwAH8fj+KoqTd7URC3AsJw49gGAbj4+NcvHiRgoKCD00FpavR0VGOHTvGoUOHCIVC5maRA+YqSktLS3n66afZtGkTpaWlVFRU8PDDD/PP//k/59FHH2XdunWsWrWKLVu2sHXrVvr7+5mamiKZTDI+Pk5bWxvr1q1j8+bNrFixgvr6enbv3o3b7V622zaEWEryqf4I77zzDvv376eqqgqbzZYxZ8CxWIxYLMaaNWvS9rYPsfScTuf8tKbb7cZqtWKz2XC5XBiGweHDh/nBD37An//5n/P973+fI0eOEI1GCYfDxONxpqenGR8fp6GhgYKCAux2Ow6Hg6KiIlpbW+WzJbKShKFJMpnEarVSXFxMeXl5Rp0F5+Xl0dzczJYtW3C73eZmkSMcDseHRnChUIi2tjaOHj1KX18fsVgMh8OB1+ud32EilUqRSCSIxWIkEgmKiooWzIrYbDaqq6ux2+3zzwmRLTLnSH+fJJNJduzYwec+97mMmR6d4/V6qauro6ysLOPeu1g8c6vQ3GpgYICTJ09y8eJFVq1axRe+8AV+7dd+jW984xs89NBD8/11XZ/fj9C828ncUnCZMlMixJ2QMDSx2+3zZemZZmRkhLNnz5JMJjPy/Yul09vby9DQEK2trTz11FO0tLTM72QyF37MBuDciVQqlVqwgtFcFeut/YXIFhKGJj/+8Y95+eWX6e3tNTelvY6ODl577TWi0agswyYWSCQSGIZBXl7egpGd3+/n2rVr858Xi8WCy+XC7XYzMjKyYGm3eDzO5cuXiUQi888JkS0kDE38fj9+vz8j13f0eDyUl5d/aIpMCI/Hg6qq9PX10dvbSzQapbe3l7a2NsLhMIZhEA6HSSQS5OfnU1lZyaVLl+jo6CAQCDAxMcGFCxeYnJwklUqZ/3khMp76zDPPPGN+MpclEgkqKyuprKzMuBuHVVWlqKiI6upqubaTxQzDIB6Pm58G4PLly4yNjVFcXMzGjRvnn0+lUoTDYQYHB5mamqK3t5f+/n6SySTFxcUMDg6iaRoOh4P8/HxsNhvt7e0Eg0EmJiYYHBxkaGgIh8PByMgIq1evprW19UPXpueuV0qRjcg0EoYmtbW1rFixIuOCkNnrnQUFBTidzoyqghV35pPCcGRkBMMwqKqqorm5ef75vLw88vLyiMfj9Pb20tfXh8PhYPXq1WzYsIFwOIzf78flclFTU0NdXR2hUIiJiQkmJiZIpVKUlJRQWVlJZ2cnq1atYvXq1R+ahZAwFJlKlmMzSaVS89viZNrIqre3l+7ubnbs2IHdbs+49y8+3actx7YY5kaRk5OTlJeX43Q6URSFQCDAm2++yTvvvMOXvvQlPvvZz5pfKsuxiYwlwweTH//4x7z00kv09PSYm9JeR0cHr776qhTQiNtmGMaHdrUYHh7mtdde44//+I955ZVX6OrqYnBwkFOnTvHuu+9SV1dHVVXVgn9HiEwnYWgiBTQil2iaRjweR9f1+UAsKChg9erVlJaW0tbWxvPPP8/f/d3fcerUKerr63nkkUeoq6sz/1NCZDSZJjU5cuQINpuNhoYGysrKzM1pbWhoiP7+fjZu3JhRy8iJ27fY06TJZJJYLDa/y8ncZyYSiXD+/PkF2z3l5eVRV1fHqlWr8Hq95n8KZJpUZDAJwywSj8eJx+N4vV4poMlSix2GmqaRTCax2WyLcp1cwlBkKjlimqRSKTRNW5QDzf02MjLCuXPnZAUacdtUVcXpdC4YFQqRiyQMTaSARuSSjyqgESIXSRiaSAGNyCUfVUAjRC6Sa4Ymhw8fxmaz0djYKAU0Ii1pmkY0Gl2U8BofH6evr4/Gxka8Xu89n0hZLBasVuv8tlBCZAoJwywiBTS5Y7F2jujr6+PKlSts3rz5Q/sX3g1FUeYfQmQSCUMTWYFG5JK5r798VkSuk+GDyU9+8pOMLqCRLZzEnQiFQnR1dRGJROQzI3KahKHJ5ORkRhfQlJWV3fN1H5E7+vr6eP311xkZGSGZTJqbhcgZEoYmGzZsYO3atRQUFJib0l5tbS379u3D4XDINUNxW2KxGOPj4/Ob/wqRq+SaYRaRAhpxp27evMn58+fZsWMHxcXF91xAI0SmkjA0mavSkwIakQukgEaIGTJ8MMn0FWikgEbcCSmgEWKGhKGJFNCIXCIFNELMkDA0yfQCmr1790oBjbhtUkAjxAy5ZphFpIBG3Km5ApoHH3yQkpISKaAROUvC0EQKaEQukQIaIWbI8MFECmhELpECGiFmSBiaSAGNyCV9fX3s379fCmhEzpMwNJECGpFLYrEYY2NjUkAjcp5cM8wiUkAj7pQU0AgxQ8LQRApoRC6RAhohZsjwwSSTC2g6Ozt57bXXiMViUgwhbksoFKK7u1sKaETOkzA0yeQCGrfbTVlZmUyRitsmK9AIMUOOmiZSQCNyiRTQCDFDrhlmESmgEZ8mkUjQ2dk5H3zmApq5a81Op5O6ujq5lihyhoShiRTQiGzW39/Pb//2bxOPxxecMN1aSONwOGhpaeE//If/gN1uv+XVQmQvGT6YSAGNyGaKomC1WgmHw/j9/vnH1NTU/MPlcrFu3TqZXRA5RT7tJlJAI7KZzWajoaEBm81GKpX60MPpdNLU1MQDDzwgnyORU+TTbrJ+/XrWrFmTkQU0NTU1UkAjPpHL5WLnzp2Ul5djtVoXtCmKQkVFBa2trdTX18tnSOQU+bSb7N27l507d1JWVmZuSnslJSW0trZis9nkeqH4SC6Xi927d9PU1ITX613Q5nQ6WblyJa2trTidzgVtQmQ7CUMTTdPQNC0jy8yHh4c5d+6clMmLj2W1WqmoqKClpYXi4uIFbSUlJWzatIk1a9YseF6IXCBhaCIFNCIX7Ny5k3Xr1uH1elEUBVVVWbNmDfX19TIqFDlJwtAkkwtoPB4P5eXlGXlbiLi/VqxYQUtLCxUVFVgsFgoLC9m2bRs1NTVyrVDkJLnP0OTQoUPYbDaampoy7rrh0NAQ/f39bNy4Ua4b3iFdN9CSoGkGkBtfiQvnL/D6669z/P3jtK5q5Td+8zdobmrGaltYWJOtLBYFq03Bosr3REgYZhVZgebO6JpBPKoTDWvEIzrJuI6WmgnGXDA9HeLSpUu8//77rF+/nu3btuPLwCrqu6EAVocFq13B4bTg9Kh48mVT7FwmYWiSySvQ9PT00NXVxc6dO7Hb7RKIn8AwIBJM0XM9StelaSaHE1isCk6XSjIh11tzgdOjMh1I4fKoNG/0smF3PhaLMpOUIudIGJo8++yzOBwONm/eTH19vbk5rb377ru8/vrr/Nt/+2/Jy8tDVeVM9+P4RxL0tUUZ7Y9TuzoPp1tFtSoolpmgFNnPYoFk3CASTBGcSBCYiLPjqWK8hVYy7DxYLAIJQ5M///M/x+l0smfPHlpaWszNae3kyZMcPnyYb3/723g8HhkZfoyJ4QSDnVHCQZ2SFU4KyxzY7BYU+XXlHEOHRFwn5E8yfDOCxQJN6z2UVMmarLlGvv4m2bICTaZN8d4vug6jvTGi0zqFFQ7Ka13YnRKEuUqxgMNlobDUzoqVHqanUkwOJ4iEZi6XiNwhI8MsIgU0n8wwIB7ROfOOH3eejebN+eYuIocZukHHhRDoOhV1DqqaXOYuIovJEdNkbsHiTLxpfXh4mDNnzsgKNB/DMAyCk0niUR1dfj/iQ2YqSyMhjXBQRoa5RsLQ5Cc/+Qkvv/wyvb295qa019XVxeuvvy4r0HwMQ4dwMIXLq+LOy4176cQdUMCTb8ViVWbvNxW5RMLQxO/3EwgESCaT5qa0N7cCjaqqcs3wY2hJA10zpGJUfCRFVUjFDVJxOZnMNRKGJuvXr2f16tVSQJOlDAM0beb6kBAfYoCW0mVkmIMkDE327NnDjh07KC0tNTelvaKiIlatWoXVapUwFEKIOyBhaCIFNEIIkXskDE2kgEYIIXKPhKFJJhfQuN1uKaARQoi7IGFokskFNLW1tVJAI4QQd0HC0EQKaIQQIvdIGJqkUik0TcvIAhQpoBFCiLsjYWjy/PPP8/LLL9PT02NuSntSQCOEEHdHwtBkcnKSqakpKaARQogcImFoIgU0QgiReyQMTTK5gKa4uFgKaIQQ4i5IGJpkcgHN0NCQFNAIIcRdkDA0kQIaIYTIPRKGJlJAI7LN0aPv8fwL/8Dx9w+bmxZVb18Pr772U/7m+3+FpsnmuCKzSBiazBXQ+Hw+c1PakwIa8VHaO25w5sxJujrbzU2LanJynAsXz3L02HsYhsxMiMwiYWgyV0BTVlZmbkp7UkAjhBB3R8LQRApoxJ3SdQ1N09B1HU3TSKVS879/A2P+eU1LzT5m+n7U32hh3w/6zf3fi8kwPvhZc5/7j3tfc+/hdv4bzD547cz3yjCM+d+ZmWEYC7ZQm+mro2kzz2maRuo23q8Qd0ox5JO0wLPPPovD4WDLli3U1dWZm9Pau+++y/79+/m93/s98vLyUFXV3CWnaSmDrkthhnriFFc6qG31mrvcle/9zz8jmUxSXlbBjbar9Pbe5Dd/87fZtGkrgcAUZ86cpL39OgP9vcQSMXz5BTQ1tfDII5+hvKwcu92BYRhMT0+z/8DLXLl6kXA4TElxKWvWrKNmRR0vv/Ii69dt5Mknv4jb7Ta/hU/0/b/9H9y4cZV1azfwzW/+JgCJRIJTp47z/skjDAz0EY1GKSkuYdWqtWzZ8gBrVq+bf30wGODylQu8995bDA0PoCgWfL5CVreuZceO3dTXNaIoCucvnOG1n/+M7u5OvvsXf4vVasMwDC5fvsDr+19mKuDn13/tO0SjEU6cOMrExBj/+l89g8Uyc04ej8e40XadP/3TP+Jr/9s32br1AaLRKMffP8zRY4f4wue+QnvHNa5evUxKS1FUWMye3Y+wZct2ysoq5t/v3TIM8A/H6boYpKjCxsa9mXevsbh7MjI0mSugSSQS5qa053a7KS0tlQKa+2xsfJSLl85x6cp5FIuF9Rs2U1hYxHQoxOVL53n99ZdIJOI0Nq1k/brNFBWXcOPGVV559QVGRoYBmJqa5OTJo7z99n4cDidbNj/AqlVrGB8f4+2393Pp8jkm/ROLdi3u4ME3OXL0ILFYjO3bdvKZJz5PZWU1V69d4tChtxkbG8UwDGKxGEePvsc77xwAYPeuR9i962EKCwq5evUSr+9/mVgs+rGjsytXL3LwvTfp7b3JA9sforCgiHg8zsjoMP0DfQv66rpBJBKms6udqYCfZDJFIplgYmKcGzeucvbcSUpLK3jyyS+wZ/cjuD0e3nr7dS5dOk84HF7wbwlxpyQMTTK9gGbfvn1SQHOfWRQLkcg0FouFPbsf4bNPfZmqqhWoqorT6WLFilq2bdvBI498hiee+Bw7HtxNcXEJ779/hJHRYTRNY3x8jBMnjxKLxdi8cRuPPfokO3fuob6ukb6BXqLRKKDMPu6epqUYHR3h6LH3CEfCbN60jccee4qnnvwCD+97gvx8H52dbVy4eBZd17l5s5Nz508TDAbZ9dDDPPHE53ji8c+xZ/cj+HwFnDt3mrb2G7Pvb6Ge3m6OHnuPvr4eNqzfxL59j1FUVDw/Erwdyux/byIRx263s27tRj7zxOd56skv8sjDTzA2Psr1G1cZGR0yv1SIO3L7n8ockekFNK2trdhsNgnD+0kBp9NNXW0Du3c9TGNDEx63h/x8H+vWbeQXvvw1albUYRgG4fA0hqFT4CtkfHyMqSk/iUScqSk/7e03aGlpZdWqNZSVlVNeVsHmzdsoK6vAZrOZf+pdSSQStLVfp6+/l7raenbu2ENZaTkul5s1a9azds0GDAxOnTqOpmlcuXqRSf849Q2N7Nq1j8KCIgoKCtm4cSvr128iFotw+vRxpqeD80GtaxqBQIBDh96hre061dU1fO5zv0CBr/Cupu6N2Wup69dtoqqqGrvdTlFRMTse3E1pSRkjI0MMDPSbXybEHZEwNLn1Qn+mGRkZ4fz581JAswwKfAWUlpYveE5RFBKJODdvdvM33/9LnnnmX/Ev/uV3+P3/61/y9z/6G6LRCNFohFgsRiQaYdI/QU1NHa5brgna7Q7Wr9tMft7izFSkUimGhgYwdI3CwiIKC4sWtBcWFOF0uBgc6scwDMbGR7FZbZQUz0y/z7HZbOTn+cjP89HX10M8Hp8ZtyoK0ViEk6eOs//AK1SUV/LUk19kxYraez5BK6+owuP54DqvoigUFBQSj8cJBacW9BXiTkkYmvzkJz/h5Zdfpre319yU9jo6Onj11VdlBZplYLFYPjTqGR4e5J133+Tv/+GvKSou5Zvf+E3+03/8f/jj//Ln/OZv/JP5QphkKkk8HgfA4XCi3jKNqCgWPB4vqvXOR1QfRdM1gsEpFOXD7xfAarOiqhYSiThgEJ6eRtM0rFaruSsW1YLVaiMWj6EbOgZg6AYTE+P84O++x9jYKFar9SNfezdsVuuHplhtNjuaniKRgYtkiPQiYWiSDQU0Fovlns/CxR1SlA/9zvv6erjRdhW3x8O+vY/xwAMPsWb1empr6ykoKERRZr5+twapYRjcOqY3DIN4PIquLc7JjYKCqqrouv6RJ0yapoOi4HK6AAWLapmfpjQz9JnbHtwuD6pFnb2RxMDpdLFp08w06vDwIOfOnf7Ia4pmM7ddfPjnzLn1los5mq6hoHwoJIW4U/IJMpECGrFYJv0TTE35WVFdQ8vKVkpLy3A4HESjEQYG+tD1mfvsVIsVh92B3W4nFAqSumWUk0ol6evvIRr79DC5HaqqUlxcCgqEw9NEIgurMMPhEIlEgsKi4plpSF8huqYRDAUXBJGmaUSiESKRMCUlpVhnr2kqKOTn+/jsU1/ic5/9MnaHg/MXznDhwpn5qXvL7GdTN907mUwmCIen5/9/s/HxMaLRCNxy7+J0KIjVarvj202EMJMwNMmGAhpZgSa9GAZEIhFSqRSRSIThkUF6errQUhpaKoWBjtvtpqiomL6+m/j9kySSCRKJBOPjo3R2tn0otO6WzWanob4Jl8vN0NAg3Tc7icVipFIp/P5J+vt7icdi1Nc1YrEo1NbUY1FVBgf6GB4ZIpFIkEjM3RrRSzweo7GxGafTOfMDFHA6XaxZvY49ux9h44athMPTvPHma4xPjJFKpXA4nNhtduLxOH7/xPwN9JOTE/T23vzQ9e65T3J7x3VGRodJpVIkkwmGhgYYGx8jLy+fkuLM23JNpBcJQ5NMLqAZHh6WFWjSiC+/AKfTyfUbV7h+4wpTAT/t7de5dOn8zBSpohAIBoiEw+T7CmhqXMmFi+e4cPEsoyPDDA8PcuToQULB4Pwo8l7Z7XZaW9eyorqWGzeu8sYbr9HT282kf4KD773F6TMnsNnsPLRzLxaLyoaNWygvq6Ct/TovvfQTRkaGGRwc4J13DvD++4cpLChi5449H1ngY7fb2bv3UTZt3sbVq5d4663XCQT8FJeUUlpaTiQS5tjxwwSDU4RCQW60XeX9E0fN/wzMTiWfPXuS69euMDk5wdj4GC+/8gL+yQnq6hqoq2s0v0SIO6I+88wzz5ifzGU//vGP6ezsxO12Z9xu92fPnmX//v3s3LkTu90u11FMDB38o0mmAxruPCu+Eru5y12Zu3m9oaGJpqaW+ec93jw8bg+jo8O8f+IIb731OgMDfTQ0NLNv72N0d3dw5eolQqEQlRVVNDevYmh4gIsXz3LixFE6Om5gsaisWrWGgYE+GhtXsn79pju+zeL8hTNMTIxRVlbOhg1bUBSF4uISNE3j+o2rvP32fg4depvBwX5aVq7m0Uc/Q2vrOmw2Gw67A4/XC4bBlSsXOPDmq7x/4igTk2OsalnDF7/4i9TU1KGqKsMjQ7S3X2dqys8XPv8VLBZ1piBIVQmGZm61aG5qobKyGq83j1gsyqFD7/DW2/s5c/YEqqrS0rKas2dPsX3rDurqGkilUnR2tnHt2mU+97kvc7Oni5/97DneePM1urrb2bf3cXbvepjKyupF+bzHpjX8I3FcXpWKutnRrsgJshybyV/8xV/gcrnYvXs3K1euNDentRMnTnD48GG+853v4PF4FuXgkE2Wajm2i5fOkUjEqayoprq6Zv55TdOYCvjp6enGPzlBMpXE5ytkRXUNJSVlXL58nqmAn5KSMlZU16KqKufPnyaeSGCz2fB4PDgdTnp7b/LKqy/y2KNP8Uu/9PRHVoF+kvaOGwQCUxQWFNHUNPOZjkYjDA4NMDQ0wHQohGJRcLs9lJdVUF5RiS//gxPBUCjIyMjwTN9wCKvVhsftobS0jOrqGtxuDwCTkxP09fcQCgVnR5Yzn79gMEBffy/9/T2sX7+Z0pJSYrEYA4P99Pf3kEqlcDpdlJVVkOfN4/KVC7SuWktFRSXDw0MceONVfvL83/Of/uP/F4fdwdj4KFpKQ1VVGhubqaysnn8P90KWY8ttEoYmhw4dwm6309jYmHHXDYeGhujr62PTppnRg1w3XGipwnAxBIMBOjrauH7jCqtWraGurgGH3cHgYD+vvPoiw8ODPPmZL/DEE58zvzSrdXd3zofhX/7FD2hZ2WrusmgkDHObDB1M9u7dm9EFNKtXr5YCmgwUiYRp77jBgTde5e13DnDy5HHOnjvF8RNH6OxsmwnI+kZCoSBtbddu69HZ2U4wGPjI3SGEEAvJyNBk7sCRiffq9fb20tXVxY4dO+T2io+QziNDZqcjn33uB7S1XaN/oI94PEpZWSUPPrCLJz8zs5D28eOH+S9/9O/NL/1IhYVFfOtb/4itWx7A58vMUU73zU7efPPnPP/CP/Dnf/o3rJSRoVgiEoYmzz33HA6Hg82bN8sWTlkm3cNQ0zSmpiaJxeMkkwkMXZ+5PufxkJfnw2azMemfoKOjzfzSj2Sz2aipqcPnK8BmvbOim3SRSMQJhoIEpvysWFGLw7F0RS0ShrlNwtBECmiyV7qH4e3QNI14Ymbptk+jKAp220xVscwSfDoJw9wmR0uTdevWZfQKNHv37pUp0iymqipul/u2Hi6nC1X2thTitkgYmkgBjRBC5B4JQxNZgUYIIXKPhKHJ888/zyuvvJKRWzh1dnby+uuvyxZOQghxhyQMTSYmJvD7/Rm9hZNcJxJCiDsjYWgiBTRCCJF7JAxNpIBGCCFyj4ShiRTQCCFE7pEwNJECGiGEyD0ShiZSQCOEELlHwtBk3bp1tLa2ZmQBTU1NjRTQCCHEXZAwNNm7dy87d+7MyAKakpISKaD5FIoCFsvMup1CfJiCRVWwWOTzkWskDE2kgCa7qVYFu8OCapWDnfgICjjcKnaX7PiSayQMTbKhgCYej0sBzUdQLOAtsBIOpggHUuZmkesMCPmTaCkD1WpuFNlOwtAkGwpoZMuej6YoCvlFNmx2BcMwkMGzWMggFk7h9Fhw50ka5hoJQxMpoMleigIOt4XiSju6ZjDaGzN3ETkqldCZGEoQDaXIK7SSXyxhmGtkc98skkgkiMfjsrHvp/CPJum5FiHkT1G/Ng9XnorVasGiKijya8sZhgG6ZpBK6EwHUvTfCKOqBs2bvJSucJi7iywnYWgyd61NUZSMG1319vbS1dXFjh07ZHT4KcIBjZ5rYS4cDrD2oQIKyxy486zYnJKGuULXDEL+JJNDCQLjcQxdZ9sThXjyZVSYiyQMTZ577jkcDgebN2+mrq7O3JzW3n33Xfbv38+//bf/Fq/Xi6pKRdzH0TWDSEhjrD/OUHeMydEkiaiOoRnE41J8lO0UBfIKrVhUBY/PSkWtk+pmJ+48FYsqJ5G5SMLQ5C/+4i9wuVzs3r2blStXmpvT2okTJzh8+DDf+c53ZKr0Nui6QSJmMDWaIBLSSCV1dG3m+fsplUrR0d7BsePH+PrXv47L5TJ3SXtdXV309PTgy/exZesWc3NacrhmpsYdLgt5hTbyCmVEmMskDE0OHTqEzWajqakp4268HxwcpL+/n02bNmGz2WSaNENomkZHRwfHjx/nV37lV3A6neYuaa+7u5sbN27g9XrZuXOnzEqIjCNhmEWkgCbz+P1+bDYbHo8n409e/H4/yWQSn8+HwyEFKCKzyBHTRNd1dF3PyBVcZAWazGIYBgcPHuTixYtommZuzjiFhYWUlJRgtVrl8ycyjoShyU9+8hNefvllWYFGLKlgMMh//+//naKiIlatWpU104o3btzgb/7mb3j//feZnp42NwuRtiQMTWQFGnE/OBwOdu3aNb/AQ7b8vYqKiqirq+Ps2bMShiKjSBiayAo0YikNDw/T0dGBpmk8+OCDlJeXY7VmTxVjSUkJmzdvpra2Vq4biowiBTRZRApo0pvf7+fSpUuEQiEefPBBioqKsvrv5Pf7cTqdGXmriMg92ftNvEtSQCOWynvvvUcoFGLTpk2UlJRkdRAyuwhEe3u7XL8WGSG7v413IdMLaPbv3y8FNGnq4YcfZvfu3Rl3/+rdys/P5/z58xw9etTcJETakTA0yfQCmrkRh1wzTA8TExMcPXqUtrY27HY7Pp8Pm81m7paV1q5dS2trK4WFhVlx64jIbhKGJlJAIxbL1NQUfX19TExM5OS0dWVlJatXr6a6ulrCUKQ9KaDJIlJAk156enoYGhqiqKiIxsbGrKoavV2GYRAMBvH7/RQXF+N2u7PmnkqRXSQMTTJ9C6fu7m4efPBBGR2KtHHy5Elef/11Hn74YbZs2UJeXp65ixDLToYPJpleQCMr0CyveDzOoUOH+PnPf05bW5u5OSe1tLTw1FNPcenSJcLhsLlZiLQgYWgiBTTibkWjUQYGBojFYlRVVVFSUmLukpPy8vJobW1lz5495Ofnm5uFSAsyTWry3nvvYbfbM3YLp76+PjZv3ixbOC2DaDTK2NjYfBh6vV5zl5zX3t5OUVERxcXF5iYhlpWEYRaRAprlEY1GCYfDKIoiB/lP8eyzz7JixQo2bNggo0SRVuSIaZLpK9CcPXtWVqC5zzo7O/nZz37Gq6++am4SJkVFRVy+fJn333/f3CTEspKRoclzzz2Hw+Fg8+bN1NXVmZvT2rvvvsuBAwf4vd/7Pbxer5SwLzFd15mamqKjowO73U5NTY2MDD9FMBhkbGwMm81GdXW1fEZF2pCRoclcAU08Hjc3pT0poLl/DMPAMAwsFgs1NTU0NjZKEN6G/Px8qqqqKCwsJJlMmpuFWDYShiZzS0gVFBSYm9JeTU0Ne/bskXsMl1gikaCvr49Dhw5hsVgoLy+X6193wOFwMDU1xalTpxgfHyeVSpm7CHHfSRia7Nu3j507d2ZcJSmze8mtWbMGq9UqYbhE5lZUaWtrm1+AWoqV7ozFYmFsbIwTJ05w9epVotGouYsQ9518i02kgEZ8klQqhd/vp6SkhN///d+XEeFdam1t5fOf/zyXL1+WMBRpQcLQ5Pnnn+eVV17JyBVourq6ZAWaJTQ3KiwoKKClpcXcLO6A0+mkoaGBr33taxQVFZmbhbjvJAxNxsfHmZyczNgCmtLSUimgWQLhcJg/+7M/o7+/n/z8fNxut7mLuAMWiwWHw0FhYSGnT5+mv7/f3EWI+0rC0CTTC2hkC6fFl0gkmJiYQNd1XC4XDofD3EXcg5s3b3Lt2jWGhobMTULcN3KfYRaRFWgWXzKZJBAIMDExQUNDA3a73dxF3KODBw8yNjZGfX0927dvNzcLcV9IGJrc+uvItNFVT08PnZ2dPPTQQzI6XCRDQ0OEQiEaGhqkSncJBYNBDMMgLy9PTuTEspBPnUkmb+HU1dXFgQMHpIBmkfzt3/4t7733Hnl5eRKES8zhcKCqqlSWimUjYWiSyQU0Ho+HsrIyKaC5R3NVo62traxfv56CggL5fd4mwzDQdZ1UKnVHD0VRGB4e5vjx4/M7f5j73I+HTJTlLpkmNXnvvfew2Ww0Nzdn3I33Q0ND9Pf3s3HjRtnC6S4lEgmmpqbQdZ38/HycTqdM290BXddJJpN3tdRaf38/3d3dtLa2UlhYiNVqNXdZck6nE1VV5buTgyQMTeZ+HZn4ZZACmnsTDAYZHR1lcnKSxsZGfD4fNpvN3E18glQqRTQavauZFcMw0DSNVCqF3W5fls+w1+tdtp8tlpf8xU0yeQWaoaEhTp06JSvQ3KWTJ0/y4osvkkwmycvLkyC8zxRFwWq1ymhcLAv5xJm88MILGb0CjRTQ3J1kMsmmTZv45je/ycaNG+UWimWk6/r8NUMh7hcJQ5NM3sJJCmjunKZp9PX1MTQ0hNVqpbKyEq/XK7+/ZaQoCoZhzBe1CHE/SBiayAo0uWN6eppr167R1tZGNBrFarXK9FwamJsuvZvPsGEYXL9+ndOnT3Pz5k1zsxAfS775Jnv27GHHjh0ZV0kKUFxcTGtr610fSHJNOBzmxo0bRCIRfD4fXq/X3EUsE5vNht1uR1VVc9OnOnz4MC+99BIXLlwwNwnxsSQMTaSAJneUl5fzi7/4i3zxi1+koqLC3CzShFz/FveDhKHJCy+8wKuvvpqxBTRvvPGGFNB8isHBQS5dukRbW5u5SaQRRVFIJpNEIhH5PIslpz7zzDPPmJ/MZYcOHSKZTFJVVUVxcbG5Oa2NjY0xPj7Otm3bsNvtMlVqomka3d3dXLt2DYDa2lrZimmRza0+o2na/HPxeJze3l5++MMf4na75+/li8fjdHV18eqrrzI8PIzT6ZzfLDkYDPLOO+9w48YNiouLcTqd9PT0cObMGY4ePcrJkyfp7OwkFArhcrkW/B3Pnj1LIBAgPz8fm83GkSNHOHLkCFevXiUcDuP1enG5XPP9bzU3NSvfndwjI0MTKaDJfl6vl/Ly8ow72clk09PTHDx4kGvXrhEIBACIxWJcuXKFw4cPc+LECfr6+ub7j4yMcOrUKW7cuAHA8PAwBw8enO8XiUQYHx/n/fff58yZMx/a/ikej9Pf38/ly5eZmJhgYmJi/medOXNmQV8hkDD8sGwooJGl2BbSNI1IJEIgEKChoYHdu3fT3Nxs7iaWiMPhoKioiLKyMsbGxgiFQjAbWF1dXeTn5xONRhkfH59/zcDAAKlUiuLiYtxuN+fPn+fYsWNYLBYeffRRnn76aR577DGmp6c5evQoFy5cWDAaDYVCjIyMkEgk2Lt3L1/96ldZu3YtQ0NDvPvuuzL1Kj5EwtAkGwpo4vF4Rr7/pRIKhbh69Sqvv/46kUjE3CzuA4fDQUtLC36/f0EYdnR00NzcjKIojI6Ozvfv7+/H7XZTWVlJJBLh2LFj+Hw+HnnkEXbu3ElxcTEtLS08/vjjRKNRrl69uuBvG4vFqKmp4Qtf+AItLS20tLSwa9cumpqaGB8fp7Ozk0QiMd9fCAlDEymgyS6Tk5OcPXuW7u5unnrqqY+9ViSWlsPhYOXKlUxMTBAIBEgmkwSDQYaGhli7di0FBQVMTU0RDAZhNgxdLhfl5eXEYjG6u7upqKjA4/HM34ivKAp1dXXk5+czNTVFf3///M8rKCigtLR0we0yZWVllJSUkEwmmZiYkBv6xQIShibRaJRIJHJXq+4vN6/XS0VFhaxAcwuXy0VjYyMbN26kuLj4ru5bE/dubmSYTCbx+/2Mjo4yMjJCfn4+5eXllJeXw+z06NyUqc/no7y8nEQiwfT0NO3t7fz0pz/lz/7sz/iTP/kT/uRP/oQf/vCHdHV1EY/H569FMrv7hNvtXvD3drlcOJ1ONE0jGAzKCaNYQMLQZO3ataxatQqfz2duSns1NTXs2bNHCmhmpVIpAoEAPp+PlpYWc7O4j2w2G9XV1Xg8HoLBID09PYyMjFBXV0deXh7l5eU4HA66u7sZHBwkkUhQVFREUVERiqJgsVhIpVJMT08zOTnJ+Pg44+PjhEIhVqxYQUtLy4JR4Ed9/uXSgfgkEoYmW7duZfPmzZSWlpqb0l5RUREtLS1SQDN74ItEIpw7d46Ojg5zs7jPLBYLHo+HyspKYrEYnZ2djI2N0dTUhMPhoKSkBKfTSVdXFzdu3MDr9VJUVITb7cZut+P1emlpaeHJJ5/kG9/4Bk8//TRPP/003/zmN/mVX/kVHn30UWpra+d/Xjwe/9DiE9FolFgshqqq5Ofny9J7YgH5NJhIAU12mAvDkydPzpfni+VXU1NDMpmks7OT0dFRmpqacDqdlJaW4nA46OjooK2tjYqKivnbm+x2O9XV1ei6jsvlmh8JtrS00NTURFlZGT6fj7y8vPmfEwwG8fv9Cy53TExMMDk5ic1mo7S0dFk2DxbpS8LQJJMLaLq7u6WAZpaiKLhcLjZu3EhjY6O5WSyT2tpakskk3d3dTE1N0dDQMD8y9Hq9DAwMcOPGDcrLy+cvVfh8Pr74xS8yOjrKuXPn6OnpmR9dPv/88/zVX/0V77zzzoKCGFVV6erqYv/+/UQiEaanpzl//jzd3d2UlpbS0NAg23SJBSQMTebOHjNxCye3201paakU0MyGodvtZvv27XK9MI3U1dVhsViIRCJ4vV6Ki4uxWq24XK75FWOGh4epqqqaHxm6XC42bNjAk08+icfj4ejRo/z1X/81P/rRj7hy5QoFBQXU1tbOF8vouk5BQQH5+fkMDg7yve99j+9973ucPXuWsrIyHn74Ydxut0yTigVkOTaTSCRCWVkZVVVVeDwec3Nas1gsFBYWUl1dLUtKzU6VxmKx+YOtWHoftRzbrRwOB9FoFJ/Px/r161mzZs18gYyu69jtdioqKti5cydFRUVYLBYsFsv8bRYOh4N4PE40GsVut1NfX8+2bdtobm7G6XTC7G4kFRUVNDU1UVxczMTEBBaLhaqqKjZu3MjGjRs/9vMgy7HlLsXI9YtLJnO/jkz8MiQSCeLxuGxOO/t3DIVCHDlyhJKSEh544AFzF7EEUqkU0Wh0yWZW5qb/l2pUN7du6lL9+yJ9yV/cRApossNcAc3p06dld4osMfc3lVWExFKQMDSRAprscGsBTVNTk7lZZKhcP8kTS0fC0EQKaLLDXAHNtm3bWLlypblZZCBFUXA6nTgcDnOTEPdMwtBkzZo1rFq1SrZwygKKoqCqqlz/ySI2mw2bzWZ+Woh7JgU0JlJAkx2kgGZ5SAGNyFTyFzeRAprsIAU02UcKaMRSkjA0kQKa7CAFNNkp10/yxNKRaVKTv/zLv8TpdLJr166MW7nkxIkTHDlyhG9/+9t4PJ6cn+pJJpOMjo7OL/cllp6u6ySTySXZAs0wjPkl15bquqHT6ZSb7nOUhKHJe++9h81mo6mpaX6PtUwxNDREX18fmzZtkp0rZq9fjY+PY7fbKSoqMjeLJWAYBoZhZOzMhARh7pIwNJECmuwgBTTZxzAMRkdHATLuRFWkv9yeR/sIUkCTHaSAJvukUin++q//mh/84AfmJiHumYShyYsvvshrr71GX1+fuSntSQHNB6SAJvvMzXbk+qyHWBoShibj4+NMTEwQi8XMTWnP5XLJCjSzZAWa7GOxWHjqqad44oknzE1C3DO5ZmgiBTTZQwposk8mX9MX6U3C0CSTv2xSQPMBKaDJPoZhMDw8jKIoVFRUmJuFuCcyTWqS6QU0p0+fJpFIZOT7X0xSQJN9UqkU3//+9/nhD39obhLinkkYmmR6Ac2BAweIxWJSQCMFNFkn12c7xNKSMDSRAprsIAU02UcKaMRSkmuGJlJAkz2kgCb7ZPI1fZHeJAxNMvnLlkgkSCQSeDyejHz/i0kKaLKPYRiMjIygKErGnaiK9CfTpCaZXkBz6tQpKaCRApqslEql+Ju/+Rv+7u/+ztwkxD2TMDSRAprsIAU02SfXZzvE0pIwNMn0ApqSkhIpoJECmqxksVh48sknefzxx81NQtwzuWZocvDgQex2e0YW0AwODtLf3y8FNLPmCmgcDgeFhYXmZpGBMvmavkhvEoYmmfxlkwKaD0gBTfaRAhqxlGSa1EQKaLKDFNBkHymgEUtJwtAk0wto3njjDSmgMRXQNDY2mptFBsr12Q6xtCQMTTK9gKa4uFgKaEwFNC0tLeZmkYGkgEYsJblmaCIFNNlDCmgyW3d3NwMDA8TjcSyWmfN2wzDmLwFYLBYMw6C1tZWqqirTq4W4MxKGJlJAkx2kgCbzvfTSSxw4cICBgYH5MNQ0DcMwUBQFVVXRdZ3f+Z3fkfVKxT2TaVITKaDJDlJAk/lqamooKytjbGyM/v5++vv7GRoaYmhoaH4WpK+vj+npafNLhbhjEoYmUkCTHaSAJvOtWrWKDRs2UFhYOD89eutJnq7rVFRU4PV6F7xOiLshYWgiBTTZQQpoMp/H46GxsZH169djtVoXfKYVRcFqtbJlyxbZ9V4sCglDk9WrV9PS0oLP5zM3pb2amhr27t2Lw+HI+TBk9oCpqiqqqpqbRIaorq5mx44d5OfnL/g7qqqKz+dj586dUjwjFoWEocm+fft46KGHMq6SFKCkpIQ1a9ZIJekt1wzPnTtHe3u7uVlkiJKSEjZt2kR9fT0OhwNmT3KcTidNTU1s2LCB4uJi88uEuGMShiZSQJMd5sLw1KlTUkCTwRRFwefz8fjjj1NYWIjFYsFisVBSUsLnPvc58vPzzS8R4q5IGJpIAU12kAKa7JGXl8ejjz5KQ0MDbrcbl8tFbW0te/bskeIZsWgkDE2kgCY7zBXQbN26NTsKaAwwcvShqlaKi4rZuHETFRWVVFVVs3nzFny+AiwW9UP9c+VBbk/+LDq56d7k4MGD2Gw2mpubM+66oaxAs1BGr0BjQCyiMTmSIDqtoSgKWtIgmczdEf+1q9c4ffo0FtXC9u3bs+Mk5y7ZbBasdgXdMHB7rRSV23G4ZWxzLyQMTWQFmuwwtwLN0aNHKS4uzqgVaAwDwoEUo/1x+tujTI4ksDtV4hGN6LRm7i5ykDtPxeFSScQ1issdrGhxUbrCjjvPSo5/9e+ahKGJps0cbDJxqrGnp4euri4eeugh7HZ7xr3/xaTrOqOjo/yP//E/aGxs5OmnnzZ3SVuJuMGpNyYZ7I6xfnch3nwrbp8Vq9Uic2NilkIqqRMOpJgOpLh0xE/NSifbnyjCas/d7/29kDA0ef7557Hb7WzatIna2lpzc1o7ePAgBw4c4N/8m3+D1+vN6fvrDMMgGAxy8OBBSktLeeihh8xd0o5hgJY0OP7zCax2lRUtHtx5VlSrgkVV5IxfLGAYoKcMNM0gHEzRd30aXdPZ/eUS+azcBZlkNhkbG5MCmiyQiQU0qYRO16VpVJtKSbWTglI7dqcF1SpBKD5MUUC1KdidFgrL7BRXObGoFrovh0klZYxzpyQMTWQFmuyhzC7ZlSkj5GTCoP38NL4SO4VldnOzEJ+oqNxBfrGd9vPTJBO5W2h1tyQMTWQFmuxw6wo0HR0d5ua0YxiQTOj4RxNYbQp2Z2YEuEgfdpcFq03BP5pASxozt1+I2yZhaCIr0GSHuTDMlC2cUgmdWFinpNqJ06OiyDdT3CHVquDKs1JQYicR09FTuX0MuFPylTP56U9/KivQZIG5FWg2bNhAQ0ODuTktaZrB9FQSTQ5i4i6lEjrBySSaZkjd8R2SMDSRAprskIkFNBigpQwMXQ5j4u7MVSRLEt45CUOTTC+g2bNnjxTQzFIUBZvNljEFNEKI5SNhaJLpBTRr166VAppbrhmePXs2IwpohBDLS8LQRAposkOmFdAIIZaXhKGJFNBkh0wsoBFCLB8JQxMpoMkOGVlAI4RYNhKGJlJAkz2kgEYIcbsyOgw1TSOVSi3qY/fu3Tz44IMUFxd/qO1eH3M7YiwVKaD5gBTQCCHuRMbuWqHrOlNTUxlzbUxRFFRVxefzLVlQyRZOH5jbwul73/sejY2NfPOb3zR3SSvJuM7YQILDPxtj2xMllNW6zF2E+FTDN6OcPjDO498oo7DcjtWWu8eAO5XRI8OlEI1GicViiz6KMwxjySs8pYDmA4qi4HQ6Wb9+vRTQCCE+lYShSSbfWiEFNB9QFAWPx8O2bdukgEYI8akkDE1sNhtWqxWLJfN+NVJAs5AU0AghblfmHfGXmN1ux263Z2QYlpaWSgHNLCmgEULcicw74i+xTJwenTM4OMjp06dlBRpZgUYIcYckDE1isdgdF9DE43EuXrzIH/7hH3LgwIFlu2G/u7t7/udLAY0U0NwPyWSSwcEB/vMf/t88/8KPGB0dNnfJWYZhMDExzl9+9//hf/31X9DTe9PcRaQRCUOTuymg0XWdUChEV1cX4+PjyxZEUkDzASmguT8MwyAej9HV1c7w8CDxeNzcJWcZhkEymaC39yZ9/b3EohFzF5FGJAxNpIAme0gBjRDidqnPPPPMM+YnM4FhGMRisY8dwaVSKcLhMH6/n8nJSUKhENFoFMMwFhSYhMNhpqam5tumpqYIBAJMT08Tj8dRVXXBSEvTNAKBAH6/n0AgQCQSIR6PMzExwcWLF6mvr2f16tXYbDbTOwKLxYLT6VyyoHI4HBQXFy/pz8gUhmEQDoc5efIksViM6upqc5e0omsGkZBG7/UIVU1uPL4Pf37uRDKZJBQKMjXlx263o6pWmP1eDA0NMDXlR1EUHA7n/Gv8/kmCwSk0TcPpdGIYBqFQEP+UH79/kqmAn9js90RVLVgsKpqmEQoFOXzkXSoqKqmvb0LXdSYnxggEp4jFoiiKgt1uv+Xd3b5EIkEwGGBychy/f4JQKEgsFkXXdez2D076NE0jGo0wOTnO5OQEgeAU0WgETdM+tACFpmmEpoMEAlP4JyeYmvITmg4Rj8dQZ0+EFUVB01KEQkHGJ0ZJpVJMh6eZmBhD01LY7Q5QIBKNMDkxwdjYCMFggGg0gmEYWK0zx5hweJoTJ45itVpZtWoNFsXC2PgIgYB/vu+tf4N7NT2VYrAzQuN6Dy6vikXN7ePAncjaMJyYmOD06dM899xzvPDCCxw5coTOzk4Mw6C6uhqr1YqiKBw7doxXXnmFa9euYbFY+Nu//VueffZZDh06RG9vL6WlpeTn58+H2/T0NK+++irPPfccBw4c4Nq1a0QiEZxOJ5cvX17WMOzv7+fy5ctUV1ejquqS/ZxMMHdi8+qrr6LrOhs2bDB3SSuLHYbDw4O8/c4BXn75JzQ3tVBUVAzA2NgI/+E//T4vvfw8+fk+Vq1aM/+a51/4B9548zVCoSBrVq9H0zTefOt1fvazH/PCT3/E6/tfpq39Ooqi4MsvxOvNWxCGJaVlqBaVt99+nR/+/V/z5ls/p6u7E7vdQW1t/R1/Hg3DoK/vJgfeeJUf/ej7vPDTZzl69CDtHTeIx+OsXNmKoigoikIgMMX5C2f44d//L55//h945903uHb9MvF4jPq6pvnvO8DUlJ+DB9/i9ddf4oUXn+XVV1/g+PHD9PZ2U1paQV7ezPfd75/k7XcO8L/++i+ZDoc4efIYP/i7/0kkGqW5uQVFUTh//jR//w9/w1/9jz/l3YNvcOPGVQDKy6twOp0LwrC4qJj9+1/he//zz3jjzde4fv0KuqHTumqt6b/87kkY3r2sDMNAIMBbb73FO++8g8vl4itf+Qrbtm1D13WuXr1KR0fHfGD19PRw48YNBgYGiMfjbNiwgccff5yGhga6urq4fv06zc3NFBYWMj4+zvHjxzlw4MB8vzVr1hAKhTh27BgDAwOsXr162cLw/PnzvPHGG+zYsQObzZaRU72LaWa0EGXFihXU1NSYm9PKYodhMplkYnKM9957mwd37KasrIJUKsXw8BCvvvoi8XiU5qZV1Nc3zo9Mfv7zn6EoCuvWbaCwsJhXXn2Rt97eT15ePo8+8iSPPfZZ3C43h48cZHo6SGFhEXne/PkwHBjow6IorFq1hnXrNlJdXUtf700GB/spLCikoqLqjj77bW3Xeffgm1y5cpGdO/fw5JNfoLGhGf+Un2vXLqFYLJSVlZNIJDhy9CA//emzAHzxC19l9+6HcTpdXLlykXPnTtG8chVej5dgMMCFC2f44Q//mpraerZs2c7WrTuoqqrm5s1uurraKS+voLysglgsQk/vTS5dOkckHKK4uJQHH9jF5o1bKS0p5623Xuf48cO43G6eevKLtLSsJhqN0NnZxvj4KBvWbyISiXDixFF6e7sxgJaVrWzauIXa2gb8/gm6b3ZRXl5BYWExVuvM6P1eSBjevaw8Wvb09NDZ2YnVauXxxx9ny5YtbNy4ka1bt1JWVsa5c+fo6OggGp2ZwkmlUiQSCTZs2MD69etZs2YNq1atorq6mra2NgKBAJqmMTo6ytmzZ8nPz2fz5s1s2rSJNWvW0NraisvluqMv+lJwuVyUlJRIAc0tWzjlagGNy+WitKSM6fA0kxPjRKMRIpEww8ODePPyKCkuIxaLMjo2MlsAFmR8fIy8vHwqKqoJBgO8d+ht3G43WzZvZ+eO3WzcuIUdO3ZTWlJGZ1c7V65cXPAzVVWltLSMTZu28eADu9i37zFqauuZnJzg8uULH3ni+kkGBvsYHOwnLz+f3bseZsvm7Tz44C4efvhxdu7ci9fjRVVV+gf6aGu7Rjwe57Of/RIPPLiLzZu2sW3bDhobV3Lq9HHa2q4RDAWx2x1UVa3gsUefZN/ex9j10D527tzDA9t3sXbNejq72hkeHiKZTAIKFotCMpGgqLiUjRu38tDOvdTVNTA6OsyFi2dJppI8tHMvu3ftY9+eR9m9ax/V1TVEImHC4fB8MZ1qUSkqLGLLlu08tHMfjz7yGRobVxIMTtHWdo1kMmH+zxf3WdaGYSgUora2lgceeICCggLy8vJobm6mubmZSCRCW1sb4XAYZkdseXl5bNq0icrKSlwuF/n5+VRVVRGNRolGo6RSKQKBADdv3qShoYGamhp8Ph/5+fnU1dXR2NiIy7W8iytLAc1CFoslZwtoHA4nRUXFOBxORmevZ4VCQfoH+6iurqG+vpFkMsHIyBCpVJLBwX5isShFRSUU+AoZHx/j5s0uVjavYt26jZSXV+Jxe6irbWDt2g1EIhE6u9pJppLzP7OivIrm5lWsqK6htLSMutoGGhuasTvs9PR2A3cWhrquoWkayWSSYDDAxMQYTqeLDeu38Ogjn2HlylU4HA4G+nsZHx+jqmoFe3Y/QllpOXl5+TTUN7J+3UYSiQQdHTeYmprE6XRSXV3Ljh27UYCu7g4unD/DteuXCYaC89dNP6iKVdB0jfq6RtasWU9lZRVut4fevpuMjg5TVFjMpo1bKS0tp7q6hs2btrNn9yNs2LAZ+OA7WFhYRHNTCzUr6igrK6euroHq6hrsNjvj46N3dCuXWBpZGYZjY2Mkk0lUVWV4eJienh5u3rzJ8PAwsVgMu91Of3///P2AdrudwsJCnE4nTqcTu92OzWabv+ifSCRIJpPE43HC4TBFRUULpkFVVaWiouKuiwQWS0lJCWvWrJEVaG656f7cuXN0dnaam7Oeqqp4vHlUVFQyPj6Gf8pPaDrI0FA/9XVNNDY2k0ylGBkZng2LNuwOB6WlZVitVkZHh0mlklitdgJTfrq6O+Yfhm4Qi0aZnJwgEpkpAgEoKSmlrLRiwfsoKCjE7fIQCExxhwNDKiurKSkpZWhogFdefZE3397P2XOnGBzqB6C4uARVtTLpnyAcnsbpdDI0PMjNni66ujvoH+hjejqEx+NheGSI6ekQmpYiEPBz7foVDrzxKi+88A8895O/42cv/Zhjxw8RiYSJx+MkEgtvESksLMKXXwCzn63x8TG0VAqvN4/8/A/2PvX5Cti0cSt7dj9CXl7e/KWKvLx8SkvL5/sBWK1WbDY7qVTqjkfNYvFlZRjG43EGBwf5+c9/zu/+7u8uePzlX/4lExMTBINBUqkUzE6pzX1oP+5DOTeVOlP95VhwPU6ZrZZb7gAaGhri5MmTsgLNLWF44cIFurq6zM05wW6z07KylampSQJTfkKhIAMDfTQ0NNHUtGrmGuLIIMlkgs6udkpLyyksLEbTUsRiUQwDfvTs9/nXv/fP+Mf/5Fvzjz/98z/m6rXLJBMJwtOh+Z9ns80sZXgrm9U2W3U5MwtzJ1pXreULn/8qTzz+OYKhAC+//Dx/+F/+b/7zH/47fvrSj5mamql8TSTijIwO8867byx4n//4n3yL//Cf/i/GxkYJTPlJJpKMj49x5MhB/sf3/gSHw8kv/uI3+IN//1/57//1u/zT3/4XFBeVmN8GzJ5czM0wGLP3VqIo81W6n0axWHL+Gn66y8q/jtvtpry8nAceeIB/9I/+0YLHt7/9bX7rt36Lp556iuLimQq7W33cCjQzZ3EzI65kMrngxvqZL0d82QOou7ubN998U1aguWUFmtWrV6d98cxSsdvtrFq1hkAgwOjYCP7JSfyTkzQ3r6JlZSs2q2321oIpOrvaKC+roKioGJvNjjcvH0WBRx5+gl//te/wT/7xP59//PY/+Rf87u/8H3z+818hP/+D/Tm12U2sbzU3jepyuRc8fztUVaW6egWfeeLz/OPv/L/4P/7l7/OrT/8W1VU1nDhxlGef+wH+qUmcLjdlZeVs3rRtwfucea//b37nd/4PvvSl/43q6hoGhwa4fuMK9fWNfOaJz7N503ZKSspQrVaSyeRtfYdnTn4d6LpOKnV7rxHpLyvDsLCwELfbTUFBATt37uShhx6af2zbto3W1lZWrlyJ2/3hL+jHrUBjsVhwOBw4nU5GRkZIJD644J1MJunp6Vm2ZdjmSAHNB+YKaLZs2cLKlSvNzTnBbrezsrmVeDxGd3cHI6ND5OXnU1hQhM9XgM9XQDKV4vr1K/T391JZUU1xUcnM9cbCYqxWG6Wl5axfv4ndux+ef2zftoMtm7fT3NSy4Dp5MBQgEJxa8B6CwSli0SgFvkLu9CM5PDzI0NAgNpuNutoGtmzezsP7nmDHjt0UF5Vw8dJZotEIvnwfeXn5uD0edj20j927PnivO3bsZs3q9axqWYPP5yMSDhMITlFWVkFZecX8bVOxaIT29uvETdOjH0VRFEpLy7DZbASDAfz+yfm2cHiaCxfP8vY7B5iYGP/QSbVIX1kZhvX19RQWFhIKhQgEAuTn5+P1ekkmk/P34n3ch9Q2uwLNR4WJx+OhrKyMjo4O+vv7iUQihMNhuru7aWtrIxJZ3uWWpIBmoVwuoAGwWm1UVlbjdrvp6emmv793pmjDPvM7KSkpRQHOnD2JrmmUlZWTl5eH3W6nuLiEVS2rmZycIBQM4nK68eUXoGs6Pb3ddHd34vdPLpgmHB4Zmn8eZq6r9fb2kEgkqKmpW1BQcju6uzs4duw9Tpw8xujoCBaLitfrJT/Ph9vtRpn9nxUr6qgor2R6OsT4xCgej4c8bz6GrjM02M+ZMyeIzi6FplpVVNVKeHoav3+SWCxGIDhFT+9NhoYGSKVSJJOJBYVBZoqiUFfbQGFhMWPjo1y4cIaR0WHGx0e5cvUShw+/y+nTxz/2GCPSU1aGYUtLCy0tLWiaxpEjR+ju7ubatWscP36c/fv38/bbbzM5OfmhKR1u2cLpow6gxcXFrFmzhrGxMc6fP8+VK1e4cuUKJ06cIBKJLPvUpBTQfGDummEub+GkKAoul4uqqhVMTU0yNDRIbU39/LWr4uJSVFXl6tWLVFWtoKCgCJttZvuywsJinnrqi0yHQ1y9dpnr16/Q1naNY8cP8corL3DwvTfp6Zm5FmsYBgYQCgXp6mrn3PnTdHV3cuLkMXp6usjLz2ft2o13/JkMhoJcvnKR/ftf5ujR97hy9SLnzp/m8uXzhKZDbNiwBZfLRWNDM2vWbsBud/DOu2/Q1nad69evcOz4YX7++su88uoLDA71k0gkKCgooqqymuGRQc5fOM21a5e4fPkCN25cpaSkDJfLxejoCIMD/URjUfNbgtmTrBUralnVsppkIsHBQ29z5Mi7HDt+mIMH36S7uwOvN3+2wOfDxxGRnrLypnur1UptbS1VVVV0dHTw2muv8fOf/5yuri7Ky8t54okn2LBhAw6Hg56eHnp6erBYLOzcuXN+VBiNRunv7+fMmTPs3LmT6upqfD4flZWVTE9Pc+nSJd544w1Onz6N3W7nscceo6enh/r6elpbWz9USMB9uOleVqD5gJHjK9Dcamh4kO6bnVgsFvbsfoSaFbVYLBZisSh9fb1cv3GFrVseZPOmreTl5cPsSWFDQzMV5VUMDPTy89df4sWfPse165fJ8/p4/PHPsnPnHiwWC/6pSY4cPcjaNRsoKSnl5Vee59nnfsC165epqKjikUc+w4MP7LrjYCgpLsPhcNDWfp3XXv8Z77xzgDNnT2JgsGvnXr78pa/h8xVgs9moqlzBypWr6O3p5sAbr/Lyqy9w5coF8vN9fOHzX2Hr1gfIz/ORnzcTUqMjwxw58i6v73+Znp5uWlau5he/+nU6O9s4c+bEzJRyXh6JRIKLl86xZcsDNDXNrDrDXCBW1wJw9uwJ3np7PydPHgPgoYf28tmnvkReXv6CFWjWr9tISUnp/H9fZ2cbHR03KCwsYuPGrTid935rltx0f/cU46PSJAPous7U1NTHjsbmwnJu/dBEIoGqqrjdbvLy8sjLy0NRFILBIIFAAEVRqKqqIh6Po8wu8RSJRBgZGaGqqgqv14sye4P+xMQE4XCYZDKJxWLB5XKRl5fHxMQE+fn58ztHmKmqSkFBwZKF1MGDBzlw4AD/5t/8G7zemRuSc5VhGAQCAQ4ePEhZWRkPPfSQuUtaScZ1xgYSHP7ZGNueKKGs9t4PjHMm/RNM+SdBUSgtKcPrnfnsx2Ix/LOVpj5fAcXFpR86iYtGI4RCwdm1O+MzJ3QOJ4VFM6vPoMxWbw/04XK5sVptBIJ+EvEEqtWKx+3B5ysgLy//jj/3mqYxPR3C75/5vgFYVAsup5v8fB8+X8H89XHDMEgkEkxNTRIOh4kn4lgUBZdrpm9eXj6qqs4fFyYmxghHwmipFA6Hk4KCQgoLixgY6CMcnsblcuPzFaDrOmNjI5SXV+LzLfzuplIpgqEA/smJ+XoBp8uFL3/meqzNZiOZTDA4NIBFscyPPOdMTflnCoAcTkpLyxdlBZrhm1FOHxjn8W+UUVhux2q7s995LsvaMLxb4XAYZfZWicX4cN5qqcPwxIkTHDlyhG9/+9t4PJ6PDORckkgkGB0dxel0UlLy0SXz6WIpw1DkDgnDuydhaDJXJboU2zgtdRgODg7S39/Ppk2b5Lrh7Jn7xMTE/KIK6SzbwzCRiDMw0M/gYN9t7XnocrlpalpJWdnCm/jFJ5MwvHsShvfRUodhIpEgkUjg8XiW7GdkCsMwCIVCHD16lJKSErZv327uklayPQyDwQCHDr/LkSPv4Pf7zc0fUlpWzld+4ZfYuuUBc5P4BBKGd0/C0MQwjCULkqUOw7kFynft2pUWK+IsJ13XGR0d5Xvf+x6NjY1885vfNHdJK9kehpqmMR2eJhyeRtM+XMVtZlWt+Hwz9wuL2ydhePcWdx4wC3zcCjSZoLu7m7feektWoLllBZr169fT0NBgbhb3mcViwevxUlpSRnlZ5ac+SkrKcDoXb9NbIT6NhKGJ/jEr0GQCl8tFUVHRfIVdLlNu2cIpV1egSSeKoqCq6vwC+J/2sMl+nOI+k0+bydwKNJn4RaypqWHv3r2yAs0sy+wKNItdFSyEyD6Zd8S/hTq7kvxiPlwuFy6Xa34Zr8V+LCVZgeYDhqxAI4S4AxlbQMMnbLd0L5LJJMrslk5LMTpcypCSApoPSAGNyEVSQHP3Fv9ofx8psyvFLObj5ZdfZv/+/QwMDHyobTEeS0kKaD6gSAGNEOIOZHQYLoXx8XEmJiZu68bgdCMFNB9QpIBGCHEHJAxN5vY6zM+fWbA4k0gBzUKKomC1WqWARgjxqSQMTfbt28dDDz1EeXm5uSntlZaWsnbtWimgmb2eHI1GOXv2LO3t7eZmIYRYQMLQJJVKkUqlMvKa2+DgICdOnCCRSCxJcVEmmasmPXPmjIShEOJTSRiavPTSS+zfv5/+/n5zU9qTApoPKLMb227cuJHGxkZzsxBCLCBhaCIFNNlhroBmy5YtUkAjhPhUEoYmq1atyugCmj179kgBzSxFUeYXT0h3BoACNqcFRXYnF3fJYlGwOy0g3/87JmFo8vDDD2d0Ac26deukgCYDrxkqioKqKtgcKhZLbv/txF0yQFHB7laxqIrk4R2SMDSRAprskGlhaLMruL0qo71RYpHM2zFFLD9dN4hNa0yNxnG4FFSrpOGdkDA0mVuBJhMLaG7evCkFNLMysYBGtSlU1TsxNINENLf/fuLOJWI6hg4VtU6sEoR3TMLQZGxsLGMLaJxOpxTQzMrEAhqbQ6F5Ux6Tw3EmhmLmZiE+0fhgjMnhGM2bvVjtcmi/U/IbM5ECmuyRSQU0AFarhepmF063wtRYgtHeGMm4PltdI8SHGcbMiHCkJ0pwLIEnz0J1o0umSO9CRu9asRTmfh2ZGCbJZJJEIoHb7c7I97+YDMMgFApx5MgRSkpKeOCBB8xd0lY4mOLG6WmmxpLUrfFid6pY7TN/TyPHZ0/nDla5/ekGxQKgkIzrJGIaNy9PU1Jpo3V7Hk5vZpz8pRsJQ5NkMgmzeyUuxRZOS6mnp4euri4eeugh2cIpw7ZwWsCAcCjFUFeMG2dCDHRGKalyAgbxHC+u0WcPV5Yc/mwDONxWUGamRlesdNO6LZ/KegcujypnCndJwtDkhRdewG63s3HjRmpra83Nae29997jwIED/Ot//a/xer0ZMz24FAzDIBgM8t5771FaWsrOnTvNXdKarhkkYjqRkEY8ppOK66SSBrqeu19XTdN49dVXUVWVL3zhC+bmnGKxKFhtFqwOBYfLgjvPit1pIcPO39OKhKHJd7/7XZxOJ7t27cqYwos5J06c4PDhw3znO9/B4/Fk3Mh2sSWTSUZGRnA6nZSUlJibM0oyrqNruf1VTaZS/Omf/AlWq41/9s9+19ycYxQsKtgcuf0dX0wShibvvvsudrud5ubmjLvxfnBwkL6+PjZv3iw33s/eMzoxMYHdbqewsNDcLDJMMpnkj//4j7Farfyrf/WvzM1C3BM5rTCRFWiyQ6bddC+EWF4ShiaZvgLNyZMnZQUaCUMhxB2SMDTJ9BVo3nzzTVmBJkNXoBFCLB8JQxNZgSY7ZOIKNEKI5SNhaLJq1Sqam5tlBZoskGkr0Aghlo+EocnDDz/Mrl27pIAmw8k1QyHEnZAwNJECmuwgYSiEuBMShiYvv/wyBw4ckAKaDDdXQLNhwwYpoBFCfCoJQ5OxsTHGx8elgCbDzRXQbN26VQpohBCfSsLQRAposocU0AghbpeEoYkU0GQHuWYohLgTEoYmUkCTHebC8OzZs3R0dJibhRBiAQlDEymgyQ5zBTTr16+noaHB3CyEEAtIGJpIAU12kAIaIcSdkDA0yfQCmt27d0sBzSwpoBFC3C4JQ5NML6BZv369FNBIAY0Q4g5JGJpIAU12kAIaIcSdkDA0kQKa7CAFNEKIOyFhaJItBTS5TgpohBB3Qo6aJtlSQCOBKAU0QojbJ0dMEymgyQ5SQCOEuBMShiZSQJMdpIBGCHEnJAxNXnnllYwuoHnrrbekgMZUQFNfX29uFkKIBSQMTUZHRzO6gKawsFCuF5oKaFpaWszNQgixgBw1TaSAJntIAY0Q4nbJEdNECmiygxTQCCHuhIShiRTQZAcpoBFC3AkJQ5N3332XQ4cOMTg4aG5Ke6Ojo5w/f55oNJqRYb6YpIAm+/T09GCxWCgqKjI3CXHPJAxNBgYGGBkZIRaLmZvSXmVlJZs2bWJ8fDznK0qlgCY7pFIphoeHefnll3n77bepra3lgQceMHcT4p5JGJrU1dVRW1tLXl6euSntVVVV8eCDD2K1Wkkmk/T39zM0NGTuljNsNhsOhwOAZDJpbhZpbnR0lHPnznH48GE6OzuxWq1s3LiR1atXm7sKcc8UI9cvLpnM/ToyvQAlHA5z6NAhmC0Kcrlc5i454b333gNg9erVlJWVmZtFmtF1nVgsRiAQ4Pz585w5c4bp6Wm+8pWvsG7dOjwej/klQiwKGRmaZHIBza3cbjelpaXEYjHOnz9vbs4ZY2NjtLW1cfPmTXOTSEORSIRTp07x7/7dv+PIkSPs2rWLf//v/z3btm3D7XabuwuxaGRkaPLiiy9it9vZsGEDtbW15uaMMj09TSgUgtnriX19ffh8voy8h/JuXbt2jcnJSYqKimR6LY0Fg0EuXbrE+++/TzKZZPPmzTQ0NFBeXo7P5zN3F2LRSRiafPe738XpdLJr166s2PpH0zQ0TcNut/PCCy9QXl7O6tWrKS4uNnfNStPT08RiMaxWKwUFBeZmkQbOnj3LtWvXCAaD+Hw+ampqWLt2LT6fTxZMEPeNTJOatLS0ZOwKNB9FVVXsdjsAdrudQCCA3+83d8tabrcbwzDmR8giPYTDYTo7O3njjTc4f/48k5OTlJeXs3fvXvbs2UNRUZEEobivZGRoki0FNB+nq6sLZpdum5iYoLCwELvdnrX/vclkkuPHj9Pf388v//IvywF2mSWTSaanp+np6eH06dO88847PPnkkzz88MPU1dWZuwtx38jI0CRbCmg+Tn19PfX19QwPD/OHf/iHtLe3Z+Si5LfLZrMxPDzMxYsXCQaDWft3zRRDQ0P86Ec/4gc/+AGpVIq/+Iu/4Otf/zo1NTXmrkLcVzIyNJkroNm4cWNWf0EjkQhtbW1cuHCB7du3s2bNGnOXrHHt2jUGBgbYsmULBQUFsoj5fWYYBpOTk7z++ut0d3ezYsUKVq9eTW1tLRUVFfL3EGlBwtAk2wpoPo5hGCSTSS5fvkxVVRV2u52pqSkaGxvNXTPeXBGN1+vF4XBk7ZRwOurv7+fSpUu0t7fP3+7T0tJCTU0NXq/X3F2IZSNhaPLOO+9gt9tZuXJlRu5ccbf6+vpoa2sjPz+ftWvXZtU9XbFYjFAoRDwep6KiAqvVau4iFpGmaQQCAbq6uujp6WFgYIBkMsnevXtZs2aN3Dgv0pKEoUm2F9B8nImJCS5evMg777zDb//2b8+fCGTDFNbo6ChtbW309vbypS99SUYkS8QwDGKxGOPj43R0dPD222/j9XrZtWsXe/bsMXcXIq1IGJrMrWGpqmpWBMHtMma3PLp58yZNTU3E43EURcmKW0z8fj8nT57kpz/9KX/wB39AaWmpuYtYBLFYjHPnzvHaa68xNTXF1772NdatW0dBQYFU8Yq0J2FokisFNB9F13Xi8TgOh4P29nb6+/vxeDzs2LHD3DWjpFIpBgYGOHPmDE8++aRM0y2B48ePc+zYMWKxGBs2bKClpYXKyko8Ho8EocgIuTP0uU2jo6PzWyDlGovFgsvlmt8zzmq1Mjg4mPGbBVutVsrLy9mxY8f8Lhbi3oVCIS5evMj/+l//i0uXLlFeXs6uXbvYtm0bLS0t5OfnSxCKjCFhaNLS0kJTU1NGbuG0mEpLS2lsbKSyshJN05iYmCAQCJBIJMxdM8Jc9azf78/Y/4Z0EY/H6e7u5tSpU5w9e5bBwUFKS0vZt28fDz/8MJWVlTl3zV1kPpkmNcnVApqPYxgGqVSKa9eukUgkKC0tpaamJuOupw4NDfHuu+9SUVHBhg0bKCkpMXcRn0LTNEKhEENDQ5w4cYKbN29SWVnJV7/6VQoLC6VKV2S0zDqi3QfZvgLNnVIUBZvNRmtrKydOnODnP/854XDY3C0jaJrGtWvXCAQC5iZxG4LBID/5yU/4b//tvxEKhfilX/olfuM3foOSkhIJQpHxZGRokssFNJ/EMAwGBweJRCJ4vV6cTmdGXROKRqMMDg4yOTlJU1MTRUVF5i7iY/T09HD8+HHOnj1LS0sLa9eupba2lqKiopzdNFpkHwlDk1xZgeZuJRIJotEoyWSSY8eOsXbtWhobG9N+WlnXdZLJJLFYDLfbzbX/f3t3Hh3Xed55/nu32gEU9n0hNi7iTmojaVGUZNlSLKuPaTsZd5xpO8k4y/TYk/TxmUzOGct2O2k7ycwf3e0zGvfMZOm0bTnRNpYoWaJEyZKpjbtIcAUBAiCxFmrf7jZ/gETMK8kkLYooVj2fc3COhPcWWFUo3N+9733e5w4N8dZbb6GqKp/73Ocq/hqxl23bxONx9u3bx8TEBJZlEY1GWblyJb29vWXVlEEIJAzf66WXXsIwDAYGBmhpafEOi4vBks1m+eEPf8jg4CBr166ltrb2sm3GxsYYHh4mEomwatWqJTuDGBoaYnp6enH6+9LH/a233uKVV17B7/fzne98hxUrVizZcyw1l7rHjIyMMD4+TigUYtWqVWzatGnxdmBClBsJQw8poLk6l6ZNJyYmqKmpoa+vb3EKNZFI8MQTT/CTn/yEZcuW8fWvf53Ozs4lmVL9q7/6K/bs2UM6nSabzS5eC1YUBVVVqamp4Xd/93fZsWNH2bffy+VyJJNJmpqa3vfznc1mSaVSnDx5kl/84hdMT0/z0EMPsW7duvcc7AhRbqSAxkMKaK6Ooii0trayadMm+vr6mJ2dZdeuXaRSKX74wx/y2GOPkUgkGB8f59SpUySTSe+PuCEURaFYLJLNZnFdF0VRFoPAMAzq6+sZHBysiGnSAwcO8N3vfvcDb9m1f/9+vvvd7/IP//APrF27lm9+85ts27aNaDTq3VSIsqM98sgjj3i/WcmeeuopRkdHCYVC1NTUeIfFL7l0dqUoCul0moMHD1IsFvn5z3/OmTNnsG2bYrGIrut0d3cvSRu0TCbD/Pz84lTpJa7rYhgG7e3tfOpTn6K2tvZ9z5bKxb59+3jmmWd46623ePvttxkcHKS+vp50Os3Ro0f527/9WyYnJ9m0aROf+tSnWL58+WKBVDm/L0JcImHo8corr1AsFmlra6O+vt47LN7HpVD0+Xz87Gc/48iRI6RSKbh4fdFxHLq7u2lpabnhHWDC4TD5fJ7JyUni8fhlY9FolA0bNrBly5ayvl44OTnJnj17eP3115mZmWFycpJiscjMzAynT5/mxIkT1NXVsWrVKtatW0dPTw/BYFBCUFQUmSb1kA40vx7TNJmZmWHfvn3MzMws7khd12VycpKhoSHGx8e9D/vItbS0cOutt3LHHXcQDocXn5eu64sBUO5FIQcOHODgwYNMT0/DxQOUF198kVdffZWpqSmi0Sgf//jH2bJlixSNiYolYeixY8cOtm3bJjuFa5BOp9m3bx/f/va3mZqa8g4v9rA8efLkZVOVN8qKFSv45Cc/yfLlywkEAiiKgs/nW7zRrGEY3oeUBcdxiMfjvPrqqwwNDV3WbzeTyaDrOuvXr+cLX/gC7e3tZX9QIMSvImHoYZompmli27Z3SHyAl156ib/8y78kn89j2/Z7mnorisLU1BQjIyPMzs5eNnajdHZ28uUvf5muri58Ph+6rhONRunr6yvb7imXOsYcP36cbDZ72bSnoigcPHiQvXv3XvYYISqVXDP0eOqppxgZGSEcDksBzVWqq6ujp6eHWCxGIBDA5/OhqiqO4yweVJimiaqqVFdXMzg46P0RHzlN04hEIhQKBaanpwkEAqxbt47bb7+9LK+NpdNpjh8/zhNPPLF45xEv0zTp7Oxkx44d3iEhKo6sM/R49NFHCQQCbNmyRTrQXINkMsn+/fuZOJtgaiJFPJYhm8mTS1s4toPjOkSjUQYGBtiwYYP34TeEbduMjo7y7rvvYlk2vb29rF+/zrvZTUU3FHwBjWBEo6HNRzCioekKx48f50c/+hEvv/zy4rISTdMu+1JVlWXLlvHggw/y8MMPl+0ZshBXQ8LQ4+WXX17sQFPui7Cvp2LeYWaiQHzaJD5boFCwsG2HfMbBsR1sxwFcVFUjFFrays1CoYDruui6ftMHgG6o6IaCbihU1+k0d/mpaTA4dGQf3//+94nH4xiGgd/vX/zy+Xz4/X6qqqoIBALU1tbyxS9+sWyvnQpxNSQMPaQDzbUziw6z54scejVBdb2PSI1OpNYgVKUjH66PlmO55LM2iZkiF85mae700zEYIp49x8t7XsQwDKqrq6mqqiIUCi0GYyAQoLW1VRqWC3GRhKHHpWsrl6aSxJWNncxy6kCGULXBsjURAqGLC7XleOLGcBcO4hwHju2dR9OgfcBPc/fCmZ7yS113fvkg71LDBCGEhOF7PP744/j9ftauXSu3cLoKs+cLXBgukE07dN8SIRjWUDXZwS6VdNxk4nQWVXFZdXsV/pCG5J0QVyZLKzxmZmaYnZ29bE2W+GBzF4qkkxbV9Qbhal2CcIlFogY+v0o2bRObKr5nmYsQ4v1JGHpc6kBTXV3tHRLvI5u0cSyI1ErxRanwhzQ0TSE+Y+JKv3khropMk3pIAc21eefFeSxTYXBjNUZAjq1KQexCgdmJPIrisO6uKJoun2UhrkT2Xh6XOtDILZyuTiZpkU1b8kkqIa7rYpkO+ayDHOoKcXVkF+bx05/+lBdeeIGJiQnvkHgfrrvwJUqQ/F6EuGoShh5SQCOEEJVHwtBDCmiEEKLySBh63H333WzdulVasQkhRAWRMPSQAhohhKg8EoYeUkAjhBCVR8LQQwpohBCi8kgYegwMDEgBjRBCVBgJQ48dO3ZIAY0QQlQYCUMPKaARQojKI2Ho8cwzz0gBjRBCVBgJQ4/p6WkpoBFCiAojYeghBTRCCFF5JAw9pIBGCCEqj4ShhxTQCCFE5ZEw9JACGiGEqDwShh5SQCOEEJVHwtBjYGCA3t5eqqqqvENCCCHKlOK6cp/yX3bp7VAUxTsk3seef57BthU27KjD8F2fYyvTLJLL5ykWCliWiQvomobfHyAUDqOpGoqiYJpFstks+XyOaLSOXG7hvx3XxdB1gsEQwWAQTdNxcXFsh0wmTaFQwLYtAAzDwO8PEgwGKJomuWwGgGi0DlVdeD2FYoH4/DyO61AbrSMQCADgOA7JZALbsQkGQ4SCIRznX/4NyzJBUfAZPoLBIH5/AFVVcV2HYrFILDZHJFKFbdsUCnl0Xae2tn7x3/11zZ3PMzWawzYdbvtkHbohn2UhrkTC0KNYLAKg6/qH3ilVgo8iDM8Mn+LNN1/n2LEjjI4O47guTU3NrF+3iU984iEa6hvRdZ0zZ06x55UXeOON1/gf//jf8erPX+LNt16nUMjT2dHN3Xffxx23b6OpqQXbtokn5tn13NMcOrSfyQsTqKpKd3cvmzffzu23b2P4zCle3vMzAP74j/6UmpooAO8ePcR//E9/TTqd4k++9mds2nQ7AJlMmr/7+x8wF5vlY9t2sP2ue0mnUzzz7JMcPnKA8+fHUVWVgYEVfGzbDtasXk9NTZRsNsOJE0N876+/xacf2sns7DQHD+2jo6OLr/+7/41wOHLZ+3GtJAyFuHbaI4888oj3m5Xs6aefZnR0lFAoRE1NjXdYeIwMZXFdhdZlQTTtw+90p6eneOWVF/nF3lfp7xtk/frN3LJqDbpuMDo6zNmRM6xcsZpgMEhsfo5Tp45z8OA75PM5ujp72L79XjZtvJ1sLsveN16jpaWN5uZWpmemePLJxzh5coiB/uVs3Xo3K1asJp1O8cYbr1FTE8Xn8zMzM8XQ8aPs2HE/oVAY0yxy5sxJnv/ZTzHNImvWrKe1pQ3D8JHLZXjiiR9TV1fPypWrcV2XZ3c9xe6Xnqe9vZO7PnYPGzfehmPb7N79HLquE43WEvAHmJ2b4YUXnyWTSRMOR1i5cjWbNt5Gd/cyNE3zvi3XJJeyyCQsXMelvT+Ieh1+L0KUu+tzKF9GpIBmafn9AXp6etl653a2bdvBtq13s3Xr3WzedDu1tfXs2/cmiWQC27ZRUAAXy7Kor2tg1ao1bNp4O5s23saG9ZuZnZ1hYmKMVCpBIjHP/gNvU1VVzdq1G7j99q3cecc27r7749x6651Eo3XUNzTS2tpOIhEnFpulWCySSCSIzc9RVVVNQ30j8fg88/MxLMsimUwyPTNJU2Mz9XUNTE9PsveNn1NXV8etm+7gzjs+xq2b72DjxtvwBwIcOryfs2fPAKAqC396mqYxMLCc7Xfdy5o1GzB03fOOCCFuBAlDDymgWVrV1dWsXHEL69ZtxCwWOHv2NMePH+XC5AS5XJa5uVlSqQSWtXDNz3VBUVU2bLiVnp4+wuEwoVCYvt4BDMMgmUyQyaRxHRezWMRxXfL5PNlMBsPwsX7dJh56aCeDAytoaW6jpaUNVVWZmBgnl8sSi80Si8Xo7l5GT0/vxaCcI5/Pc+HCeYpFk+bmNoLBENPTU1y4MMHGDbdxyy1raWxsoqYmSn/fIGvXbODC+XHGxkYWgvziyVpbWweDgytZ1tNHbbQW5WJICiFuLPnL89ixYwfbtm2jpaXFOyRuAMsymZ2d4eChffzkn/6R//fvHuX//n++z2M/+Ufe2fcW4JLLZhfDEEBVFZqbWwkGgxf/XyUQCC4U2RSLWJZFpKqK5StWcfbsaV566Xl2736OAwffYXLyPH6fn+rqGqLRKHW19dTXNzI2Nko6kyY2P0c8MU9f7yDLlvWTTC6cKWYyaUZHh6murqaxsQnHsZmdm8FxHKoi1SQScSYmxpiYGGN6epJwOEI6k2Z+PkYun1t87vX1DVRFpPWfEEtNwtBDOtAsrdHREZ7d9RTPPf//0d+/nK/8/lf56+/9Z/7i3/8f7PzMb3k3/xeK8isrgNvaOvjib/8en7j/UxSKBXY9/zR/8zf/nj/7X7/KYz/5r0xMjOE4DuFIhN5lfZw/P0Y2kyYWmyUejzEwsJz+/kESyQSx2CyZbJpz46N0d/cSiVRhmiaFQoF0OsX3/8//nf/5T/+Ar/zhF/nKH36Rf/vV3+X/+sF/ZHz8HIVCgVw2u/i8NN1A/ZDXCIUQH56EocczzzzDiy++KB1olsiJk8eYmZlmcHAlDz7wMCtX3kJDQyM+nw+XX7/w2dANmhqb2bHjfn7vy3/EH/3hn/DZz/5r+voGee31Pby852eMjg4TCUfo7R3gwoUJYrG5hevHuTzLl69ioH8FlmUxPz9PbG6W8fFRenv6qYpU4ff7CYVCBAIBPn7fg/x3v/Xf8ztf/L2LX7/Pl7/0B3zlf/if2LplO6FQePF5fXB8CyFuJAlDj+npaWZmZqSAZonMz89hWkVamltpbW0nEqlC03Ti8XkmJsa8m18Vy7KYj8c4ffoEVZEqensH2Lzpdu655xPcf/9vEA5HGB8/x/TMFOHwwvh8fJ4zZ06RSMwTqaqivq6BaLSWmpoaUqkkp06fYGZmmt6+ASKRKkKh8GJFant7J7fdeifbt9/H9u33cddd93L77Vu57dYt9PT0Lq5TFEKUDglDDymgWVqapuO6kM1miMfnsSyLubkZxsZHmZmZwnWhUCjgOLb3oR/Itm2mpiZ5Yfcu9u9/mwsXzuO6UFdbR0tzG5Fw5OJieJdAIEBbazuGbnD8xFESiTgtza3ouo6mabQ0t5FKJTl27DCKotDR3kkwGCIQCNLU2EJnZzcXLkxgWibVVTXUVEdxbJtz50aYOL9QlKNpUjEqRKmRMPSQApql1drSRjAQZPjsGfYfeJuR0WEOHHyHCxcmqKmOousaY+OjzMXmMM2FBglXoqoquWyWQwf38fiTP+LVn+/m6NFDHDt2hDffep1EYp6WljYaG5rRNI1wpIrOzm5GR8+SSiVpbW1f/FktLW1ksmlGRobpaO+kurpmMSjbOzrZftd9DJ89zdGjhzlz5iQnTw3x89de5rGf/Fdeeuk5xsbPXfbchBClQcLQQwpoltbGTbezffu9+H0+/vP3/4Y/+dM/YM8ru+ldNsDDn/4cLc1t/OjHf8dzzz3N2Pio9+HvS9cNenv7+Z3f+X1cx+Wf/vm/8c1v/xn/4Xvf5Bd7X+Xuu+/nvvseoLtn2cL2mkZf3yCO6+D3Bzxh2IrfH8B2HPr6BtF/aV1gY0MTD3zyIf71F77M1PQk/+n7f8O3vv1n/PSZxwmHInziEw+xZs36xe2FEKVD2rF5PPHEE/j9ftasWUNnZ6d3WHhc73ZstmOTTCaYm50hk0kvLFWorqGhvhHDMBgbGyWfz1Hf0EgoGCaXX1h7uHxw1eK1ONd1MU2Tk6eGqKmOUl/fiN/vI5PJMDV1gWw2i+3Yi0sw6mrrqKmpxe/3w8Weo9PTk8zFZgkGQjQ1NROJLEybpzNpZqanyGQz1NXV09zUclnHGNd1SWfSxOdjpNJJisUiuqYTDAZpam4lfLF4JpvNMDx8mqamZmpr6xf/7etB2rEJce0kDD0effRRAoEAW7ZsYWBgwDssPK53GIoPT8JQiGsney8PKaARQojKI2HoIQU0QghReSQMPaSARgghKo+EoYd0oBFCiMojYeghHWiEEKLySBh6SAGNEEJUHglDDymgEUKIyiNh6CEFNEIIUXkkDD2effZZKaARQogKI2HoMTU1JQU0QghRYSQMPaSARgghKo+EoYcU0AghROWRMPSQAhohhKg8EoYeUkAjhBCVR8LQQwporo1hKHKLoBKjKAqqqqDp8nsR4mpJGHr09/dLAc010A0VVVWwLbktZqlwbBfXBd2noEgeCnFVJAw97rnnHimguQaqpuDaLoWM7R0SS6RYcDBNB19A/ryFuFry1+IhBTTXprpOxx9SyUkYlgzbdFFVqKk35MxQiKskYeghBTTXpr0/iC+gMHw45R0SSyAVM0nMFVEVaOryo6qShkJcDQlDDymguTbhao2WLj819TrH3oiTjps4tlw/vNEc2yU+U2T8VAZ/QKFzMEggpIFkoRBXRXFdV/Zcv2T37t34fD4GBgbkuuFVsooucxcKvLs3SWNnEMOnYvhVDJ+KLcH4kbMtl0LOJp+2sUybzsEgbb1BmSIV4hpIGHpcejsU2ZNcE8t0ScVMjr+TYma8gKYrRKIGhdzNce3VcRzy+Ty2Y1MVuZkqiV0KOYd8xqa5O8Daj9UQbTC8GwkhrkDC0KNYLAKg6zqqKrPI18J1wLIccmmHTMIim7KxzJsjDJPJJAcOHCCZTPLQQw95h0uW7lMJRTSq6nT8ARXdUFHkYyvENZMw9HjyySfx+XysWbOGzs5O77C4Co7tYlkutrmw3u1mMDs7y/PPP8/MzAxf+9rXvMMlS1FB0xUMCUEhPhQJQ49HH32UQCDAli1bGBgY8A6LMjU9Pc3TTz/N1NQUf/7nf+4dFkKUOTmW9JAONEIIUXkkDD2kA40QQlQeCUMP6UAjhBCVR8LQQzrQCCFE5ZEw9JAONEIIUXkkDD36+/tZtmyZFNAIIUQFkTD0uOeee/jYxz4mBTRCCFFBJAw9pIBGCCEqj4ShhxTQCCFE5ZEw9JACGiGEqDwShh5SQCOEEJVHwtBDCmiEEKLySBh6SAGNEEJUHglDj2effZbdu3dLAY0QQlQQCUOPqakppqenpYBGCCEqiIShhxTQCCFE5ZEw9JACGiGEqDwShh5SQCOEEJVHwtBDCmiEEKLySBh6SAGNEEJUHglDj76+PimgEUKICiNh6HHvvfdKAY0QQlQYCUOPQqFAsViUAhohhKggEoYezz33HC+99BLnz5/3DgkhhChTEoYel27hlMvlvENCCCHKlIShh3SgEUKIyiNh6LFjxw62bdsmBTQVxnEcXNdFURTvkBCiAkgYemSzWQqFAq7reodEGUskEpimSTAY9A4JISqA4spe/zKjo6McPHgQn8/HAw884B0WZcR1XTKZDC+88ALHjx+ntbWVO++8k+XLl3s3FUKUOQlDj1gsxr59+8hms9xxxx00NjaiqnICXW6mpqY4duwYQ0NDGIZBNBpl5cqVLF++HMMwvJsLIcqchOH7mJqaYn5+nlAoREdHh4RhmXBdl3g8ztjYGCMjI5w7d45YLMbdd9/NmjVrqK2t9T5ECFEhJAw/gOu6WJZFNpslHA6j67p3E3GTcBwH0zRJJBIcO3aMF198EVVV2bZtG/fff793cyFEBZIw/ADZbJaRkRF27drFZz/7Wbq7u72biJtEKpXi6NGjPPnkk3Cx5d7atWupra3F5/N5NxdCVCAJww9g2zZzc3Ps2rWL5uZmVq9eTUdHh3czUeLefPNN3nnnHVKpFCtXrqS3t5eOjg6qq6vRNM27uRCiQkkY/grFYpHh4WEcx6G5uZn6+nrvJqIEZTIZTp8+zYEDBygWiwSDQVpaWli9ejVNTU0SgkKI95AwvAq2bZNMJnEcRwKxhGUyGaamphgdHWVkZITh4WHWrFnDbbfdRk9Pj3dzIYRYJGF4FfL5PIcPHyabzbJ582bC4bB0KikRruviOA7pdJqRkRH27t3L6dOnWblyJTt37qSmpkZ+V0KIK5IwvAqu63LgwAGOHDmCz+dj586dUnhRIizLYm5ujh//+MeMjY2xfPlytm/fTkdHB4FAQIJQCHFVJAyvUjKZZHZ2llwuR39/Pz6fT3a0S2x4eJi9e/dy5MgRVq1aRX9/P11dXTQ2NuL3+72bCyHEB5IwvAamaZLNZsnn81KWv0Qcx2FsbIzDhw8zNTWFoihUVVWxdu1aOjs7CYfD3ocIIcQVSRheA9d1yefzHD9+HJ/PR2trK3V1dd7NxEegWCwSj8c5d+7cYnFMTU0NmzdvZtOmTd7NhRDimkgYXqNsNsubb77J0NAQmzZt4tZbb5V2bR8h13XJ5XJMT0/z7rvv8vLLL9PQ0MADDzzAypUrZTpUCHFdSBheI9d1MU2TgwcPEgwG6ezsJBqNejcT14lpmjz//PPs3bsXTdN46KGH6O/vJxKJoOu6XLcVQlwXEoa/pmQyiaqq+P1+ucvBRyAej/P222/zyiuv0NTUxODgIL29vbS1tREKheRsXAhxXUkYfgjz8/NcuHCBVCrF5s2bpbPJdTA7O8vJkyc5deoUhUIBn8/H4OAgAwMDNDY2ejcXQojrQsLwQ5ienubIkSMMDw/z8MMPU1dXJ3e3+DU4jkM+n7+sOCabzXLLLbdw1113SYWoEOIjJ2H4IZ07d459+/bR3d3N4OAgkUjEu4n4FYrFIolEgomJCXbt2kUul2PDhg1s375dKnWFEDeMhOGHZNs2pmmiaZoUdPwaDh8+zHPPPcexY8d4+OGH2bhxI83Nzfh8PrkuKIS4YSQMrwPbtonFYpw5c4a2tja6uroWx37wgx+watUqtm7detljKpnjOBw+fJg9e/aQzWbp7+9ncHCQtrY2otGoNDMQQtxwEobXwaVG0S+88ALhcJhIJMLIyAipVIrdu3dzzz33sHPnTpqbm70PrSiZTIbx8XEOHTpEMpkEoLW1lVWrVrFs2TLv5kIIccNIGF5Hr732GkNDQwwNDXHkyBHm5+dRVZWPf/zjfOYznynbTimWZRGPxzl16hSO4zAwMEBTU9Nl4xcuXODcuXOcPXuWkZERli1bxpYtW+ju7pbpUCHEkpO90HW0atUqEokEb7/9NvPz83BxCjUej5NIJLybl41EIsEbb7zBt771Lb7xjW9w8OBBuPjaU6kU4+Pj7Nmzh+eee46ZmRl++7d/m89//vMsW7ZMglAIURJkT3Qd/cVf/AVPPfUU+Xz+su/H43Hm5uYu+145OX78OE8//TSzs7PE43GKxSIAsViMxx9/nG984xvEYjF27tzJV77yFTo7O2UJihCipMg06Yd05MgRHnvsMebn5zl27NjitbBLXNelq6uLT3/603zpS1+6bKwcnDhxgmeffZZdu3YRi8VwXZeVK1fS3t5OOBymtbWV5cuXL95aSdYMCiFKkZwZfkg1NTV0d3czNzeHoihomob3+CKfz7/nbLEcZLNZ9u/fz4EDBxYPAhRF4eTJk8zOzjI4OMitt97KbbfdRk9PjwShEKJkSRh+SF1dXXz+85/n05/+NFu2bKGnp2exifQlpmmSz+cXpw/Lgeu6HDt2jHfeeYezZ89iWdbimOM4BAIBurq6WL9+PYFA4LLHCiFEqdEeeeSRR7zfFNfG7/ezZs0auru78fl8mKaJZVnkcrnF8Y6ODlavXk0oFLrpF+Y7jkMmk+Hv//7veeedd0gmk+95TefPn+fcuXNs27YNv98vhTJCiJIme6jrqKenh9/8zd/ka1/7Gjt37qSnp4eqqioAcrkciUTiPVOoN6NEIsHu3bs5duwYqVTqPUHoui6O43Dq1Cm++tWvMjk5edm4EEKUGimgucQF23KJz5qk4hb5jEMxZ2NZLmbBxXWu/m3KFwrMx2JMTU8Ti82RTqdpaGhg3bp1hEJhbqbzQkVT8PkXjpl8fgV/SCMWP88/PvZfGBk7Qb6QQ1XVxUC0bRtd1/H7/fj9fkKhEN/61rdob2/3/GQhhCgdFR+GqXmL2GSRxKxJNmVhWSqFApgFB8cBFxXbcuDXfJdy+Tz5fA5N06iuqvYOlzxFBd1QcWwHVQXdUMhkE7z9zusUrQzBsEtNo0G00SAUMVBVFV3XMQwDXdfRNI2tW7dKA3MhREmryDB0bJdU3CYVM5mbspg9bzI/bZLPOQSr/GiGBipomopqaCyc9FTc2wSAcvE81rYcHMvBcVwcy6GQNXFsi0DIpaYBGlp16luCNLWH8QUuvWdCCHFzqKgwdF2wTJdM0uLM4SwnD6RxXI1wXZBA2Ie/yic78WtgFWxyyQLZRB67aFLXqLP6zipqm30EQiqaLm+mEOLmUFFhmM86jJ3Kc+QXKWxLIdwQxhf2oWoKirKwRk5cA3ehWMZ1XKyiTWY+R3omTXtfkMFNETr6ZEmFEOLmUDFhGJsqMnw4w4VxGy0QRNNVjICOqktB7fVwKRDNvIWVLxKJuHT0+RjcKNcKhRClr+zD0HEgm7Q5sT/N1LiFjY9wXRBVk7PAj0o+XcTKFQkGHXpXBWjv9y9WpAohRCkq6zC0TZd0wmLsZIFzp4tg+AlFZeruRijmLIqZAj7NYnBDkOYuH8Gw5t1MCCFKQtkerrsuZJIWZ49lOfp2Bi0YlCC8gXxBnUB1gExW5fDrKaZGC1hm2R53CSFucmUbhmbBYXK0wLt7U9R1RfGFDe8m4iOmGxo1zWFsR2f0RJ7JkfJrVi6EKA9lG4bnz+QZO21S216L7tOkUnQpKKDqKpHGMNmMytTYQnMDIYQoNWUZhrHJIpNjBTJpCEUDKKoE4VIyAjroBnNTDqPHs95hIYRYcmUZhudOZInNOOgBA0VqNkqCETTI5RQunC2QSVo419DrVQghPmplFYauu3CtcOxUjmxGIRgNejepGJZVJJOJk80lS+JOGbpPQw/oFE2F8VM5zMLSPychhLikrMLQLDqcPJBB9fkJVfsrurXa6PhRHv/p93h+96PkCxnv8JLwh/1owSCnD2cxC453WAghlkxZhaFtuoydzOK4KnrgX+40X4lsyySbS5HLZ3Dd0ggezVBQVJX4dJF00palFkKIklE2Yeg6UMw7zE8XQdXQjbJ5aWVDUZSFzj+qRmyySCFrezcRQoglUTYdaIp5h5nxAq88EaO2s5Zgjd+7yZIqFnOk0nMkU7MUijk0VScQiFAVqaOmumlx6UcmGyc2fwGASLiWdGaedCYGKAT8Yepq2wiHatB13+LPnotNkEzNUjTzGLqPSLiWmbkxXnvjMaoi9fyr3/gTQsHSuJeiWbBITmdoboEVmyM0tP3L6xBCiKVSNmGYmrcYGcpx9niRYG0YI1A6i+xt22Jqeph3h17lzNl9pDIx/P4wjfVddHeuZv3q+wgGq1BVjTNn9/OLt/4J27YY6LuNc+NHGR07goJCVaSeTRseZLDvNmqjLbiug2kWeG3vY5wcfotMNk51pIHurjWEgtUcenc3tdHWkgpDx3LIp00oZli3rYp2ubOFEKIElM1comU6ZBImlulSavE+PTPCvkPP8db+p6iva+dfPfinfOoT/5b6unbeOfAsr7z+30gkZ+DiVKJtW1yYOsOpM2/R17OBf/OF7/FbO7+B4Qvw1r6nGZs4BkAun+bw0Zc4dHQ3DbUd/MbH/5gH7/9jotVNDJ14nemZEc8zKQGKgqYvXDcs5GSaVAhRGsomDG3LJZd2UNTS6zYzOXWGmZlRmhv72HrH5+jqWEV76yADfbfS2bGKw0dfIjZ/HssqAuC4DoVChlXLP8ZA32001HVSV9tG/7KNZHMJUukYtm2Ry6U49O5uIuFa+pZtpLtzDU0N3SwfuIOWpl4CgbD3qSw5RVVQDZVC3sG2SuyoRQhRscomDB0bCnkHVVdLKgxd12Vu/jzZXJLO9hW0NPURCEQIXJwm7epYRTw5xezcGLl8GgBV0QgGqmht7iNa04SuG+i6j7radlzXpVDMYloFTDPP+PnjVFc1UFfXRjBYhWH4qaluoqlpGaFgjffpLDlFAe3izZQde+EWW0IIsdTKJwwdF8t0F6oVSycLcV1n4WwuEyOTS3LsxGscPf4qR4+/yvDIfubjF3Bdh3himnw+BYCqaoTDUQzDj6Is/IoURUHXfSiKgmNbWFYR0yqSzSUIBCIYxuXX3qrCdfh8pdl0QFEVFEXBdRduCiyEEEutbMIQgBLcuTqOg+PYxBOT7D+0i3966i957Mnv8NiT3+Hxn/4Vr73xGIFABBcX57LTJHXhNOoDOI6DZZu4roum6ajq5X3nNE1HvRikpcZ1F67x4rrSN1YIURJKc2/5a9B0hUBYxTadkgpEXdcxDD8NdZ1sXv8pPvPQ19n50P/ynq81q+6murrB+/APpKkaPn3hzNFxLBzn8mIU0ypge75XClwXHNtZWHOoK6hl8wkUQtzMymZXpOkKgZCKY5dWGIJCOBQlEqnDMPz0dq+nb9lG+pZtpLdnA10dt9BQ30G0phm/L+R98AdTFDTdIBKpI56YJpdbmGK9ZGp6+OL6xBLjutimg+FX0DQ5KxRClIayCUPdUIhEdRRKKQgXtLb001DXwdT0MLH4BXTNQFEU5uPnOXH6DQ4c/hm5XOqaCn8UwGcE6GxbyVxsnPHzx0kkZygWc5wdPcTYxBCZTNz7sCXnOi62aROJ6hj+q3+9QgjxUSqbMPQFVKKNBlbBxLFLq0SxrWWA3p4NGIafM2f3cfzUXo4c28PBIy9wdOgVZmZHMa1rvwt8IBBh9crtGEaAc+NHOXz0Jd4deoUjx17Gdmx03Vi4kFpCHMelmDWpbTQIhOT+WkKI0lA2YegPatQ1G2QTBayiXVIL76si9axeuZ0d275IJpvgtTd+zJ7X/oHhkQPU1DRz391for62HUVR0TSDULCaSDh6WVGMgoKu+6kK1+H3h1AUlWCginWr72XdLfdSNPP84q1/5mcv/xdi8xdYvfIuerrXEQpWo5RQea1jOeQSOeqadYLhsvn4CSFucmXTjg0gm7LZ/aNpXCNIsCa4cIf1EuG6Lo5jY5p5bNvCcReKSDTNwGcEUC82C7Btk6KZx3VdAv7wYiC6rottmxSKWQzdj2EELi5PcDHNPJZVxHFs3IuVpLruw7KKqIqK3x++pinYj1IuUeD80DQP/psWGjv86EZpPC8hRGUrqzAs5h2OvZnk/DkXxecnWF1azbornW06FNIFzGSKuz/bQHW98atWjwghxA1TVmHo2C7xGZO3X0ySNw2qGsMLi/CvIF/IMDN7jjNn92E7lnf4MgvTlb6La/yufG2ysb6LzvaV1EZbvUM3RKGYZXZujOOn9nqH3ssF9+I1RoVf3bxAQaG1pZ+OthVUReq9w+8rlyhg53N09ekMbqoiEJJpUiFEaSirMLxk7zNzzEyBLxIiUHXlWwRlMnFGxt5l/6Fdi/1BP5CioGsG9sUF71fS1bmaVYNbaW3p9w7dELlcirHzQ7z+xk+8Q+/h4uK67mIQ/qprjYqi0N97KysH76S+rsM7/B625ZCZy2AoBe58sI6qOl2WVgghSkZZhuHkSJ4TB7PEZiDaXn3F62WOY1M0CxTy6cUzow+ycI2ugK77UK9ixbiu+/H7Qxi/dP/BG822TVLp67/m0GcE8fuDaNqVb5eVSxawc3kamuGOB+q8w0IIsaTKMgxt2+XkvjTDQyZGJIQRvPK1KdddOCu6sl/e5go/dOFE8mIYX3nbj9Llrd6uj4XXduUDAoDUVIqGJli5OUy06crhKYQQN1JZhiFAJmEx/G6OQ79I0zJYj25oS51HFcl1XZKTKWrroWeFn/beIJpUkAohSszVHdbfhMI1Om29frr6faSm0piFX10YI64/23RIz2bxGRat3QYNbX4JQiFESSrbMASINhqs2VpNdbVFMZOnmL26ohfx4dmmjZktoFOks99Pc5efUJV0nBFClKaynSa9xHWhWHB45fEZ0mmdqoYIul+TWwd9VC7elSKXzKM6BZZvCNExEMDnL+vjLiHETa7s91CKAj6/yp2frKepBWbOzpNPyhniR8Uq2sTGEqhWjv7VAbqWBzF8Zf8xE0Lc5Mr+zPASx3ZJzJmcHy4wdsoklbQJRoMEIj50n0zffRiuC1bBIj2XpZAu0tFr0DUYoKFdpkaFEDeHignDSzJJm/PDeWbPF4jNuNiOhubTUXUVX8BANZQrrksUF9db5izM/MIXrk11DVTXarT3B6hv8eELyBmhEOLmUHFhyMWzxOS8xcjRDPFZm0JeoVAEFA0joKOoCq67sD6w4q8tKgtTza59cR2mezEICzY4DioWmuYQrlLpXhGitVeuDwohbj4VGYa/LB23mB4rMDGc58JIDt3QcBwF2wZVU9F07eIy+8p8mxRFQdUVrIKNa9kAuI5DLm3S2BGgvTdAe3+AhjZpii6EuHlVfBi6zkLHGttycWyXbNImk7LJZWwKOQcz72IWHVynMt8mRQXDp6LpCr6Aij+kEqrSqKk3UDXQNAVNV66qIboQQpSq/x+JZv8YrqglwQAAAABJRU5ErkJggg==)"
      ],
      "metadata": {
        "id": "3XtU6vHGfC-Q"
      }
    },
    {
      "cell_type": "code",
      "source": [
        "!pip install -qU langgraph langchain langchain-openai langchain-core langchain-community langchain-chroma chromadb"
      ],
      "metadata": {
        "colab": {
          "base_uri": "https://localhost:8080/"
        },
        "id": "dRFW_dncfbKK",
        "outputId": "effbfa81-94f2-4503-9139-3e59c2d75ac2"
      },
      "execution_count": 68,
      "outputs": [
        {
          "output_type": "stream",
          "name": "stdout",
          "text": [
            "\u001b[?25l     \u001b[90m━━━━━━━━━━━━━━━━━━━━━━━━━━━━━━━━━━━━━━━━\u001b[0m \u001b[32m0.0/67.3 kB\u001b[0m \u001b[31m?\u001b[0m eta \u001b[36m-:--:--\u001b[0m\r\u001b[2K     \u001b[90m━━━━━━━━━━━━━━━━━━━━━━━━━━━━━━━━━━━━━━━━\u001b[0m \u001b[32m67.3/67.3 kB\u001b[0m \u001b[31m1.9 MB/s\u001b[0m eta \u001b[36m0:00:00\u001b[0m\n",
            "\u001b[?25h  Installing build dependencies ... \u001b[?25l\u001b[?25hdone\n",
            "  Getting requirements to build wheel ... \u001b[?25l\u001b[?25hdone\n",
            "  Preparing metadata (pyproject.toml) ... \u001b[?25l\u001b[?25hdone\n",
            "\u001b[2K   \u001b[90m━━━━━━━━━━━━━━━━━━━━━━━━━━━━━━━━━━━━━━━━\u001b[0m \u001b[32m19.8/19.8 MB\u001b[0m \u001b[31m84.2 MB/s\u001b[0m eta \u001b[36m0:00:00\u001b[0m\n",
            "\u001b[2K   \u001b[90m━━━━━━━━━━━━━━━━━━━━━━━━━━━━━━━━━━━━━━━━\u001b[0m \u001b[32m284.2/284.2 kB\u001b[0m \u001b[31m19.0 MB/s\u001b[0m eta \u001b[36m0:00:00\u001b[0m\n",
            "\u001b[2K   \u001b[90m━━━━━━━━━━━━━━━━━━━━━━━━━━━━━━━━━━━━━━━━\u001b[0m \u001b[32m1.9/1.9 MB\u001b[0m \u001b[31m60.7 MB/s\u001b[0m eta \u001b[36m0:00:00\u001b[0m\n",
            "\u001b[2K   \u001b[90m━━━━━━━━━━━━━━━━━━━━━━━━━━━━━━━━━━━━━━━━\u001b[0m \u001b[32m103.3/103.3 kB\u001b[0m \u001b[31m7.8 MB/s\u001b[0m eta \u001b[36m0:00:00\u001b[0m\n",
            "\u001b[2K   \u001b[90m━━━━━━━━━━━━━━━━━━━━━━━━━━━━━━━━━━━━━━━━\u001b[0m \u001b[32m16.5/16.5 MB\u001b[0m \u001b[31m89.4 MB/s\u001b[0m eta \u001b[36m0:00:00\u001b[0m\n",
            "\u001b[2K   \u001b[90m━━━━━━━━━━━━━━━━━━━━━━━━━━━━━━━━━━━━━━━━\u001b[0m \u001b[32m72.5/72.5 kB\u001b[0m \u001b[31m4.9 MB/s\u001b[0m eta \u001b[36m0:00:00\u001b[0m\n",
            "\u001b[2K   \u001b[90m━━━━━━━━━━━━━━━━━━━━━━━━━━━━━━━━━━━━━━━━\u001b[0m \u001b[32m105.4/105.4 kB\u001b[0m \u001b[31m7.2 MB/s\u001b[0m eta \u001b[36m0:00:00\u001b[0m\n",
            "\u001b[2K   \u001b[90m━━━━━━━━━━━━━━━━━━━━━━━━━━━━━━━━━━━━━━━━\u001b[0m \u001b[32m71.6/71.6 kB\u001b[0m \u001b[31m4.9 MB/s\u001b[0m eta \u001b[36m0:00:00\u001b[0m\n",
            "\u001b[2K   \u001b[90m━━━━━━━━━━━━━━━━━━━━━━━━━━━━━━━━━━━━━━━━\u001b[0m \u001b[32m510.8/510.8 kB\u001b[0m \u001b[31m28.6 MB/s\u001b[0m eta \u001b[36m0:00:00\u001b[0m\n",
            "\u001b[2K   \u001b[90m━━━━━━━━━━━━━━━━━━━━━━━━━━━━━━━━━━━━━━━━\u001b[0m \u001b[32m4.7/4.7 MB\u001b[0m \u001b[31m87.9 MB/s\u001b[0m eta \u001b[36m0:00:00\u001b[0m\n",
            "\u001b[2K   \u001b[90m━━━━━━━━━━━━━━━━━━━━━━━━━━━━━━━━━━━━━━━━\u001b[0m \u001b[32m452.2/452.2 kB\u001b[0m \u001b[31m6.0 MB/s\u001b[0m eta \u001b[36m0:00:00\u001b[0m\n",
            "\u001b[2K   \u001b[90m━━━━━━━━━━━━━━━━━━━━━━━━━━━━━━━━━━━━━━━━\u001b[0m \u001b[32m46.0/46.0 kB\u001b[0m \u001b[31m2.8 MB/s\u001b[0m eta \u001b[36m0:00:00\u001b[0m\n",
            "\u001b[2K   \u001b[90m━━━━━━━━━━━━━━━━━━━━━━━━━━━━━━━━━━━━━━━━\u001b[0m \u001b[32m86.8/86.8 kB\u001b[0m \u001b[31m5.9 MB/s\u001b[0m eta \u001b[36m0:00:00\u001b[0m\n",
            "\u001b[?25h  Building wheel for pypika (pyproject.toml) ... \u001b[?25l\u001b[?25hdone\n"
          ]
        }
      ]
    },
    {
      "cell_type": "code",
      "source": [
        "from pathlib import Path\n",
        "from typing   import List\n",
        "from langchain_community.document_loaders import (\n",
        "    PyPDFLoader, Docx2txtLoader, TextLoader, UnstructuredMarkdownLoader\n",
        ")\n",
        "from langchain_community.document_loaders.directory import DirectoryLoader\n",
        "from langchain_text_splitters          import RecursiveCharacterTextSplitter\n",
        "from langchain_openai                  import OpenAIEmbeddings\n",
        "from langchain_community.vectorstores  import Chroma\n",
        "from langchain_core.documents          import Document"
      ],
      "metadata": {
        "id": "ZcKSqitPfjGT"
      },
      "execution_count": 69,
      "outputs": []
    },
    {
      "cell_type": "code",
      "source": [
        "!pip -q install docx2txt pypdf unstructured"
      ],
      "metadata": {
        "colab": {
          "base_uri": "https://localhost:8080/"
        },
        "id": "lLAeG_S4fnlO",
        "outputId": "a42ef7de-a3b5-4466-b8d7-756ddbd804c2"
      },
      "execution_count": 70,
      "outputs": [
        {
          "output_type": "stream",
          "name": "stdout",
          "text": [
            "\u001b[?25l     \u001b[90m━━━━━━━━━━━━━━━━━━━━━━━━━━━━━━━━━━━━━━━━\u001b[0m \u001b[32m0.0/981.5 kB\u001b[0m \u001b[31m?\u001b[0m eta \u001b[36m-:--:--\u001b[0m\r\u001b[2K     \u001b[91m━━━━━━━━━━━━━━━━━━━━━━━━━━━━\u001b[0m\u001b[91m╸\u001b[0m\u001b[90m━━━━━━━━━\u001b[0m \u001b[32m747.5/981.5 kB\u001b[0m \u001b[31m21.8 MB/s\u001b[0m eta \u001b[36m0:00:01\u001b[0m\r\u001b[2K     \u001b[90m━━━━━━━━━━━━━━━━━━━━━━━━━━━━━━━━━━━━━━\u001b[0m \u001b[32m981.5/981.5 kB\u001b[0m \u001b[31m17.7 MB/s\u001b[0m eta \u001b[36m0:00:00\u001b[0m\n",
            "\u001b[?25h  Preparing metadata (setup.py) ... \u001b[?25l\u001b[?25hdone\n",
            "\u001b[2K   \u001b[90m━━━━━━━━━━━━━━━━━━━━━━━━━━━━━━━━━━━━━━━━\u001b[0m \u001b[32m310.5/310.5 kB\u001b[0m \u001b[31m20.8 MB/s\u001b[0m eta \u001b[36m0:00:00\u001b[0m\n",
            "\u001b[2K   \u001b[90m━━━━━━━━━━━━━━━━━━━━━━━━━━━━━━━━━━━━━━━━\u001b[0m \u001b[32m1.8/1.8 MB\u001b[0m \u001b[31m48.4 MB/s\u001b[0m eta \u001b[36m0:00:00\u001b[0m\n",
            "\u001b[2K   \u001b[90m━━━━━━━━━━━━━━━━━━━━━━━━━━━━━━━━━━━━━━━━\u001b[0m \u001b[32m590.6/590.6 kB\u001b[0m \u001b[31m32.5 MB/s\u001b[0m eta \u001b[36m0:00:00\u001b[0m\n",
            "\u001b[2K   \u001b[90m━━━━━━━━━━━━━━━━━━━━━━━━━━━━━━━━━━━━━━━━\u001b[0m \u001b[32m167.6/167.6 kB\u001b[0m \u001b[31m11.1 MB/s\u001b[0m eta \u001b[36m0:00:00\u001b[0m\n",
            "\u001b[2K   \u001b[90m━━━━━━━━━━━━━━━━━━━━━━━━━━━━━━━━━━━━━━━━\u001b[0m \u001b[32m3.2/3.2 MB\u001b[0m \u001b[31m66.7 MB/s\u001b[0m eta \u001b[36m0:00:00\u001b[0m\n",
            "\u001b[2K   \u001b[90m━━━━━━━━━━━━━━━━━━━━━━━━━━━━━━━━━━━━━━━━\u001b[0m \u001b[32m207.8/207.8 kB\u001b[0m \u001b[31m14.2 MB/s\u001b[0m eta \u001b[36m0:00:00\u001b[0m\n",
            "\u001b[2K   \u001b[90m━━━━━━━━━━━━━━━━━━━━━━━━━━━━━━━━━━━━━━━━\u001b[0m \u001b[32m114.6/114.6 kB\u001b[0m \u001b[31m8.3 MB/s\u001b[0m eta \u001b[36m0:00:00\u001b[0m\n",
            "\u001b[?25h  Building wheel for langdetect (setup.py) ... \u001b[?25l\u001b[?25hdone\n"
          ]
        }
      ]
    },
    {
      "cell_type": "code",
      "source": [
        "#Load pdf or docx\n",
        "\n",
        "def load_documents(folder_path: str) -> List[Document]:\n",
        "    documents = []\n",
        "    for filename in os.listdir(folder_path):\n",
        "        file_path = os.path.join(folder_path, filename)\n",
        "        if filename.endswith('.pdf'):\n",
        "            loader = PyPDFLoader(file_path)\n",
        "        elif filename.endswith('.docx'):\n",
        "            loader = Docx2txtLoader(file_path)\n",
        "        else:\n",
        "            print(f\"Unsupported file type: {filename}\")\n",
        "            continue\n",
        "        documents.extend(loader.load())\n",
        "    return documents\n",
        "\n",
        "#change your folder path accordingly\n",
        "folder_path = \"/content/content\"\n",
        "documents = load_documents(folder_path)\n",
        "print(f\"Loaded {len(documents)} documents from the folder.\")"
      ],
      "metadata": {
        "colab": {
          "base_uri": "https://localhost:8080/"
        },
        "id": "BrzY4cynf1Vl",
        "outputId": "44443f48-a53d-471c-aaaa-bd3fda6ecab9"
      },
      "execution_count": 79,
      "outputs": [
        {
          "output_type": "stream",
          "name": "stdout",
          "text": [
            "Loaded 2 documents from the folder.\n"
          ]
        }
      ]
    },
    {
      "cell_type": "code",
      "source": [
        "text_splitter = RecursiveCharacterTextSplitter(\n",
        "    chunk_size=1000,\n",
        "    chunk_overlap=200,\n",
        "    length_function=len\n",
        ")\n",
        "\n",
        "chunks = text_splitter.split_documents(documents)\n",
        "print(f\"Split the documents into {len(chunks)} chunks.\")"
      ],
      "metadata": {
        "colab": {
          "base_uri": "https://localhost:8080/"
        },
        "id": "lgrfYf1dgM9k",
        "outputId": "79346a3d-45ec-4c70-dfdc-0f7829408fe1"
      },
      "execution_count": 80,
      "outputs": [
        {
          "output_type": "stream",
          "name": "stdout",
          "text": [
            "Split the documents into 3 chunks.\n"
          ]
        }
      ]
    },
    {
      "cell_type": "code",
      "source": [
        "from langchain_community.embeddings import OllamaEmbeddings"
      ],
      "metadata": {
        "id": "Q6vXlawmPe2P"
      },
      "execution_count": 81,
      "outputs": []
    },
    {
      "cell_type": "code",
      "source": [
        "#configuration\n",
        "\n",
        "SOURCE_DIR   = Path(\"docs\")             # put your files here\n",
        "INDEX_DIR    = Path(\"chroma_db_1\")        # will be created if missing\n",
        "COLLECTION   = \"kb_collection\"\n",
        "EMBED_MODEL  = \"text-embedding-3-small\"\n",
        "\n",
        "embeddings = OllamaEmbeddings(\n",
        "    base_url=\"https://jo3m4y06rnnwhaz.askbhunte.com/\",\n",
        "    model=\"nomic-embed-text:latest\"\n",
        ")\n",
        "vectordb   = Chroma.from_documents(\n",
        "    documents         = chunks,\n",
        "    embedding         = embeddings,\n",
        "    persist_directory = str(INDEX_DIR),\n",
        "    collection_name   = COLLECTION,\n",
        ")\n",
        "vectordb.persist()\n",
        "print(\"Index built at\", INDEX_DIR.resolve())\n"
      ],
      "metadata": {
        "colab": {
          "base_uri": "https://localhost:8080/"
        },
        "id": "9C9zdXNPgSXW",
        "outputId": "e1dc4483-4911-4bc7-a1a1-16805d28d528"
      },
      "execution_count": 82,
      "outputs": [
        {
          "output_type": "stream",
          "name": "stderr",
          "text": [
            "/tmp/ipython-input-4100774927.py:8: LangChainDeprecationWarning: The class `OllamaEmbeddings` was deprecated in LangChain 0.3.1 and will be removed in 1.0.0. An updated version of the class exists in the :class:`~langchain-ollama package and should be used instead. To use it run `pip install -U :class:`~langchain-ollama` and import as `from :class:`~langchain_ollama import OllamaEmbeddings``.\n",
            "  embeddings = OllamaEmbeddings(\n"
          ]
        },
        {
          "output_type": "stream",
          "name": "stdout",
          "text": [
            "Index built at /content/chroma_db_1\n"
          ]
        },
        {
          "output_type": "stream",
          "name": "stderr",
          "text": [
            "/tmp/ipython-input-4100774927.py:18: LangChainDeprecationWarning: Since Chroma 0.4.x the manual persistence method is no longer supported as docs are automatically persisted.\n",
            "  vectordb.persist()\n"
          ]
        }
      ]
    },
    {
      "cell_type": "code",
      "source": [
        "\n",
        "retriever = vectordb.as_retriever(search_kwargs={\"k\": 2})\n",
        "retriever_results = retriever.invoke(\"When was GreenGrow Innovations founded?\")\n",
        "retriever_results"
      ],
      "metadata": {
        "colab": {
          "base_uri": "https://localhost:8080/"
        },
        "id": "Q2lhXuAvgkiG",
        "outputId": "ae513899-70b6-41de-eec9-e1b809e19240"
      },
      "execution_count": 83,
      "outputs": [
        {
          "output_type": "execute_result",
          "data": {
            "text/plain": [
              "[Document(metadata={'source': '/content/content/RAG.docx'}, page_content='Each chunk is converted into a vector using an embedding model (like OpenAI, Cohere, or Google’s EmbeddingGemma).\\n\\nThese vectors are stored in a vector database (e.g., Qdrant, Pinecone, FAISS).\\n\\nQuery Embedding & Retrieval\\n\\nA user query is embedded into a vector.\\n\\nThe system searches the vector DB for semantically similar chunks.\\n\\nPrompt Augmentation\\n\\nRetrieved chunks are injected into the LLM prompt using prompt engineering.\\n\\nThis augmented prompt gives the LLM fresh, context-specific knowledge.\\n\\nResponse Generation\\n\\nThe LLM generates a response using both its internal knowledge and the retrieved context.'),\n",
              " Document(metadata={'source': '/content/content/FastAPI.pdf', 'total_pages': 1, 'page': 0, 'author': 'charoo kc', 'creationdate': '2025-09-10T16:13:46+05:30', 'moddate': '2025-09-10T16:13:46+05:30', 'producer': 'Microsoft® Word LTSC', 'creator': 'Microsoft® Word LTSC', 'page_label': '1'}, page_content='FastAPI is a modern, high-performance web framework for building APIs with Python—and \\nit’s a favorite among developers who value speed, clarity, and scalability. Given your deep \\nexperience with Python, Docker, and microservices, Charoo, FastAPI is right up your alley. \\nLet’s break it down: \\n  What Makes FastAPI Special? \\n•         Speed: Built on Starlette and Pydantic, FastAPI is one of the fastest Python \\nframeworks available—comparable to Node.js and Go. \\n•      Type Hints = Auto Docs: It uses Python type hints to automatically generate \\nOpenAPI (Swagger) docs. You get interactive docs at /docs and /redoc out of the \\nbox2. \\n•       Validation & Serialization: Pydantic models handle request validation and \\nresponse formatting with minimal boilerplate. \\n•     Async-Ready: Native support for async/await makes it ideal for I/O-bound tasks \\nlike DB queries or external API calls. \\n•      Security Built-In: Includes OAuth2, JWT, and dependency injection for secure, \\nmodular design')]"
            ]
          },
          "metadata": {},
          "execution_count": 83
        }
      ]
    },
    {
      "cell_type": "code",
      "source": [
        "%pip install -qU langchain-tavily"
      ],
      "metadata": {
        "id": "yrO-Jwk0go5y"
      },
      "execution_count": 84,
      "outputs": []
    },
    {
      "cell_type": "code",
      "source": [
        "import os\n",
        "\n",
        "if not os.environ.get(\"TAVILY_API_KEY\"):\n",
        "    os.environ[\"TAVILY_API_KEY\"] = \"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\""
      ],
      "metadata": {
        "id": "oViRT3jugq2O"
      },
      "execution_count": 85,
      "outputs": []
    },
    {
      "cell_type": "code",
      "source": [
        "from langchain_tavily import TavilySearch\n",
        "from langchain_core.tools import tool\n",
        "from pydantic import BaseModel, Field # Import BaseModel and Field\n",
        "\n",
        "tavily = TavilySearch(max_results=3, topic=\"general\")\n",
        "\n",
        "# Define input schema for web search tool\n",
        "class WebSearchInput(BaseModel):\n",
        "    query: str = Field(description=\"search query for the web search tool\")\n",
        "\n",
        "@tool(args_schema=WebSearchInput) # Explicitly define args_schema\n",
        "def web_search_tool(query: str) -> str:\n",
        "    \"\"\"Up-to-date web info via Tavily\"\"\"\n",
        "    try:\n",
        "        result = tavily.invoke({\"query\": query})\n",
        "\n",
        "        # Extract and format the results from Tavily response\n",
        "        if isinstance(result, dict) and 'results' in result:\n",
        "            formatted_results = []\n",
        "            for item in result['results']:\n",
        "                title = item.get('title', 'No title')\n",
        "                content = item.get('content', 'No content')\n",
        "                url = item.get('url', '')\n",
        "                formatted_results.append(f\"Title: {title}\\nContent: {content}\\nURL: {url}\")\n",
        "\n",
        "            return \"\\n\\n\".join(formatted_results) if formatted_results else \"No results found\"\n",
        "        else:\n",
        "            return str(result)\n",
        "    except Exception as e:\n",
        "        return f\"WEB_ERROR::{e}\"\n",
        "\n",
        "# Define input schema for RAG search tool\n",
        "class RagSearchInput(BaseModel):\n",
        "    query: str = Field(description=\"search query for the RAG search tool\")\n",
        "\n",
        "\n",
        "@tool(args_schema=RagSearchInput) # Explicitly define args_schema\n",
        "def rag_search_tool(query: str) -> str:\n",
        "    \"\"\"Top-3 chunks from KB (empty string if none)\"\"\"\n",
        "    try:\n",
        "        docs = retriever.invoke(query, k=3)\n",
        "        return \"\\n\\n\".join(d.page_content for d in docs) if docs else \"\"\n",
        "    except Exception as e:\n",
        "        return f\"RAG_ERROR::{e}\""
      ],
      "metadata": {
        "id": "HNtwHSeWgyK-"
      },
      "execution_count": 89,
      "outputs": []
    },
    {
      "cell_type": "code",
      "source": [
        "tavily.invoke({\"query\": \"Who is Charoo\"})"
      ],
      "metadata": {
        "colab": {
          "base_uri": "https://localhost:8080/"
        },
        "id": "oV1CO8kXg6lp",
        "outputId": "f080a2dd-bcdc-4ea2-b9b0-54bfdbe4266d"
      },
      "execution_count": 90,
      "outputs": [
        {
          "output_type": "execute_result",
          "data": {
            "text/plain": [
              "{'query': 'Who is Charoo',\n",
              " 'follow_up_questions': None,\n",
              " 'answer': None,\n",
              " 'images': [],\n",
              " 'results': [{'url': 'https://en.wikipedia.org/wiki/Charo',\n",
              "   'title': 'Charo - Wikipedia',\n",
              "   'content': '**María Rosario Pilar Martínez Molina Baeza**, professionally known by her stage name **Charo**, is a Spanish-born actress, singer, comedian, and flamenco guitarist who rose to international prominence in the 1960s on American television, as well as starring in several films. a half-hour comedy starring the uninhibited wife of Xavier Cugat\" and commented, \"This is probably the worst idea of the season.\" By October of that year, Charo was promoting a TV special slated for November, but it did not actually appear until May 1976. A television listing for August 24, 1976, shows what appears to be an unsold pilot airing on ABC at 8:30\\xa0p.m. CST: \"*Charo and the Sergeant*—Situation comedy starring Charo Cugat.',\n",
              "   'score': 0.5440511,\n",
              "   'raw_content': None},\n",
              "  {'url': 'http://charo.com/?page_id=14',\n",
              "   'title': 'ABOUT CHARO - Charo',\n",
              "   'content': 'Jul 26, 2025·She is a virtuoso guitarist, singer, composer, actress and comedienne who has been voted “Best Flamenco Guitarist” twice by Guitar Magazine. her',\n",
              "   'score': 0.47753036,\n",
              "   'raw_content': None},\n",
              "  {'url': 'https://www.facebook.com/lonilove/videos/fridayflashback-charo-is-a-spanish-born-actress-singer-comedian-and-flamenco-gui/345966278510079/',\n",
              "   'title': '#fridayflashback Charo is a Spanish-born actress, singer, comedian ...',\n",
              "   'content': 'Sep 20, 2024·... Charo!! @projectangelfood | Loni Love | Facebook. Log in · Video. \\U000f1858. Loni Love profile picture. Loni Love. Reels\\U000f078bSep 20, 2024\\U000f078b\\U000f17e0. \\U000f07dd. #',\n",
              "   'score': 0.42691937,\n",
              "   'raw_content': None}],\n",
              " 'response_time': 3.01,\n",
              " 'request_id': '08b0040d-a4b3-4866-bf34-dfe0c45392df'}"
            ]
          },
          "metadata": {},
          "execution_count": 90
        }
      ]
    },
    {
      "cell_type": "code",
      "source": [
        "\n",
        "web_search_tool.invoke(\"Who is Charoo K C\")"
      ],
      "metadata": {
        "colab": {
          "base_uri": "https://localhost:8080/",
          "height": 140
        },
        "id": "fi0FXnOrhB7Z",
        "outputId": "6f4b1f42-5c92-421d-84e2-36261523b5b5"
      },
      "execution_count": 91,
      "outputs": [
        {
          "output_type": "execute_result",
          "data": {
            "text/plain": [
              "'Title: KC the Racist Fraudster exposed... Been doing it for years - YouTube\\nContent: Feb 8, 2021·KC the Racist Fraudster exposed... Been doing it for years. 2.2 ... 20 Worst Hollywood Celebs of the 1960s You Didn\\'t Know Were Raci**st.\\nURL: https://www.youtube.com/watch?v=Hb28yGzOGlQ\\n\\nTitle: GUEST ARTIST: \"Rhapsody Of Colors\" by Charu Jain - Doodlewash®\\nContent: Aug 12, 2016·Hello friends! I am Charu Jain. An explorer and a creator from an early age. I was born in a big family in Sewagram land of Gandhi\\'s ashram\\nURL: https://doodlewash.com/guest-doodlewash-rhapsody-of-colors/\\n\\nTitle: Vivek Charu - Stanford Profiles\\nContent: I am a physician and a biostatistician. My clinical expertise is in the diagnosis of non-neoplastic kidney and liver disease (including transplantation).\\nURL: https://profiles.stanford.edu/vivek-charu'"
            ],
            "application/vnd.google.colaboratory.intrinsic+json": {
              "type": "string"
            }
          },
          "metadata": {},
          "execution_count": 91
        }
      ]
    },
    {
      "cell_type": "code",
      "source": [
        "rag_search_tool.invoke(\"what is GreenGrow\")"
      ],
      "metadata": {
        "colab": {
          "base_uri": "https://localhost:8080/",
          "height": 157
        },
        "id": "RM_Txta7hEZq",
        "outputId": "8852ae99-1eab-47a8-e9aa-c396c79a057b"
      },
      "execution_count": 92,
      "outputs": [
        {
          "output_type": "execute_result",
          "data": {
            "text/plain": [
              "'Each chunk is converted into a vector using an embedding model (like OpenAI, Cohere, or Google’s EmbeddingGemma).\\n\\nThese vectors are stored in a vector database (e.g., Qdrant, Pinecone, FAISS).\\n\\nQuery Embedding & Retrieval\\n\\nA user query is embedded into a vector.\\n\\nThe system searches the vector DB for semantically similar chunks.\\n\\nPrompt Augmentation\\n\\nRetrieved chunks are injected into the LLM prompt using prompt engineering.\\n\\nThis augmented prompt gives the LLM fresh, context-specific knowledge.\\n\\nResponse Generation\\n\\nThe LLM generates a response using both its internal knowledge and the retrieved context.\\n\\nRetrieval-Augmented Generation (RAG) is one of the most exciting developments in the world of LLMs—especially for someone like you who’s deep into semantic workflows and reproducibility. Let’s break it down in a structured, example-driven way:\\n\\n🧠 What Is RAG?\\n\\nRetrieval-Augmented Generation (RAG) is a hybrid architecture that combines:\\n\\nInformation retrieval (like semantic search from a vector database)\\n\\nText generation (via a large language model)\\n\\nInstead of relying solely on the LLM’s static training data, RAG dynamically pulls in relevant external content—documents, PDFs, web pages, etc.—to enrich the prompt before generating a response2.\\n\\n🔧 How RAG Works (Step-by-Step)\\n\\nDocument Chunking & Embedding\\n\\nExternal data (e.g., PDFs, HTML, Markdown) is split into chunks.\\n\\nEach chunk is converted into a vector using an embedding model (like OpenAI, Cohere, or Google’s EmbeddingGemma).\\n\\nThese vectors are stored in a vector database (e.g., Qdrant, Pinecone, FAISS).\\n\\nFastAPI is a modern, high-performance web framework for building APIs with Python—and \\nit’s a favorite among developers who value speed, clarity, and scalability. Given your deep \\nexperience with Python, Docker, and microservices, Charoo, FastAPI is right up your alley. \\nLet’s break it down: \\n  What Makes FastAPI Special? \\n•         Speed: Built on Starlette and Pydantic, FastAPI is one of the fastest Python \\nframeworks available—comparable to Node.js and Go. \\n•      Type Hints = Auto Docs: It uses Python type hints to automatically generate \\nOpenAPI (Swagger) docs. You get interactive docs at /docs and /redoc out of the \\nbox2. \\n•       Validation & Serialization: Pydantic models handle request validation and \\nresponse formatting with minimal boilerplate. \\n•     Async-Ready: Native support for async/await makes it ideal for I/O-bound tasks \\nlike DB queries or external API calls. \\n•      Security Built-In: Includes OAuth2, JWT, and dependency injection for secure, \\nmodular design'"
            ],
            "application/vnd.google.colaboratory.intrinsic+json": {
              "type": "string"
            }
          },
          "metadata": {},
          "execution_count": 92
        }
      ]
    },
    {
      "cell_type": "code",
      "source": [
        "#Pydantic schemas\n",
        "class RouteDecision(BaseModel):\n",
        "    route: Literal[\"rag\", \"answer\", \"end\"]\n",
        "    reply: str | None = Field(None, description=\"Filled only when route == 'end'\")\n",
        "\n",
        "class RagJudge(BaseModel):\n",
        "    sufficient: bool"
      ],
      "metadata": {
        "id": "8wIYjqnihG64"
      },
      "execution_count": 93,
      "outputs": []
    },
    {
      "cell_type": "code",
      "source": [
        "#LLM instances with structured output where needed\n",
        "\n",
        "router_llm = ChatOpenAI(model=\"gpt-4.1-mini\", temperature=0)\\\n",
        "             .with_structured_output(RouteDecision)\n",
        "judge_llm  = ChatOpenAI(model=\"gpt-4.1-mini\", temperature=0)\\\n",
        "             .with_structured_output(RagJudge)\n",
        "answer_llm = ChatOpenAI(model=\"gpt-4.1-mini\", temperature=0.7)\n"
      ],
      "metadata": {
        "id": "ZHarWsnchMoQ"
      },
      "execution_count": 94,
      "outputs": []
    },
    {
      "cell_type": "code",
      "source": [
        "#Shared state type\n",
        "\n",
        "class AgentState(TypedDict, total=False):\n",
        "    messages: List[BaseMessage]\n",
        "    route:    Literal[\"rag\", \"answer\", \"end\"]\n",
        "    rag:      str\n",
        "    web:      str"
      ],
      "metadata": {
        "id": "q4IGtsldhXvn"
      },
      "execution_count": 95,
      "outputs": []
    },
    {
      "cell_type": "code",
      "source": [
        "#Node 1: decision/router\n",
        "\n",
        "def router_node(state: AgentState) -> AgentState:\n",
        "    query = next((m.content for m in reversed(state[\"messages\"])\n",
        "                  if isinstance(m, HumanMessage)), \"\")\n",
        "\n",
        "    # Use structured output properly - pass messages directly\n",
        "    messages = [\n",
        "        (\"system\", (\n",
        "            \"You are a router that decides how to handle user queries:\\n\"\n",
        "            \"- Use 'end' for pure greetings/small-talk (also provide a 'reply')\\n\"\n",
        "            \"- Use 'rag' when knowledge base lookup is needed\\n\"\n",
        "            \"- Use 'answer' when you can answer directly without external info\"\n",
        "        )),\n",
        "        (\"user\", query)\n",
        "    ]\n",
        "\n",
        "    result: RouteDecision = router_llm.invoke(messages)\n",
        "\n",
        "    out = {\"messages\": state[\"messages\"], \"route\": result.route}\n",
        "    if result.route == \"end\":\n",
        "        out[\"messages\"] = state[\"messages\"] + [AIMessage(content=result.reply or \"Hello!\")]\n",
        "    return out"
      ],
      "metadata": {
        "id": "n3hn2O39hbQG"
      },
      "execution_count": 96,
      "outputs": []
    },
    {
      "cell_type": "code",
      "source": [
        "# Node 2: RAG Lookup\n",
        "\n",
        "def rag_node(state: AgentState) -> AgentState:\n",
        "    query = next((m.content for m in reversed(state[\"messages\"])\n",
        "                  if isinstance(m, HumanMessage)), \"\")\n",
        "\n",
        "    chunks = rag_search_tool.invoke({\"query\": query})\n",
        "\n",
        "    # Use structured output to judge if RAG results are sufficient\n",
        "    judge_messages = [\n",
        "        (\"system\", (\n",
        "            \"You are a judge evaluating if the retrieved information is sufficient \"\n",
        "            \"to answer the user's question. Consider both relevance and completeness.\"\n",
        "        )),\n",
        "        (\"user\", f\"Question: {query}\\n\\nRetrieved info: {chunks}\\n\\nIs this sufficient to answer the question?\")\n",
        "    ]\n",
        "\n",
        "    verdict: RagJudge = judge_llm.invoke(judge_messages)\n",
        "\n",
        "    return {\n",
        "        **state,\n",
        "        \"rag\": chunks,\n",
        "        \"route\": \"answer\" if verdict.sufficient else \"web\"\n",
        "    }\n"
      ],
      "metadata": {
        "id": "lD8prlpphiUW"
      },
      "execution_count": 97,
      "outputs": []
    },
    {
      "cell_type": "code",
      "source": [
        "#Node 3: Web Search\n",
        "\n",
        "def web_node(state: AgentState) -> AgentState:\n",
        "    query = next((m.content for m in reversed(state[\"messages\"])\n",
        "                  if isinstance(m, HumanMessage)), \"\")\n",
        "    snippets = web_search_tool.invoke({\"query\": query})\n",
        "    return {**state, \"web\": snippets, \"route\": \"answer\"}\n"
      ],
      "metadata": {
        "id": "CjkixnQKhoj5"
      },
      "execution_count": 98,
      "outputs": []
    },
    {
      "cell_type": "code",
      "source": [
        "#Node 4: final answer\n",
        "\n",
        "def answer_node(state: AgentState) -> AgentState:\n",
        "    user_q = next((m.content for m in reversed(state[\"messages\"])\n",
        "                   if isinstance(m, HumanMessage)), \"\")\n",
        "\n",
        "    ctx_parts = []\n",
        "    if state.get(\"rag\"):\n",
        "        ctx_parts.append(\"Knowledge Base Information:\\n\" + state[\"rag\"])\n",
        "    if state.get(\"web\"):\n",
        "        ctx_parts.append(\"Web Search Results:\\n\" + state[\"web\"])\n",
        "\n",
        "    context = \"\\n\\n\".join(ctx_parts) if ctx_parts else \"No external context available.\"\n",
        "\n",
        "    prompt = f\"\"\"Please answer the user's question using the provided context.\n",
        "\n",
        "Question: {user_q}\n",
        "\n",
        "Context:\n",
        "{context}\n",
        "\n",
        "Provide a helpful, accurate, and concise response based on the available information.\"\"\"\n",
        "\n",
        "    ans = answer_llm.invoke([HumanMessage(content=prompt)]).content\n",
        "\n",
        "    return {\n",
        "        **state,\n",
        "        \"messages\": state[\"messages\"] + [AIMessage(content=ans)]\n",
        "    }\n"
      ],
      "metadata": {
        "id": "bn4iUc8NhxPq"
      },
      "execution_count": 99,
      "outputs": []
    },
    {
      "cell_type": "code",
      "source": [
        "#Routing helpers\n",
        "\n",
        "def from_router(st: AgentState) -> Literal[\"rag\", \"answer\", \"end\"]:\n",
        "    return st[\"route\"]\n",
        "\n",
        "def after_rag(st: AgentState) -> Literal[\"answer\", \"web\"]:\n",
        "    return st[\"route\"]\n",
        "\n",
        "def after_web(_) -> Literal[\"answer\"]:\n",
        "    return \"answer\"\n"
      ],
      "metadata": {
        "id": "JA3Q_UDqh5Ja"
      },
      "execution_count": 100,
      "outputs": []
    },
    {
      "cell_type": "code",
      "source": [
        "# Build graph\n",
        "\n",
        "g = StateGraph(AgentState)\n",
        "g.add_node(\"router\", router_node)\n",
        "g.add_node(\"rag_lookup\", rag_node)\n",
        "g.add_node(\"web_search\", web_node)\n",
        "g.add_node(\"answer\", answer_node)\n",
        "\n",
        "g.set_entry_point(\"router\")\n",
        "g.add_conditional_edges(\"router\", from_router,\n",
        "                        {\"rag\": \"rag_lookup\", \"answer\": \"answer\", \"end\": END})\n",
        "g.add_conditional_edges(\"rag_lookup\", after_rag,\n",
        "                        {\"answer\": \"answer\", \"web\": \"web_search\"})\n",
        "g.add_edge(\"web_search\",  \"answer\")\n",
        "g.add_edge(\"answer\", END)\n",
        "\n",
        "agent = g.compile(checkpointer=MemorySaver())"
      ],
      "metadata": {
        "id": "mnUnItKYh-kM"
      },
      "execution_count": 101,
      "outputs": []
    },
    {
      "cell_type": "code",
      "source": [
        "#CLI test\n",
        "\n",
        "if __name__ == \"__main__\":\n",
        "    config = {\"configurable\": {\"thread_id\": \"thread-12\"}}\n",
        "    print(\"RAG Agent CLI (type 'quit' or 'exit' to stop)\")\n",
        "    print(\"-\" * 50)\n",
        "\n",
        "    while True:\n",
        "        q = input(\"\\nYou: \").strip()\n",
        "        if q.lower() in {\"quit\", \"exit\"}:\n",
        "            break\n",
        "\n",
        "        try:\n",
        "            result = agent.invoke(\n",
        "                {\"messages\": [HumanMessage(content=q)]},\n",
        "                config=config\n",
        "            )\n",
        "\n",
        "            # Get the last AI message\n",
        "            last_message = next((m for m in reversed(result[\"messages\"])\n",
        "                               if isinstance(m, AIMessage)), None)\n",
        "\n",
        "            if last_message:\n",
        "                print(f\"Agent: {last_message.content}\")\n",
        "            else:\n",
        "                print(\"Agent: No response generated\")\n",
        "\n",
        "        except Exception as e:\n",
        "            print(f\"Error: {e}\")\n",
        "\n",
        "    print(\"\\nGoodbye!\")"
      ],
      "metadata": {
        "colab": {
          "base_uri": "https://localhost:8080/",
          "height": 463
        },
        "id": "NCbdOH7FiGtd",
        "outputId": "70f4ac55-9cdb-4ad7-fe11-59b178dd3bf2"
      },
      "execution_count": 102,
      "outputs": [
        {
          "output_type": "stream",
          "name": "stdout",
          "text": [
            "RAG Agent CLI (type 'quit' or 'exit' to stop)\n",
            "--------------------------------------------------\n",
            "\n",
            "You: why is AI important?\n",
            "Error: Error code: 402 - {'error': {'message': 'This request requires more credits, or fewer max_tokens. You requested up to 32768 tokens, but can only afford 571. To increase, visit https://openrouter.ai/settings/credits and upgrade to a paid account', 'code': 402, 'metadata': {'provider_name': None}}, 'user_id': 'user_32SObrnNoOgzc0TK8GDm92Gb1Mc'}\n"
          ]
        },
        {
          "output_type": "error",
          "ename": "KeyboardInterrupt",
          "evalue": "Interrupted by user",
          "traceback": [
            "\u001b[0;31m---------------------------------------------------------------------------\u001b[0m",
            "\u001b[0;31mKeyboardInterrupt\u001b[0m                         Traceback (most recent call last)",
            "\u001b[0;32m/tmp/ipython-input-2693476428.py\u001b[0m in \u001b[0;36m<cell line: 0>\u001b[0;34m()\u001b[0m\n\u001b[1;32m      7\u001b[0m \u001b[0;34m\u001b[0m\u001b[0m\n\u001b[1;32m      8\u001b[0m     \u001b[0;32mwhile\u001b[0m \u001b[0;32mTrue\u001b[0m\u001b[0;34m:\u001b[0m\u001b[0;34m\u001b[0m\u001b[0;34m\u001b[0m\u001b[0m\n\u001b[0;32m----> 9\u001b[0;31m         \u001b[0mq\u001b[0m \u001b[0;34m=\u001b[0m \u001b[0minput\u001b[0m\u001b[0;34m(\u001b[0m\u001b[0;34m\"\\nYou: \"\u001b[0m\u001b[0;34m)\u001b[0m\u001b[0;34m.\u001b[0m\u001b[0mstrip\u001b[0m\u001b[0;34m(\u001b[0m\u001b[0;34m)\u001b[0m\u001b[0;34m\u001b[0m\u001b[0;34m\u001b[0m\u001b[0m\n\u001b[0m\u001b[1;32m     10\u001b[0m         \u001b[0;32mif\u001b[0m \u001b[0mq\u001b[0m\u001b[0;34m.\u001b[0m\u001b[0mlower\u001b[0m\u001b[0;34m(\u001b[0m\u001b[0;34m)\u001b[0m \u001b[0;32min\u001b[0m \u001b[0;34m{\u001b[0m\u001b[0;34m\"quit\"\u001b[0m\u001b[0;34m,\u001b[0m \u001b[0;34m\"exit\"\u001b[0m\u001b[0;34m}\u001b[0m\u001b[0;34m:\u001b[0m\u001b[0;34m\u001b[0m\u001b[0;34m\u001b[0m\u001b[0m\n\u001b[1;32m     11\u001b[0m             \u001b[0;32mbreak\u001b[0m\u001b[0;34m\u001b[0m\u001b[0;34m\u001b[0m\u001b[0m\n",
            "\u001b[0;32m/usr/local/lib/python3.12/dist-packages/ipykernel/kernelbase.py\u001b[0m in \u001b[0;36mraw_input\u001b[0;34m(self, prompt)\u001b[0m\n\u001b[1;32m   1175\u001b[0m                 \u001b[0;34m\"raw_input was called, but this frontend does not support input requests.\"\u001b[0m\u001b[0;34m\u001b[0m\u001b[0;34m\u001b[0m\u001b[0m\n\u001b[1;32m   1176\u001b[0m             )\n\u001b[0;32m-> 1177\u001b[0;31m         return self._input_request(\n\u001b[0m\u001b[1;32m   1178\u001b[0m             \u001b[0mstr\u001b[0m\u001b[0;34m(\u001b[0m\u001b[0mprompt\u001b[0m\u001b[0;34m)\u001b[0m\u001b[0;34m,\u001b[0m\u001b[0;34m\u001b[0m\u001b[0;34m\u001b[0m\u001b[0m\n\u001b[1;32m   1179\u001b[0m             \u001b[0mself\u001b[0m\u001b[0;34m.\u001b[0m\u001b[0m_parent_ident\u001b[0m\u001b[0;34m[\u001b[0m\u001b[0;34m\"shell\"\u001b[0m\u001b[0;34m]\u001b[0m\u001b[0;34m,\u001b[0m\u001b[0;34m\u001b[0m\u001b[0;34m\u001b[0m\u001b[0m\n",
            "\u001b[0;32m/usr/local/lib/python3.12/dist-packages/ipykernel/kernelbase.py\u001b[0m in \u001b[0;36m_input_request\u001b[0;34m(self, prompt, ident, parent, password)\u001b[0m\n\u001b[1;32m   1217\u001b[0m             \u001b[0;32mexcept\u001b[0m \u001b[0mKeyboardInterrupt\u001b[0m\u001b[0;34m:\u001b[0m\u001b[0;34m\u001b[0m\u001b[0;34m\u001b[0m\u001b[0m\n\u001b[1;32m   1218\u001b[0m                 \u001b[0;31m# re-raise KeyboardInterrupt, to truncate traceback\u001b[0m\u001b[0;34m\u001b[0m\u001b[0;34m\u001b[0m\u001b[0m\n\u001b[0;32m-> 1219\u001b[0;31m                 \u001b[0;32mraise\u001b[0m \u001b[0mKeyboardInterrupt\u001b[0m\u001b[0;34m(\u001b[0m\u001b[0;34m\"Interrupted by user\"\u001b[0m\u001b[0;34m)\u001b[0m \u001b[0;32mfrom\u001b[0m \u001b[0;32mNone\u001b[0m\u001b[0;34m\u001b[0m\u001b[0;34m\u001b[0m\u001b[0m\n\u001b[0m\u001b[1;32m   1220\u001b[0m             \u001b[0;32mexcept\u001b[0m \u001b[0mException\u001b[0m\u001b[0;34m:\u001b[0m\u001b[0;34m\u001b[0m\u001b[0;34m\u001b[0m\u001b[0m\n\u001b[1;32m   1221\u001b[0m                 \u001b[0mself\u001b[0m\u001b[0;34m.\u001b[0m\u001b[0mlog\u001b[0m\u001b[0;34m.\u001b[0m\u001b[0mwarning\u001b[0m\u001b[0;34m(\u001b[0m\u001b[0;34m\"Invalid Message:\"\u001b[0m\u001b[0;34m,\u001b[0m \u001b[0mexc_info\u001b[0m\u001b[0;34m=\u001b[0m\u001b[0;32mTrue\u001b[0m\u001b[0;34m)\u001b[0m\u001b[0;34m\u001b[0m\u001b[0;34m\u001b[0m\u001b[0m\n",
            "\u001b[0;31mKeyboardInterrupt\u001b[0m: Interrupted by user"
          ]
        }
      ]
    }
  ]
}